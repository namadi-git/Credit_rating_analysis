{
 "cells": [
  {
   "cell_type": "markdown",
   "metadata": {},
   "source": [
    "# Analyzing borrowers’ risk of defaulting\n",
    "\n",
    "This is part of a project to prepare a report for a bank’s loan division. You’ll need to find out if a customer’s marital status and number of children has an impact on whether they will default on a loan. The bank already has some data on customers’ credit worthiness.\n",
    "\n",
    "Your report will be considered when building the **credit score** of a potential customer. The **credit score** is used to evaluate the ability of a potential borrower to repay their loan.\n",
    "\n",
    "**The objective of this project is to:**\n",
    "\n",
    "  * Prepare a report for a bank's loan division by analyze a borrower's risk of defaulting.\n",
    "  * Apply Data Preprocessing to a real-life analytical case study.\n",
    "___"
   ]
  },
  {
   "cell_type": "code",
   "execution_count": 1,
   "metadata": {},
   "outputs": [
    {
     "name": "stdout",
     "output_type": "stream",
     "text": [
      "Libraries loaded successfully!\n"
     ]
    }
   ],
   "source": [
    "# Loading all the libraries\n",
    "import numpy as np\n",
    "import pandas as pd\n",
    "\n",
    "#import imputer\n",
    "from sklearn.experimental import enable_iterative_imputer\n",
    "from sklearn.impute import IterativeImputer\n",
    "\n",
    "#import visualization package\n",
    "import matplotlib.pyplot as plt\n",
    "%matplotlib inline\n",
    "import seaborn as sns\n",
    "sns.set()\n",
    "\n",
    "print('Libraries loaded successfully!')\n"
   ]
  },
  {
   "cell_type": "code",
   "execution_count": 2,
   "metadata": {},
   "outputs": [
    {
     "data": {
      "text/html": [
       "<div>\n",
       "<style scoped>\n",
       "    .dataframe tbody tr th:only-of-type {\n",
       "        vertical-align: middle;\n",
       "    }\n",
       "\n",
       "    .dataframe tbody tr th {\n",
       "        vertical-align: top;\n",
       "    }\n",
       "\n",
       "    .dataframe thead th {\n",
       "        text-align: right;\n",
       "    }\n",
       "</style>\n",
       "<table border=\"1\" class=\"dataframe\">\n",
       "  <thead>\n",
       "    <tr style=\"text-align: right;\">\n",
       "      <th></th>\n",
       "      <th>children</th>\n",
       "      <th>days_employed</th>\n",
       "      <th>dob_years</th>\n",
       "      <th>education</th>\n",
       "      <th>education_id</th>\n",
       "      <th>family_status</th>\n",
       "      <th>family_status_id</th>\n",
       "      <th>gender</th>\n",
       "      <th>income_type</th>\n",
       "      <th>debt</th>\n",
       "      <th>total_income</th>\n",
       "      <th>purpose</th>\n",
       "    </tr>\n",
       "  </thead>\n",
       "  <tbody>\n",
       "    <tr>\n",
       "      <th>0</th>\n",
       "      <td>1</td>\n",
       "      <td>-8437.673028</td>\n",
       "      <td>42</td>\n",
       "      <td>bachelor's degree</td>\n",
       "      <td>0</td>\n",
       "      <td>married</td>\n",
       "      <td>0</td>\n",
       "      <td>F</td>\n",
       "      <td>employee</td>\n",
       "      <td>0</td>\n",
       "      <td>40620.102</td>\n",
       "      <td>purchase of the house</td>\n",
       "    </tr>\n",
       "    <tr>\n",
       "      <th>1</th>\n",
       "      <td>1</td>\n",
       "      <td>-4024.803754</td>\n",
       "      <td>36</td>\n",
       "      <td>secondary education</td>\n",
       "      <td>1</td>\n",
       "      <td>married</td>\n",
       "      <td>0</td>\n",
       "      <td>F</td>\n",
       "      <td>employee</td>\n",
       "      <td>0</td>\n",
       "      <td>17932.802</td>\n",
       "      <td>car purchase</td>\n",
       "    </tr>\n",
       "    <tr>\n",
       "      <th>2</th>\n",
       "      <td>0</td>\n",
       "      <td>-5623.422610</td>\n",
       "      <td>33</td>\n",
       "      <td>Secondary Education</td>\n",
       "      <td>1</td>\n",
       "      <td>married</td>\n",
       "      <td>0</td>\n",
       "      <td>M</td>\n",
       "      <td>employee</td>\n",
       "      <td>0</td>\n",
       "      <td>23341.752</td>\n",
       "      <td>purchase of the house</td>\n",
       "    </tr>\n",
       "    <tr>\n",
       "      <th>3</th>\n",
       "      <td>3</td>\n",
       "      <td>-4124.747207</td>\n",
       "      <td>32</td>\n",
       "      <td>secondary education</td>\n",
       "      <td>1</td>\n",
       "      <td>married</td>\n",
       "      <td>0</td>\n",
       "      <td>M</td>\n",
       "      <td>employee</td>\n",
       "      <td>0</td>\n",
       "      <td>42820.568</td>\n",
       "      <td>supplementary education</td>\n",
       "    </tr>\n",
       "    <tr>\n",
       "      <th>4</th>\n",
       "      <td>0</td>\n",
       "      <td>340266.072047</td>\n",
       "      <td>53</td>\n",
       "      <td>secondary education</td>\n",
       "      <td>1</td>\n",
       "      <td>civil partnership</td>\n",
       "      <td>1</td>\n",
       "      <td>F</td>\n",
       "      <td>retiree</td>\n",
       "      <td>0</td>\n",
       "      <td>25378.572</td>\n",
       "      <td>to have a wedding</td>\n",
       "    </tr>\n",
       "  </tbody>\n",
       "</table>\n",
       "</div>"
      ],
      "text/plain": [
       "   children  days_employed  dob_years            education  education_id  \\\n",
       "0         1   -8437.673028         42    bachelor's degree             0   \n",
       "1         1   -4024.803754         36  secondary education             1   \n",
       "2         0   -5623.422610         33  Secondary Education             1   \n",
       "3         3   -4124.747207         32  secondary education             1   \n",
       "4         0  340266.072047         53  secondary education             1   \n",
       "\n",
       "       family_status  family_status_id gender income_type  debt  total_income  \\\n",
       "0            married                 0      F    employee     0     40620.102   \n",
       "1            married                 0      F    employee     0     17932.802   \n",
       "2            married                 0      M    employee     0     23341.752   \n",
       "3            married                 0      M    employee     0     42820.568   \n",
       "4  civil partnership                 1      F     retiree     0     25378.572   \n",
       "\n",
       "                   purpose  \n",
       "0    purchase of the house  \n",
       "1             car purchase  \n",
       "2    purchase of the house  \n",
       "3  supplementary education  \n",
       "4        to have a wedding  "
      ]
     },
     "execution_count": 2,
     "metadata": {},
     "output_type": "execute_result"
    }
   ],
   "source": [
    "# Load the data\n",
    "df=pd.read_csv('credit_scoring_eng.csv')\n",
    "#duplicate data to keep original\n",
    "df_int=df\n",
    "\n",
    "df.head()"
   ]
  },
  {
   "cell_type": "markdown",
   "metadata": {},
   "source": [
    "**Description of the data**\n",
    "- `children` - the number of children in the family\n",
    "- `days_employed` - work experience in days\n",
    "- `dob_years` - client's age in years\n",
    "- `education` - client's education\n",
    "- `education_id` - education identifier\n",
    "- `family_status` - marital status\n",
    "- `family_status_id` - marital status identifier\n",
    "- `gender` - gender of the client\n",
    "- `income_type` - type of employment\n",
    "- `debt` - was there any debt on loan repayment\n",
    "- `total_income` - monthly income\n",
    "- `purpose` - the purpose of obtaining a loan\n",
    "\n"
   ]
  },
  {
   "cell_type": "markdown",
   "metadata": {},
   "source": [
    "### Data check\n"
   ]
  },
  {
   "cell_type": "code",
   "execution_count": 3,
   "metadata": {},
   "outputs": [
    {
     "data": {
      "text/plain": [
       "(21525, 12)"
      ]
     },
     "execution_count": 3,
     "metadata": {},
     "output_type": "execute_result"
    }
   ],
   "source": [
    "df.shape"
   ]
  },
  {
   "cell_type": "code",
   "execution_count": 4,
   "metadata": {},
   "outputs": [
    {
     "name": "stdout",
     "output_type": "stream",
     "text": [
      "<class 'pandas.core.frame.DataFrame'>\n",
      "RangeIndex: 21525 entries, 0 to 21524\n",
      "Data columns (total 12 columns):\n",
      " #   Column            Non-Null Count  Dtype  \n",
      "---  ------            --------------  -----  \n",
      " 0   children          21525 non-null  int64  \n",
      " 1   days_employed     19351 non-null  float64\n",
      " 2   dob_years         21525 non-null  int64  \n",
      " 3   education         21525 non-null  object \n",
      " 4   education_id      21525 non-null  int64  \n",
      " 5   family_status     21525 non-null  object \n",
      " 6   family_status_id  21525 non-null  int64  \n",
      " 7   gender            21525 non-null  object \n",
      " 8   income_type       21525 non-null  object \n",
      " 9   debt              21525 non-null  int64  \n",
      " 10  total_income      19351 non-null  float64\n",
      " 11  purpose           21525 non-null  object \n",
      "dtypes: float64(2), int64(5), object(5)\n",
      "memory usage: 2.0+ MB\n"
     ]
    }
   ],
   "source": [
    "df.info()"
   ]
  },
  {
   "cell_type": "code",
   "execution_count": 5,
   "metadata": {
    "scrolled": false
   },
   "outputs": [
    {
     "data": {
      "text/html": [
       "<div>\n",
       "<style scoped>\n",
       "    .dataframe tbody tr th:only-of-type {\n",
       "        vertical-align: middle;\n",
       "    }\n",
       "\n",
       "    .dataframe tbody tr th {\n",
       "        vertical-align: top;\n",
       "    }\n",
       "\n",
       "    .dataframe thead th {\n",
       "        text-align: right;\n",
       "    }\n",
       "</style>\n",
       "<table border=\"1\" class=\"dataframe\">\n",
       "  <thead>\n",
       "    <tr style=\"text-align: right;\">\n",
       "      <th></th>\n",
       "      <th>children</th>\n",
       "      <th>days_employed</th>\n",
       "      <th>dob_years</th>\n",
       "      <th>education</th>\n",
       "      <th>education_id</th>\n",
       "      <th>family_status</th>\n",
       "      <th>family_status_id</th>\n",
       "      <th>gender</th>\n",
       "      <th>income_type</th>\n",
       "      <th>debt</th>\n",
       "      <th>total_income</th>\n",
       "      <th>purpose</th>\n",
       "    </tr>\n",
       "  </thead>\n",
       "  <tbody>\n",
       "    <tr>\n",
       "      <th>count</th>\n",
       "      <td>21525.000000</td>\n",
       "      <td>19351.000000</td>\n",
       "      <td>21525.000000</td>\n",
       "      <td>21525</td>\n",
       "      <td>21525.000000</td>\n",
       "      <td>21525</td>\n",
       "      <td>21525.000000</td>\n",
       "      <td>21525</td>\n",
       "      <td>21525</td>\n",
       "      <td>21525.000000</td>\n",
       "      <td>19351.000000</td>\n",
       "      <td>21525</td>\n",
       "    </tr>\n",
       "    <tr>\n",
       "      <th>unique</th>\n",
       "      <td>NaN</td>\n",
       "      <td>NaN</td>\n",
       "      <td>NaN</td>\n",
       "      <td>15</td>\n",
       "      <td>NaN</td>\n",
       "      <td>5</td>\n",
       "      <td>NaN</td>\n",
       "      <td>3</td>\n",
       "      <td>8</td>\n",
       "      <td>NaN</td>\n",
       "      <td>NaN</td>\n",
       "      <td>38</td>\n",
       "    </tr>\n",
       "    <tr>\n",
       "      <th>top</th>\n",
       "      <td>NaN</td>\n",
       "      <td>NaN</td>\n",
       "      <td>NaN</td>\n",
       "      <td>secondary education</td>\n",
       "      <td>NaN</td>\n",
       "      <td>married</td>\n",
       "      <td>NaN</td>\n",
       "      <td>F</td>\n",
       "      <td>employee</td>\n",
       "      <td>NaN</td>\n",
       "      <td>NaN</td>\n",
       "      <td>wedding ceremony</td>\n",
       "    </tr>\n",
       "    <tr>\n",
       "      <th>freq</th>\n",
       "      <td>NaN</td>\n",
       "      <td>NaN</td>\n",
       "      <td>NaN</td>\n",
       "      <td>13750</td>\n",
       "      <td>NaN</td>\n",
       "      <td>12380</td>\n",
       "      <td>NaN</td>\n",
       "      <td>14236</td>\n",
       "      <td>11119</td>\n",
       "      <td>NaN</td>\n",
       "      <td>NaN</td>\n",
       "      <td>797</td>\n",
       "    </tr>\n",
       "    <tr>\n",
       "      <th>mean</th>\n",
       "      <td>0.538908</td>\n",
       "      <td>63046.497661</td>\n",
       "      <td>43.293380</td>\n",
       "      <td>NaN</td>\n",
       "      <td>0.817236</td>\n",
       "      <td>NaN</td>\n",
       "      <td>0.972544</td>\n",
       "      <td>NaN</td>\n",
       "      <td>NaN</td>\n",
       "      <td>0.080883</td>\n",
       "      <td>26787.568355</td>\n",
       "      <td>NaN</td>\n",
       "    </tr>\n",
       "    <tr>\n",
       "      <th>std</th>\n",
       "      <td>1.381587</td>\n",
       "      <td>140827.311974</td>\n",
       "      <td>12.574584</td>\n",
       "      <td>NaN</td>\n",
       "      <td>0.548138</td>\n",
       "      <td>NaN</td>\n",
       "      <td>1.420324</td>\n",
       "      <td>NaN</td>\n",
       "      <td>NaN</td>\n",
       "      <td>0.272661</td>\n",
       "      <td>16475.450632</td>\n",
       "      <td>NaN</td>\n",
       "    </tr>\n",
       "    <tr>\n",
       "      <th>min</th>\n",
       "      <td>-1.000000</td>\n",
       "      <td>-18388.949901</td>\n",
       "      <td>0.000000</td>\n",
       "      <td>NaN</td>\n",
       "      <td>0.000000</td>\n",
       "      <td>NaN</td>\n",
       "      <td>0.000000</td>\n",
       "      <td>NaN</td>\n",
       "      <td>NaN</td>\n",
       "      <td>0.000000</td>\n",
       "      <td>3306.762000</td>\n",
       "      <td>NaN</td>\n",
       "    </tr>\n",
       "    <tr>\n",
       "      <th>25%</th>\n",
       "      <td>0.000000</td>\n",
       "      <td>-2747.423625</td>\n",
       "      <td>33.000000</td>\n",
       "      <td>NaN</td>\n",
       "      <td>1.000000</td>\n",
       "      <td>NaN</td>\n",
       "      <td>0.000000</td>\n",
       "      <td>NaN</td>\n",
       "      <td>NaN</td>\n",
       "      <td>0.000000</td>\n",
       "      <td>16488.504500</td>\n",
       "      <td>NaN</td>\n",
       "    </tr>\n",
       "    <tr>\n",
       "      <th>50%</th>\n",
       "      <td>0.000000</td>\n",
       "      <td>-1203.369529</td>\n",
       "      <td>42.000000</td>\n",
       "      <td>NaN</td>\n",
       "      <td>1.000000</td>\n",
       "      <td>NaN</td>\n",
       "      <td>0.000000</td>\n",
       "      <td>NaN</td>\n",
       "      <td>NaN</td>\n",
       "      <td>0.000000</td>\n",
       "      <td>23202.870000</td>\n",
       "      <td>NaN</td>\n",
       "    </tr>\n",
       "    <tr>\n",
       "      <th>75%</th>\n",
       "      <td>1.000000</td>\n",
       "      <td>-291.095954</td>\n",
       "      <td>53.000000</td>\n",
       "      <td>NaN</td>\n",
       "      <td>1.000000</td>\n",
       "      <td>NaN</td>\n",
       "      <td>1.000000</td>\n",
       "      <td>NaN</td>\n",
       "      <td>NaN</td>\n",
       "      <td>0.000000</td>\n",
       "      <td>32549.611000</td>\n",
       "      <td>NaN</td>\n",
       "    </tr>\n",
       "    <tr>\n",
       "      <th>max</th>\n",
       "      <td>20.000000</td>\n",
       "      <td>401755.400475</td>\n",
       "      <td>75.000000</td>\n",
       "      <td>NaN</td>\n",
       "      <td>4.000000</td>\n",
       "      <td>NaN</td>\n",
       "      <td>4.000000</td>\n",
       "      <td>NaN</td>\n",
       "      <td>NaN</td>\n",
       "      <td>1.000000</td>\n",
       "      <td>362496.645000</td>\n",
       "      <td>NaN</td>\n",
       "    </tr>\n",
       "  </tbody>\n",
       "</table>\n",
       "</div>"
      ],
      "text/plain": [
       "            children  days_employed     dob_years            education  \\\n",
       "count   21525.000000   19351.000000  21525.000000                21525   \n",
       "unique           NaN            NaN           NaN                   15   \n",
       "top              NaN            NaN           NaN  secondary education   \n",
       "freq             NaN            NaN           NaN                13750   \n",
       "mean        0.538908   63046.497661     43.293380                  NaN   \n",
       "std         1.381587  140827.311974     12.574584                  NaN   \n",
       "min        -1.000000  -18388.949901      0.000000                  NaN   \n",
       "25%         0.000000   -2747.423625     33.000000                  NaN   \n",
       "50%         0.000000   -1203.369529     42.000000                  NaN   \n",
       "75%         1.000000    -291.095954     53.000000                  NaN   \n",
       "max        20.000000  401755.400475     75.000000                  NaN   \n",
       "\n",
       "        education_id family_status  family_status_id gender income_type  \\\n",
       "count   21525.000000         21525      21525.000000  21525       21525   \n",
       "unique           NaN             5               NaN      3           8   \n",
       "top              NaN       married               NaN      F    employee   \n",
       "freq             NaN         12380               NaN  14236       11119   \n",
       "mean        0.817236           NaN          0.972544    NaN         NaN   \n",
       "std         0.548138           NaN          1.420324    NaN         NaN   \n",
       "min         0.000000           NaN          0.000000    NaN         NaN   \n",
       "25%         1.000000           NaN          0.000000    NaN         NaN   \n",
       "50%         1.000000           NaN          0.000000    NaN         NaN   \n",
       "75%         1.000000           NaN          1.000000    NaN         NaN   \n",
       "max         4.000000           NaN          4.000000    NaN         NaN   \n",
       "\n",
       "                debt   total_income           purpose  \n",
       "count   21525.000000   19351.000000             21525  \n",
       "unique           NaN            NaN                38  \n",
       "top              NaN            NaN  wedding ceremony  \n",
       "freq             NaN            NaN               797  \n",
       "mean        0.080883   26787.568355               NaN  \n",
       "std         0.272661   16475.450632               NaN  \n",
       "min         0.000000    3306.762000               NaN  \n",
       "25%         0.000000   16488.504500               NaN  \n",
       "50%         0.000000   23202.870000               NaN  \n",
       "75%         0.000000   32549.611000               NaN  \n",
       "max         1.000000  362496.645000               NaN  "
      ]
     },
     "execution_count": 5,
     "metadata": {},
     "output_type": "execute_result"
    }
   ],
   "source": [
    "df.describe(include='all')"
   ]
  },
  {
   "cell_type": "markdown",
   "metadata": {},
   "source": [
    "From the initial look at the data we notice some data quality issues:\n",
    "  * Minimum number of children is -1, this is unrealistic\n",
    "  * Days employed and number of children has some negative values\n",
    "  * Minimum age is 0\n",
    "  * Missing values in the days_employed and total_income columns\n",
    "  \n",
    "The data will need preprocess and further analysis to improve quality"
   ]
  },
  {
   "cell_type": "markdown",
   "metadata": {},
   "source": [
    "### Data Preprocessing"
   ]
  },
  {
   "cell_type": "markdown",
   "metadata": {},
   "source": [
    "#### Check for duplicate data"
   ]
  },
  {
   "cell_type": "code",
   "execution_count": 6,
   "metadata": {},
   "outputs": [
    {
     "data": {
      "text/plain": [
       "54"
      ]
     },
     "execution_count": 6,
     "metadata": {},
     "output_type": "execute_result"
    }
   ],
   "source": [
    "#number of duplicate rows\n",
    "df.duplicated().sum()"
   ]
  },
  {
   "cell_type": "code",
   "execution_count": 7,
   "metadata": {},
   "outputs": [
    {
     "data": {
      "text/html": [
       "<div>\n",
       "<style scoped>\n",
       "    .dataframe tbody tr th:only-of-type {\n",
       "        vertical-align: middle;\n",
       "    }\n",
       "\n",
       "    .dataframe tbody tr th {\n",
       "        vertical-align: top;\n",
       "    }\n",
       "\n",
       "    .dataframe thead th {\n",
       "        text-align: right;\n",
       "    }\n",
       "</style>\n",
       "<table border=\"1\" class=\"dataframe\">\n",
       "  <thead>\n",
       "    <tr style=\"text-align: right;\">\n",
       "      <th></th>\n",
       "      <th>children</th>\n",
       "      <th>days_employed</th>\n",
       "      <th>dob_years</th>\n",
       "      <th>education</th>\n",
       "      <th>education_id</th>\n",
       "      <th>family_status</th>\n",
       "      <th>family_status_id</th>\n",
       "      <th>gender</th>\n",
       "      <th>income_type</th>\n",
       "      <th>debt</th>\n",
       "      <th>total_income</th>\n",
       "      <th>purpose</th>\n",
       "    </tr>\n",
       "  </thead>\n",
       "  <tbody>\n",
       "    <tr>\n",
       "      <th>2849</th>\n",
       "      <td>0</td>\n",
       "      <td>NaN</td>\n",
       "      <td>41</td>\n",
       "      <td>secondary education</td>\n",
       "      <td>1</td>\n",
       "      <td>married</td>\n",
       "      <td>0</td>\n",
       "      <td>F</td>\n",
       "      <td>employee</td>\n",
       "      <td>0</td>\n",
       "      <td>NaN</td>\n",
       "      <td>purchase of the house for my family</td>\n",
       "    </tr>\n",
       "    <tr>\n",
       "      <th>4182</th>\n",
       "      <td>1</td>\n",
       "      <td>NaN</td>\n",
       "      <td>34</td>\n",
       "      <td>BACHELOR'S DEGREE</td>\n",
       "      <td>0</td>\n",
       "      <td>civil partnership</td>\n",
       "      <td>1</td>\n",
       "      <td>F</td>\n",
       "      <td>employee</td>\n",
       "      <td>0</td>\n",
       "      <td>NaN</td>\n",
       "      <td>wedding ceremony</td>\n",
       "    </tr>\n",
       "    <tr>\n",
       "      <th>4851</th>\n",
       "      <td>0</td>\n",
       "      <td>NaN</td>\n",
       "      <td>60</td>\n",
       "      <td>secondary education</td>\n",
       "      <td>1</td>\n",
       "      <td>civil partnership</td>\n",
       "      <td>1</td>\n",
       "      <td>F</td>\n",
       "      <td>retiree</td>\n",
       "      <td>0</td>\n",
       "      <td>NaN</td>\n",
       "      <td>wedding ceremony</td>\n",
       "    </tr>\n",
       "    <tr>\n",
       "      <th>5557</th>\n",
       "      <td>0</td>\n",
       "      <td>NaN</td>\n",
       "      <td>58</td>\n",
       "      <td>secondary education</td>\n",
       "      <td>1</td>\n",
       "      <td>civil partnership</td>\n",
       "      <td>1</td>\n",
       "      <td>F</td>\n",
       "      <td>retiree</td>\n",
       "      <td>0</td>\n",
       "      <td>NaN</td>\n",
       "      <td>to have a wedding</td>\n",
       "    </tr>\n",
       "    <tr>\n",
       "      <th>7808</th>\n",
       "      <td>0</td>\n",
       "      <td>NaN</td>\n",
       "      <td>57</td>\n",
       "      <td>secondary education</td>\n",
       "      <td>1</td>\n",
       "      <td>civil partnership</td>\n",
       "      <td>1</td>\n",
       "      <td>F</td>\n",
       "      <td>retiree</td>\n",
       "      <td>0</td>\n",
       "      <td>NaN</td>\n",
       "      <td>having a wedding</td>\n",
       "    </tr>\n",
       "    <tr>\n",
       "      <th>8583</th>\n",
       "      <td>0</td>\n",
       "      <td>NaN</td>\n",
       "      <td>58</td>\n",
       "      <td>bachelor's degree</td>\n",
       "      <td>0</td>\n",
       "      <td>unmarried</td>\n",
       "      <td>4</td>\n",
       "      <td>F</td>\n",
       "      <td>retiree</td>\n",
       "      <td>0</td>\n",
       "      <td>NaN</td>\n",
       "      <td>supplementary education</td>\n",
       "    </tr>\n",
       "    <tr>\n",
       "      <th>9238</th>\n",
       "      <td>2</td>\n",
       "      <td>NaN</td>\n",
       "      <td>34</td>\n",
       "      <td>secondary education</td>\n",
       "      <td>1</td>\n",
       "      <td>married</td>\n",
       "      <td>0</td>\n",
       "      <td>F</td>\n",
       "      <td>employee</td>\n",
       "      <td>0</td>\n",
       "      <td>NaN</td>\n",
       "      <td>buying property for renting out</td>\n",
       "    </tr>\n",
       "    <tr>\n",
       "      <th>9528</th>\n",
       "      <td>0</td>\n",
       "      <td>NaN</td>\n",
       "      <td>66</td>\n",
       "      <td>secondary education</td>\n",
       "      <td>1</td>\n",
       "      <td>widow / widower</td>\n",
       "      <td>2</td>\n",
       "      <td>F</td>\n",
       "      <td>retiree</td>\n",
       "      <td>0</td>\n",
       "      <td>NaN</td>\n",
       "      <td>transactions with my real estate</td>\n",
       "    </tr>\n",
       "    <tr>\n",
       "      <th>9627</th>\n",
       "      <td>0</td>\n",
       "      <td>NaN</td>\n",
       "      <td>56</td>\n",
       "      <td>secondary education</td>\n",
       "      <td>1</td>\n",
       "      <td>married</td>\n",
       "      <td>0</td>\n",
       "      <td>F</td>\n",
       "      <td>retiree</td>\n",
       "      <td>0</td>\n",
       "      <td>NaN</td>\n",
       "      <td>transactions with my real estate</td>\n",
       "    </tr>\n",
       "    <tr>\n",
       "      <th>10462</th>\n",
       "      <td>0</td>\n",
       "      <td>NaN</td>\n",
       "      <td>62</td>\n",
       "      <td>secondary education</td>\n",
       "      <td>1</td>\n",
       "      <td>married</td>\n",
       "      <td>0</td>\n",
       "      <td>F</td>\n",
       "      <td>retiree</td>\n",
       "      <td>0</td>\n",
       "      <td>NaN</td>\n",
       "      <td>buy commercial real estate</td>\n",
       "    </tr>\n",
       "    <tr>\n",
       "      <th>10697</th>\n",
       "      <td>0</td>\n",
       "      <td>NaN</td>\n",
       "      <td>40</td>\n",
       "      <td>secondary education</td>\n",
       "      <td>1</td>\n",
       "      <td>civil partnership</td>\n",
       "      <td>1</td>\n",
       "      <td>F</td>\n",
       "      <td>business</td>\n",
       "      <td>0</td>\n",
       "      <td>NaN</td>\n",
       "      <td>to have a wedding</td>\n",
       "    </tr>\n",
       "    <tr>\n",
       "      <th>10864</th>\n",
       "      <td>0</td>\n",
       "      <td>NaN</td>\n",
       "      <td>62</td>\n",
       "      <td>secondary education</td>\n",
       "      <td>1</td>\n",
       "      <td>married</td>\n",
       "      <td>0</td>\n",
       "      <td>F</td>\n",
       "      <td>retiree</td>\n",
       "      <td>0</td>\n",
       "      <td>NaN</td>\n",
       "      <td>housing renovation</td>\n",
       "    </tr>\n",
       "    <tr>\n",
       "      <th>10994</th>\n",
       "      <td>0</td>\n",
       "      <td>NaN</td>\n",
       "      <td>62</td>\n",
       "      <td>secondary education</td>\n",
       "      <td>1</td>\n",
       "      <td>married</td>\n",
       "      <td>0</td>\n",
       "      <td>F</td>\n",
       "      <td>retiree</td>\n",
       "      <td>0</td>\n",
       "      <td>NaN</td>\n",
       "      <td>housing renovation</td>\n",
       "    </tr>\n",
       "    <tr>\n",
       "      <th>11791</th>\n",
       "      <td>0</td>\n",
       "      <td>NaN</td>\n",
       "      <td>47</td>\n",
       "      <td>secondary education</td>\n",
       "      <td>1</td>\n",
       "      <td>married</td>\n",
       "      <td>0</td>\n",
       "      <td>F</td>\n",
       "      <td>employee</td>\n",
       "      <td>0</td>\n",
       "      <td>NaN</td>\n",
       "      <td>building a property</td>\n",
       "    </tr>\n",
       "    <tr>\n",
       "      <th>12373</th>\n",
       "      <td>0</td>\n",
       "      <td>NaN</td>\n",
       "      <td>58</td>\n",
       "      <td>secondary education</td>\n",
       "      <td>1</td>\n",
       "      <td>married</td>\n",
       "      <td>0</td>\n",
       "      <td>M</td>\n",
       "      <td>employee</td>\n",
       "      <td>0</td>\n",
       "      <td>NaN</td>\n",
       "      <td>buy real estate</td>\n",
       "    </tr>\n",
       "    <tr>\n",
       "      <th>12375</th>\n",
       "      <td>1</td>\n",
       "      <td>NaN</td>\n",
       "      <td>37</td>\n",
       "      <td>secondary education</td>\n",
       "      <td>1</td>\n",
       "      <td>married</td>\n",
       "      <td>0</td>\n",
       "      <td>F</td>\n",
       "      <td>employee</td>\n",
       "      <td>0</td>\n",
       "      <td>NaN</td>\n",
       "      <td>buy real estate</td>\n",
       "    </tr>\n",
       "    <tr>\n",
       "      <th>12736</th>\n",
       "      <td>0</td>\n",
       "      <td>NaN</td>\n",
       "      <td>59</td>\n",
       "      <td>secondary education</td>\n",
       "      <td>1</td>\n",
       "      <td>married</td>\n",
       "      <td>0</td>\n",
       "      <td>F</td>\n",
       "      <td>retiree</td>\n",
       "      <td>0</td>\n",
       "      <td>NaN</td>\n",
       "      <td>to become educated</td>\n",
       "    </tr>\n",
       "    <tr>\n",
       "      <th>13025</th>\n",
       "      <td>1</td>\n",
       "      <td>NaN</td>\n",
       "      <td>44</td>\n",
       "      <td>secondary education</td>\n",
       "      <td>1</td>\n",
       "      <td>married</td>\n",
       "      <td>0</td>\n",
       "      <td>F</td>\n",
       "      <td>employee</td>\n",
       "      <td>0</td>\n",
       "      <td>NaN</td>\n",
       "      <td>second-hand car purchase</td>\n",
       "    </tr>\n",
       "    <tr>\n",
       "      <th>13639</th>\n",
       "      <td>0</td>\n",
       "      <td>NaN</td>\n",
       "      <td>64</td>\n",
       "      <td>secondary education</td>\n",
       "      <td>1</td>\n",
       "      <td>married</td>\n",
       "      <td>0</td>\n",
       "      <td>F</td>\n",
       "      <td>retiree</td>\n",
       "      <td>0</td>\n",
       "      <td>NaN</td>\n",
       "      <td>car</td>\n",
       "    </tr>\n",
       "    <tr>\n",
       "      <th>13773</th>\n",
       "      <td>0</td>\n",
       "      <td>NaN</td>\n",
       "      <td>35</td>\n",
       "      <td>secondary education</td>\n",
       "      <td>1</td>\n",
       "      <td>civil partnership</td>\n",
       "      <td>1</td>\n",
       "      <td>F</td>\n",
       "      <td>employee</td>\n",
       "      <td>0</td>\n",
       "      <td>NaN</td>\n",
       "      <td>to have a wedding</td>\n",
       "    </tr>\n",
       "    <tr>\n",
       "      <th>13878</th>\n",
       "      <td>1</td>\n",
       "      <td>NaN</td>\n",
       "      <td>31</td>\n",
       "      <td>secondary education</td>\n",
       "      <td>1</td>\n",
       "      <td>married</td>\n",
       "      <td>0</td>\n",
       "      <td>F</td>\n",
       "      <td>business</td>\n",
       "      <td>0</td>\n",
       "      <td>NaN</td>\n",
       "      <td>purchase of the house</td>\n",
       "    </tr>\n",
       "    <tr>\n",
       "      <th>13942</th>\n",
       "      <td>0</td>\n",
       "      <td>NaN</td>\n",
       "      <td>44</td>\n",
       "      <td>secondary education</td>\n",
       "      <td>1</td>\n",
       "      <td>married</td>\n",
       "      <td>0</td>\n",
       "      <td>F</td>\n",
       "      <td>employee</td>\n",
       "      <td>0</td>\n",
       "      <td>NaN</td>\n",
       "      <td>car purchase</td>\n",
       "    </tr>\n",
       "    <tr>\n",
       "      <th>14432</th>\n",
       "      <td>2</td>\n",
       "      <td>NaN</td>\n",
       "      <td>36</td>\n",
       "      <td>bachelor's degree</td>\n",
       "      <td>0</td>\n",
       "      <td>married</td>\n",
       "      <td>0</td>\n",
       "      <td>F</td>\n",
       "      <td>civil servant</td>\n",
       "      <td>0</td>\n",
       "      <td>NaN</td>\n",
       "      <td>getting an education</td>\n",
       "    </tr>\n",
       "    <tr>\n",
       "      <th>14832</th>\n",
       "      <td>0</td>\n",
       "      <td>NaN</td>\n",
       "      <td>50</td>\n",
       "      <td>secondary education</td>\n",
       "      <td>1</td>\n",
       "      <td>unmarried</td>\n",
       "      <td>4</td>\n",
       "      <td>F</td>\n",
       "      <td>employee</td>\n",
       "      <td>0</td>\n",
       "      <td>NaN</td>\n",
       "      <td>property</td>\n",
       "    </tr>\n",
       "    <tr>\n",
       "      <th>15091</th>\n",
       "      <td>0</td>\n",
       "      <td>NaN</td>\n",
       "      <td>58</td>\n",
       "      <td>secondary education</td>\n",
       "      <td>1</td>\n",
       "      <td>civil partnership</td>\n",
       "      <td>1</td>\n",
       "      <td>M</td>\n",
       "      <td>employee</td>\n",
       "      <td>0</td>\n",
       "      <td>NaN</td>\n",
       "      <td>having a wedding</td>\n",
       "    </tr>\n",
       "    <tr>\n",
       "      <th>15188</th>\n",
       "      <td>0</td>\n",
       "      <td>NaN</td>\n",
       "      <td>60</td>\n",
       "      <td>secondary education</td>\n",
       "      <td>1</td>\n",
       "      <td>married</td>\n",
       "      <td>0</td>\n",
       "      <td>M</td>\n",
       "      <td>employee</td>\n",
       "      <td>0</td>\n",
       "      <td>NaN</td>\n",
       "      <td>buy real estate</td>\n",
       "    </tr>\n",
       "    <tr>\n",
       "      <th>15273</th>\n",
       "      <td>0</td>\n",
       "      <td>NaN</td>\n",
       "      <td>57</td>\n",
       "      <td>secondary education</td>\n",
       "      <td>1</td>\n",
       "      <td>civil partnership</td>\n",
       "      <td>1</td>\n",
       "      <td>F</td>\n",
       "      <td>retiree</td>\n",
       "      <td>0</td>\n",
       "      <td>NaN</td>\n",
       "      <td>wedding ceremony</td>\n",
       "    </tr>\n",
       "    <tr>\n",
       "      <th>16176</th>\n",
       "      <td>0</td>\n",
       "      <td>NaN</td>\n",
       "      <td>47</td>\n",
       "      <td>secondary education</td>\n",
       "      <td>1</td>\n",
       "      <td>married</td>\n",
       "      <td>0</td>\n",
       "      <td>F</td>\n",
       "      <td>employee</td>\n",
       "      <td>0</td>\n",
       "      <td>NaN</td>\n",
       "      <td>housing renovation</td>\n",
       "    </tr>\n",
       "    <tr>\n",
       "      <th>16378</th>\n",
       "      <td>0</td>\n",
       "      <td>NaN</td>\n",
       "      <td>46</td>\n",
       "      <td>secondary education</td>\n",
       "      <td>1</td>\n",
       "      <td>married</td>\n",
       "      <td>0</td>\n",
       "      <td>F</td>\n",
       "      <td>employee</td>\n",
       "      <td>0</td>\n",
       "      <td>NaN</td>\n",
       "      <td>university education</td>\n",
       "    </tr>\n",
       "    <tr>\n",
       "      <th>16902</th>\n",
       "      <td>2</td>\n",
       "      <td>NaN</td>\n",
       "      <td>39</td>\n",
       "      <td>secondary education</td>\n",
       "      <td>1</td>\n",
       "      <td>civil partnership</td>\n",
       "      <td>1</td>\n",
       "      <td>F</td>\n",
       "      <td>employee</td>\n",
       "      <td>0</td>\n",
       "      <td>NaN</td>\n",
       "      <td>to have a wedding</td>\n",
       "    </tr>\n",
       "    <tr>\n",
       "      <th>16904</th>\n",
       "      <td>1</td>\n",
       "      <td>NaN</td>\n",
       "      <td>32</td>\n",
       "      <td>bachelor's degree</td>\n",
       "      <td>0</td>\n",
       "      <td>married</td>\n",
       "      <td>0</td>\n",
       "      <td>F</td>\n",
       "      <td>employee</td>\n",
       "      <td>0</td>\n",
       "      <td>NaN</td>\n",
       "      <td>buying a second-hand car</td>\n",
       "    </tr>\n",
       "    <tr>\n",
       "      <th>17379</th>\n",
       "      <td>0</td>\n",
       "      <td>NaN</td>\n",
       "      <td>54</td>\n",
       "      <td>bachelor's degree</td>\n",
       "      <td>0</td>\n",
       "      <td>married</td>\n",
       "      <td>0</td>\n",
       "      <td>M</td>\n",
       "      <td>business</td>\n",
       "      <td>0</td>\n",
       "      <td>NaN</td>\n",
       "      <td>transactions with commercial real estate</td>\n",
       "    </tr>\n",
       "    <tr>\n",
       "      <th>17755</th>\n",
       "      <td>1</td>\n",
       "      <td>NaN</td>\n",
       "      <td>43</td>\n",
       "      <td>secondary education</td>\n",
       "      <td>1</td>\n",
       "      <td>married</td>\n",
       "      <td>0</td>\n",
       "      <td>M</td>\n",
       "      <td>employee</td>\n",
       "      <td>0</td>\n",
       "      <td>NaN</td>\n",
       "      <td>to become educated</td>\n",
       "    </tr>\n",
       "    <tr>\n",
       "      <th>17774</th>\n",
       "      <td>1</td>\n",
       "      <td>NaN</td>\n",
       "      <td>40</td>\n",
       "      <td>secondary education</td>\n",
       "      <td>1</td>\n",
       "      <td>civil partnership</td>\n",
       "      <td>1</td>\n",
       "      <td>F</td>\n",
       "      <td>business</td>\n",
       "      <td>0</td>\n",
       "      <td>NaN</td>\n",
       "      <td>building a real estate</td>\n",
       "    </tr>\n",
       "    <tr>\n",
       "      <th>18328</th>\n",
       "      <td>0</td>\n",
       "      <td>NaN</td>\n",
       "      <td>29</td>\n",
       "      <td>bachelor's degree</td>\n",
       "      <td>0</td>\n",
       "      <td>married</td>\n",
       "      <td>0</td>\n",
       "      <td>M</td>\n",
       "      <td>employee</td>\n",
       "      <td>0</td>\n",
       "      <td>NaN</td>\n",
       "      <td>buy residential real estate</td>\n",
       "    </tr>\n",
       "    <tr>\n",
       "      <th>18349</th>\n",
       "      <td>1</td>\n",
       "      <td>NaN</td>\n",
       "      <td>30</td>\n",
       "      <td>bachelor's degree</td>\n",
       "      <td>0</td>\n",
       "      <td>married</td>\n",
       "      <td>0</td>\n",
       "      <td>F</td>\n",
       "      <td>civil servant</td>\n",
       "      <td>0</td>\n",
       "      <td>NaN</td>\n",
       "      <td>purchase of the house for my family</td>\n",
       "    </tr>\n",
       "    <tr>\n",
       "      <th>18428</th>\n",
       "      <td>0</td>\n",
       "      <td>NaN</td>\n",
       "      <td>64</td>\n",
       "      <td>secondary education</td>\n",
       "      <td>1</td>\n",
       "      <td>married</td>\n",
       "      <td>0</td>\n",
       "      <td>F</td>\n",
       "      <td>retiree</td>\n",
       "      <td>0</td>\n",
       "      <td>NaN</td>\n",
       "      <td>housing</td>\n",
       "    </tr>\n",
       "    <tr>\n",
       "      <th>18521</th>\n",
       "      <td>0</td>\n",
       "      <td>NaN</td>\n",
       "      <td>56</td>\n",
       "      <td>secondary education</td>\n",
       "      <td>1</td>\n",
       "      <td>civil partnership</td>\n",
       "      <td>1</td>\n",
       "      <td>F</td>\n",
       "      <td>employee</td>\n",
       "      <td>0</td>\n",
       "      <td>NaN</td>\n",
       "      <td>to have a wedding</td>\n",
       "    </tr>\n",
       "    <tr>\n",
       "      <th>18563</th>\n",
       "      <td>0</td>\n",
       "      <td>NaN</td>\n",
       "      <td>54</td>\n",
       "      <td>secondary education</td>\n",
       "      <td>1</td>\n",
       "      <td>married</td>\n",
       "      <td>0</td>\n",
       "      <td>F</td>\n",
       "      <td>employee</td>\n",
       "      <td>0</td>\n",
       "      <td>NaN</td>\n",
       "      <td>transactions with my real estate</td>\n",
       "    </tr>\n",
       "    <tr>\n",
       "      <th>18755</th>\n",
       "      <td>0</td>\n",
       "      <td>NaN</td>\n",
       "      <td>58</td>\n",
       "      <td>secondary education</td>\n",
       "      <td>1</td>\n",
       "      <td>married</td>\n",
       "      <td>0</td>\n",
       "      <td>F</td>\n",
       "      <td>retiree</td>\n",
       "      <td>0</td>\n",
       "      <td>NaN</td>\n",
       "      <td>to become educated</td>\n",
       "    </tr>\n",
       "    <tr>\n",
       "      <th>19041</th>\n",
       "      <td>0</td>\n",
       "      <td>NaN</td>\n",
       "      <td>56</td>\n",
       "      <td>secondary education</td>\n",
       "      <td>1</td>\n",
       "      <td>civil partnership</td>\n",
       "      <td>1</td>\n",
       "      <td>F</td>\n",
       "      <td>employee</td>\n",
       "      <td>0</td>\n",
       "      <td>NaN</td>\n",
       "      <td>having a wedding</td>\n",
       "    </tr>\n",
       "    <tr>\n",
       "      <th>19184</th>\n",
       "      <td>0</td>\n",
       "      <td>NaN</td>\n",
       "      <td>46</td>\n",
       "      <td>secondary education</td>\n",
       "      <td>1</td>\n",
       "      <td>married</td>\n",
       "      <td>0</td>\n",
       "      <td>F</td>\n",
       "      <td>employee</td>\n",
       "      <td>0</td>\n",
       "      <td>NaN</td>\n",
       "      <td>to own a car</td>\n",
       "    </tr>\n",
       "    <tr>\n",
       "      <th>19321</th>\n",
       "      <td>0</td>\n",
       "      <td>NaN</td>\n",
       "      <td>23</td>\n",
       "      <td>secondary education</td>\n",
       "      <td>1</td>\n",
       "      <td>unmarried</td>\n",
       "      <td>4</td>\n",
       "      <td>F</td>\n",
       "      <td>employee</td>\n",
       "      <td>0</td>\n",
       "      <td>NaN</td>\n",
       "      <td>second-hand car purchase</td>\n",
       "    </tr>\n",
       "    <tr>\n",
       "      <th>19387</th>\n",
       "      <td>0</td>\n",
       "      <td>NaN</td>\n",
       "      <td>38</td>\n",
       "      <td>bachelor's degree</td>\n",
       "      <td>0</td>\n",
       "      <td>civil partnership</td>\n",
       "      <td>1</td>\n",
       "      <td>F</td>\n",
       "      <td>business</td>\n",
       "      <td>0</td>\n",
       "      <td>NaN</td>\n",
       "      <td>having a wedding</td>\n",
       "    </tr>\n",
       "    <tr>\n",
       "      <th>19688</th>\n",
       "      <td>0</td>\n",
       "      <td>NaN</td>\n",
       "      <td>61</td>\n",
       "      <td>secondary education</td>\n",
       "      <td>1</td>\n",
       "      <td>married</td>\n",
       "      <td>0</td>\n",
       "      <td>F</td>\n",
       "      <td>retiree</td>\n",
       "      <td>0</td>\n",
       "      <td>NaN</td>\n",
       "      <td>real estate transactions</td>\n",
       "    </tr>\n",
       "    <tr>\n",
       "      <th>19832</th>\n",
       "      <td>0</td>\n",
       "      <td>NaN</td>\n",
       "      <td>48</td>\n",
       "      <td>secondary education</td>\n",
       "      <td>1</td>\n",
       "      <td>married</td>\n",
       "      <td>0</td>\n",
       "      <td>F</td>\n",
       "      <td>employee</td>\n",
       "      <td>0</td>\n",
       "      <td>NaN</td>\n",
       "      <td>housing renovation</td>\n",
       "    </tr>\n",
       "    <tr>\n",
       "      <th>19946</th>\n",
       "      <td>0</td>\n",
       "      <td>NaN</td>\n",
       "      <td>57</td>\n",
       "      <td>secondary education</td>\n",
       "      <td>1</td>\n",
       "      <td>married</td>\n",
       "      <td>0</td>\n",
       "      <td>F</td>\n",
       "      <td>employee</td>\n",
       "      <td>0</td>\n",
       "      <td>NaN</td>\n",
       "      <td>second-hand car purchase</td>\n",
       "    </tr>\n",
       "    <tr>\n",
       "      <th>20116</th>\n",
       "      <td>0</td>\n",
       "      <td>NaN</td>\n",
       "      <td>57</td>\n",
       "      <td>secondary education</td>\n",
       "      <td>1</td>\n",
       "      <td>civil partnership</td>\n",
       "      <td>1</td>\n",
       "      <td>M</td>\n",
       "      <td>retiree</td>\n",
       "      <td>0</td>\n",
       "      <td>NaN</td>\n",
       "      <td>wedding ceremony</td>\n",
       "    </tr>\n",
       "    <tr>\n",
       "      <th>20165</th>\n",
       "      <td>0</td>\n",
       "      <td>NaN</td>\n",
       "      <td>42</td>\n",
       "      <td>secondary education</td>\n",
       "      <td>1</td>\n",
       "      <td>married</td>\n",
       "      <td>0</td>\n",
       "      <td>F</td>\n",
       "      <td>employee</td>\n",
       "      <td>0</td>\n",
       "      <td>NaN</td>\n",
       "      <td>purchase of the house for my family</td>\n",
       "    </tr>\n",
       "    <tr>\n",
       "      <th>20702</th>\n",
       "      <td>0</td>\n",
       "      <td>NaN</td>\n",
       "      <td>64</td>\n",
       "      <td>secondary education</td>\n",
       "      <td>1</td>\n",
       "      <td>married</td>\n",
       "      <td>0</td>\n",
       "      <td>F</td>\n",
       "      <td>retiree</td>\n",
       "      <td>0</td>\n",
       "      <td>NaN</td>\n",
       "      <td>supplementary education</td>\n",
       "    </tr>\n",
       "    <tr>\n",
       "      <th>21032</th>\n",
       "      <td>0</td>\n",
       "      <td>NaN</td>\n",
       "      <td>60</td>\n",
       "      <td>secondary education</td>\n",
       "      <td>1</td>\n",
       "      <td>married</td>\n",
       "      <td>0</td>\n",
       "      <td>F</td>\n",
       "      <td>retiree</td>\n",
       "      <td>0</td>\n",
       "      <td>NaN</td>\n",
       "      <td>to become educated</td>\n",
       "    </tr>\n",
       "    <tr>\n",
       "      <th>21132</th>\n",
       "      <td>0</td>\n",
       "      <td>NaN</td>\n",
       "      <td>47</td>\n",
       "      <td>secondary education</td>\n",
       "      <td>1</td>\n",
       "      <td>married</td>\n",
       "      <td>0</td>\n",
       "      <td>F</td>\n",
       "      <td>employee</td>\n",
       "      <td>0</td>\n",
       "      <td>NaN</td>\n",
       "      <td>housing renovation</td>\n",
       "    </tr>\n",
       "    <tr>\n",
       "      <th>21281</th>\n",
       "      <td>1</td>\n",
       "      <td>NaN</td>\n",
       "      <td>30</td>\n",
       "      <td>bachelor's degree</td>\n",
       "      <td>0</td>\n",
       "      <td>married</td>\n",
       "      <td>0</td>\n",
       "      <td>F</td>\n",
       "      <td>employee</td>\n",
       "      <td>0</td>\n",
       "      <td>NaN</td>\n",
       "      <td>buy commercial real estate</td>\n",
       "    </tr>\n",
       "    <tr>\n",
       "      <th>21415</th>\n",
       "      <td>0</td>\n",
       "      <td>NaN</td>\n",
       "      <td>54</td>\n",
       "      <td>secondary education</td>\n",
       "      <td>1</td>\n",
       "      <td>married</td>\n",
       "      <td>0</td>\n",
       "      <td>F</td>\n",
       "      <td>retiree</td>\n",
       "      <td>0</td>\n",
       "      <td>NaN</td>\n",
       "      <td>housing transactions</td>\n",
       "    </tr>\n",
       "  </tbody>\n",
       "</table>\n",
       "</div>"
      ],
      "text/plain": [
       "       children  days_employed  dob_years            education  education_id  \\\n",
       "2849          0            NaN         41  secondary education             1   \n",
       "4182          1            NaN         34    BACHELOR'S DEGREE             0   \n",
       "4851          0            NaN         60  secondary education             1   \n",
       "5557          0            NaN         58  secondary education             1   \n",
       "7808          0            NaN         57  secondary education             1   \n",
       "8583          0            NaN         58    bachelor's degree             0   \n",
       "9238          2            NaN         34  secondary education             1   \n",
       "9528          0            NaN         66  secondary education             1   \n",
       "9627          0            NaN         56  secondary education             1   \n",
       "10462         0            NaN         62  secondary education             1   \n",
       "10697         0            NaN         40  secondary education             1   \n",
       "10864         0            NaN         62  secondary education             1   \n",
       "10994         0            NaN         62  secondary education             1   \n",
       "11791         0            NaN         47  secondary education             1   \n",
       "12373         0            NaN         58  secondary education             1   \n",
       "12375         1            NaN         37  secondary education             1   \n",
       "12736         0            NaN         59  secondary education             1   \n",
       "13025         1            NaN         44  secondary education             1   \n",
       "13639         0            NaN         64  secondary education             1   \n",
       "13773         0            NaN         35  secondary education             1   \n",
       "13878         1            NaN         31  secondary education             1   \n",
       "13942         0            NaN         44  secondary education             1   \n",
       "14432         2            NaN         36    bachelor's degree             0   \n",
       "14832         0            NaN         50  secondary education             1   \n",
       "15091         0            NaN         58  secondary education             1   \n",
       "15188         0            NaN         60  secondary education             1   \n",
       "15273         0            NaN         57  secondary education             1   \n",
       "16176         0            NaN         47  secondary education             1   \n",
       "16378         0            NaN         46  secondary education             1   \n",
       "16902         2            NaN         39  secondary education             1   \n",
       "16904         1            NaN         32    bachelor's degree             0   \n",
       "17379         0            NaN         54    bachelor's degree             0   \n",
       "17755         1            NaN         43  secondary education             1   \n",
       "17774         1            NaN         40  secondary education             1   \n",
       "18328         0            NaN         29    bachelor's degree             0   \n",
       "18349         1            NaN         30    bachelor's degree             0   \n",
       "18428         0            NaN         64  secondary education             1   \n",
       "18521         0            NaN         56  secondary education             1   \n",
       "18563         0            NaN         54  secondary education             1   \n",
       "18755         0            NaN         58  secondary education             1   \n",
       "19041         0            NaN         56  secondary education             1   \n",
       "19184         0            NaN         46  secondary education             1   \n",
       "19321         0            NaN         23  secondary education             1   \n",
       "19387         0            NaN         38    bachelor's degree             0   \n",
       "19688         0            NaN         61  secondary education             1   \n",
       "19832         0            NaN         48  secondary education             1   \n",
       "19946         0            NaN         57  secondary education             1   \n",
       "20116         0            NaN         57  secondary education             1   \n",
       "20165         0            NaN         42  secondary education             1   \n",
       "20702         0            NaN         64  secondary education             1   \n",
       "21032         0            NaN         60  secondary education             1   \n",
       "21132         0            NaN         47  secondary education             1   \n",
       "21281         1            NaN         30    bachelor's degree             0   \n",
       "21415         0            NaN         54  secondary education             1   \n",
       "\n",
       "           family_status  family_status_id gender    income_type  debt  \\\n",
       "2849             married                 0      F       employee     0   \n",
       "4182   civil partnership                 1      F       employee     0   \n",
       "4851   civil partnership                 1      F        retiree     0   \n",
       "5557   civil partnership                 1      F        retiree     0   \n",
       "7808   civil partnership                 1      F        retiree     0   \n",
       "8583           unmarried                 4      F        retiree     0   \n",
       "9238             married                 0      F       employee     0   \n",
       "9528     widow / widower                 2      F        retiree     0   \n",
       "9627             married                 0      F        retiree     0   \n",
       "10462            married                 0      F        retiree     0   \n",
       "10697  civil partnership                 1      F       business     0   \n",
       "10864            married                 0      F        retiree     0   \n",
       "10994            married                 0      F        retiree     0   \n",
       "11791            married                 0      F       employee     0   \n",
       "12373            married                 0      M       employee     0   \n",
       "12375            married                 0      F       employee     0   \n",
       "12736            married                 0      F        retiree     0   \n",
       "13025            married                 0      F       employee     0   \n",
       "13639            married                 0      F        retiree     0   \n",
       "13773  civil partnership                 1      F       employee     0   \n",
       "13878            married                 0      F       business     0   \n",
       "13942            married                 0      F       employee     0   \n",
       "14432            married                 0      F  civil servant     0   \n",
       "14832          unmarried                 4      F       employee     0   \n",
       "15091  civil partnership                 1      M       employee     0   \n",
       "15188            married                 0      M       employee     0   \n",
       "15273  civil partnership                 1      F        retiree     0   \n",
       "16176            married                 0      F       employee     0   \n",
       "16378            married                 0      F       employee     0   \n",
       "16902  civil partnership                 1      F       employee     0   \n",
       "16904            married                 0      F       employee     0   \n",
       "17379            married                 0      M       business     0   \n",
       "17755            married                 0      M       employee     0   \n",
       "17774  civil partnership                 1      F       business     0   \n",
       "18328            married                 0      M       employee     0   \n",
       "18349            married                 0      F  civil servant     0   \n",
       "18428            married                 0      F        retiree     0   \n",
       "18521  civil partnership                 1      F       employee     0   \n",
       "18563            married                 0      F       employee     0   \n",
       "18755            married                 0      F        retiree     0   \n",
       "19041  civil partnership                 1      F       employee     0   \n",
       "19184            married                 0      F       employee     0   \n",
       "19321          unmarried                 4      F       employee     0   \n",
       "19387  civil partnership                 1      F       business     0   \n",
       "19688            married                 0      F        retiree     0   \n",
       "19832            married                 0      F       employee     0   \n",
       "19946            married                 0      F       employee     0   \n",
       "20116  civil partnership                 1      M        retiree     0   \n",
       "20165            married                 0      F       employee     0   \n",
       "20702            married                 0      F        retiree     0   \n",
       "21032            married                 0      F        retiree     0   \n",
       "21132            married                 0      F       employee     0   \n",
       "21281            married                 0      F       employee     0   \n",
       "21415            married                 0      F        retiree     0   \n",
       "\n",
       "       total_income                                   purpose  \n",
       "2849            NaN       purchase of the house for my family  \n",
       "4182            NaN                          wedding ceremony  \n",
       "4851            NaN                          wedding ceremony  \n",
       "5557            NaN                         to have a wedding  \n",
       "7808            NaN                          having a wedding  \n",
       "8583            NaN                   supplementary education  \n",
       "9238            NaN           buying property for renting out  \n",
       "9528            NaN          transactions with my real estate  \n",
       "9627            NaN          transactions with my real estate  \n",
       "10462           NaN                buy commercial real estate  \n",
       "10697           NaN                         to have a wedding  \n",
       "10864           NaN                        housing renovation  \n",
       "10994           NaN                        housing renovation  \n",
       "11791           NaN                       building a property  \n",
       "12373           NaN                           buy real estate  \n",
       "12375           NaN                           buy real estate  \n",
       "12736           NaN                        to become educated  \n",
       "13025           NaN                  second-hand car purchase  \n",
       "13639           NaN                                       car  \n",
       "13773           NaN                         to have a wedding  \n",
       "13878           NaN                     purchase of the house  \n",
       "13942           NaN                              car purchase  \n",
       "14432           NaN                      getting an education  \n",
       "14832           NaN                                  property  \n",
       "15091           NaN                          having a wedding  \n",
       "15188           NaN                           buy real estate  \n",
       "15273           NaN                          wedding ceremony  \n",
       "16176           NaN                        housing renovation  \n",
       "16378           NaN                      university education  \n",
       "16902           NaN                         to have a wedding  \n",
       "16904           NaN                  buying a second-hand car  \n",
       "17379           NaN  transactions with commercial real estate  \n",
       "17755           NaN                        to become educated  \n",
       "17774           NaN                    building a real estate  \n",
       "18328           NaN               buy residential real estate  \n",
       "18349           NaN       purchase of the house for my family  \n",
       "18428           NaN                                   housing  \n",
       "18521           NaN                         to have a wedding  \n",
       "18563           NaN          transactions with my real estate  \n",
       "18755           NaN                        to become educated  \n",
       "19041           NaN                          having a wedding  \n",
       "19184           NaN                              to own a car  \n",
       "19321           NaN                  second-hand car purchase  \n",
       "19387           NaN                          having a wedding  \n",
       "19688           NaN                  real estate transactions  \n",
       "19832           NaN                        housing renovation  \n",
       "19946           NaN                  second-hand car purchase  \n",
       "20116           NaN                          wedding ceremony  \n",
       "20165           NaN       purchase of the house for my family  \n",
       "20702           NaN                   supplementary education  \n",
       "21032           NaN                        to become educated  \n",
       "21132           NaN                        housing renovation  \n",
       "21281           NaN                buy commercial real estate  \n",
       "21415           NaN                      housing transactions  "
      ]
     },
     "execution_count": 7,
     "metadata": {},
     "output_type": "execute_result"
    }
   ],
   "source": [
    "df[df.duplicated()]"
   ]
  },
  {
   "cell_type": "code",
   "execution_count": 8,
   "metadata": {},
   "outputs": [
    {
     "data": {
      "text/plain": [
       "0"
      ]
     },
     "execution_count": 8,
     "metadata": {},
     "output_type": "execute_result"
    }
   ],
   "source": [
    "#drop duplicate rows\n",
    "df.drop_duplicates(inplace=True)\n",
    "df.duplicated().sum()"
   ]
  },
  {
   "cell_type": "code",
   "execution_count": 9,
   "metadata": {},
   "outputs": [
    {
     "name": "stdout",
     "output_type": "stream",
     "text": [
      "education_id [0 1 2 3 4]\n",
      "\n",
      "\n",
      "\n",
      "family_status ['married' 'civil partnership' 'widow / widower' 'divorced' 'unmarried']\n",
      "\n",
      "\n",
      "\n",
      "gender ['F' 'M' 'XNA']\n",
      "\n",
      "\n",
      "\n",
      "education [\"bachelor's degree\" 'secondary education' 'Secondary Education'\n",
      " 'SECONDARY EDUCATION' \"BACHELOR'S DEGREE\" 'some college'\n",
      " 'primary education' \"Bachelor's Degree\" 'SOME COLLEGE' 'Some College'\n",
      " 'PRIMARY EDUCATION' 'Primary Education' 'Graduate Degree'\n",
      " 'GRADUATE DEGREE' 'graduate degree']\n",
      "\n",
      "\n",
      "\n",
      "income_type ['employee' 'retiree' 'business' 'civil servant' 'unemployed'\n",
      " 'entrepreneur' 'student' 'paternity / maternity leave']\n",
      "\n",
      "\n",
      "\n",
      "children [ 1  0  3  2 -1  4 20  5]\n",
      "\n",
      "\n",
      "\n",
      "purpose ['purchase of the house' 'car purchase' 'supplementary education'\n",
      " 'to have a wedding' 'housing transactions' 'education' 'having a wedding'\n",
      " 'purchase of the house for my family' 'buy real estate'\n",
      " 'buy commercial real estate' 'buy residential real estate'\n",
      " 'construction of own property' 'property' 'building a property'\n",
      " 'buying a second-hand car' 'buying my own car'\n",
      " 'transactions with commercial real estate' 'building a real estate'\n",
      " 'housing' 'transactions with my real estate' 'cars' 'to become educated'\n",
      " 'second-hand car purchase' 'getting an education' 'car'\n",
      " 'wedding ceremony' 'to get a supplementary education'\n",
      " 'purchase of my own house' 'real estate transactions'\n",
      " 'getting higher education' 'to own a car' 'purchase of a car'\n",
      " 'profile education' 'university education'\n",
      " 'buying property for renting out' 'to buy a car' 'housing renovation'\n",
      " 'going to university']\n",
      "\n",
      "\n",
      "\n"
     ]
    }
   ],
   "source": [
    "#Inspect categorical data entries\n",
    "for col in ['education_id', 'family_status', 'gender', 'education', 'income_type', 'children', 'purpose']:\n",
    "    print(col, df[col].unique())\n",
    "    print('\\n\\n')"
   ]
  },
  {
   "cell_type": "markdown",
   "metadata": {},
   "source": [
    "  ***\n",
    "  * False unique entries are noticed in the education column due to inconsistent format. **Action:** This will be be corrected to have a consistent format.\n",
    "  \n",
    "  * We also notice that entries under the purpose section are not all unique but can be group into defined categories. **Action:** Related entries in the purpose will be catgorized into buy car, education, house/real estate, wedding. \n",
    "  \n",
    "  * Gender has an undefined value of XNA. **Action:** Assume this is missing value and tried accordingly\n",
    "  \n",
    "  * The maximum number of children is 20 and the minimum is -1. **Action:** -1 child is unrealistic handle as missing value\n"
   ]
  },
  {
   "cell_type": "code",
   "execution_count": 10,
   "metadata": {},
   "outputs": [
    {
     "data": {
      "text/plain": [
       "array([\"bachelor's degree\", 'secondary education', 'some college',\n",
       "       'primary education', 'graduate degree'], dtype=object)"
      ]
     },
     "execution_count": 10,
     "metadata": {},
     "output_type": "execute_result"
    }
   ],
   "source": [
    "#format string value to lower case in education\n",
    "df['education']=df['education'].apply(lambda x: x.lower())\n",
    "df['education'].unique()"
   ]
  },
  {
   "cell_type": "code",
   "execution_count": 11,
   "metadata": {},
   "outputs": [
    {
     "data": {
      "text/plain": [
       "array(['buy house/real estate', 'buy car', 'education', 'wedding'],\n",
       "      dtype=object)"
      ]
     },
     "execution_count": 11,
     "metadata": {},
     "output_type": "execute_result"
    }
   ],
   "source": [
    "#Categorizing purpose\n",
    "def purpose_duplicate(data):\n",
    "    '''\n",
    "        This function takes in the purpose column and groups them based on keywords\n",
    "    '''\n",
    "    if 'car' in data:\n",
    "        return 'buy car'\n",
    "    elif 'educated'in data:\n",
    "        return 'education'\n",
    "    elif 'education'in data:\n",
    "        return 'education'\n",
    "    elif 'university'in data:\n",
    "        return 'education'\n",
    "    elif 'house' in data:\n",
    "        return 'buy house/real estate'\n",
    "    elif 'housing' in data:\n",
    "        return 'buy house/real estate'\n",
    "    elif 'estate' in data:\n",
    "        return 'buy house/real estate'\n",
    "    elif 'property' in data:\n",
    "        return 'buy house/real estate'\n",
    "    elif 'wedding' in data:\n",
    "        return 'wedding'\n",
    "    else:\n",
    "        return data\n",
    "df['purpose_category']=df['purpose'].apply(purpose_duplicate)\n",
    "df['purpose_category'].unique()"
   ]
  },
  {
   "cell_type": "code",
   "execution_count": 12,
   "metadata": {},
   "outputs": [
    {
     "data": {
      "text/html": [
       "<div>\n",
       "<style scoped>\n",
       "    .dataframe tbody tr th:only-of-type {\n",
       "        vertical-align: middle;\n",
       "    }\n",
       "\n",
       "    .dataframe tbody tr th {\n",
       "        vertical-align: top;\n",
       "    }\n",
       "\n",
       "    .dataframe thead th {\n",
       "        text-align: right;\n",
       "    }\n",
       "</style>\n",
       "<table border=\"1\" class=\"dataframe\">\n",
       "  <thead>\n",
       "    <tr style=\"text-align: right;\">\n",
       "      <th></th>\n",
       "      <th>children</th>\n",
       "      <th>days_employed</th>\n",
       "      <th>dob_years</th>\n",
       "      <th>education</th>\n",
       "      <th>education_id</th>\n",
       "      <th>family_status</th>\n",
       "      <th>family_status_id</th>\n",
       "      <th>gender</th>\n",
       "      <th>income_type</th>\n",
       "      <th>debt</th>\n",
       "      <th>total_income</th>\n",
       "      <th>purpose</th>\n",
       "      <th>purpose_category</th>\n",
       "    </tr>\n",
       "  </thead>\n",
       "  <tbody>\n",
       "    <tr>\n",
       "      <th>10701</th>\n",
       "      <td>0</td>\n",
       "      <td>-2358.600502</td>\n",
       "      <td>24</td>\n",
       "      <td>some college</td>\n",
       "      <td>2</td>\n",
       "      <td>civil partnership</td>\n",
       "      <td>1</td>\n",
       "      <td>XNA</td>\n",
       "      <td>business</td>\n",
       "      <td>0</td>\n",
       "      <td>32624.825</td>\n",
       "      <td>buy real estate</td>\n",
       "      <td>buy house/real estate</td>\n",
       "    </tr>\n",
       "  </tbody>\n",
       "</table>\n",
       "</div>"
      ],
      "text/plain": [
       "       children  days_employed  dob_years     education  education_id  \\\n",
       "10701         0   -2358.600502         24  some college             2   \n",
       "\n",
       "           family_status  family_status_id gender income_type  debt  \\\n",
       "10701  civil partnership                 1    XNA    business     0   \n",
       "\n",
       "       total_income          purpose       purpose_category  \n",
       "10701     32624.825  buy real estate  buy house/real estate  "
      ]
     },
     "execution_count": 12,
     "metadata": {},
     "output_type": "execute_result"
    }
   ],
   "source": [
    "#rows with gender XNA\n",
    "df[df['gender']=='XNA']"
   ]
  },
  {
   "cell_type": "code",
   "execution_count": 13,
   "metadata": {},
   "outputs": [
    {
     "data": {
      "text/html": [
       "<div>\n",
       "<style scoped>\n",
       "    .dataframe tbody tr th:only-of-type {\n",
       "        vertical-align: middle;\n",
       "    }\n",
       "\n",
       "    .dataframe tbody tr th {\n",
       "        vertical-align: top;\n",
       "    }\n",
       "\n",
       "    .dataframe thead th {\n",
       "        text-align: right;\n",
       "    }\n",
       "</style>\n",
       "<table border=\"1\" class=\"dataframe\">\n",
       "  <thead>\n",
       "    <tr style=\"text-align: right;\">\n",
       "      <th></th>\n",
       "      <th>children</th>\n",
       "      <th>days_employed</th>\n",
       "      <th>dob_years</th>\n",
       "      <th>education</th>\n",
       "      <th>education_id</th>\n",
       "      <th>family_status</th>\n",
       "      <th>family_status_id</th>\n",
       "      <th>gender</th>\n",
       "      <th>income_type</th>\n",
       "      <th>debt</th>\n",
       "      <th>total_income</th>\n",
       "      <th>purpose</th>\n",
       "      <th>purpose_category</th>\n",
       "    </tr>\n",
       "  </thead>\n",
       "  <tbody>\n",
       "    <tr>\n",
       "      <th>291</th>\n",
       "      <td>-1</td>\n",
       "      <td>-4417.703588</td>\n",
       "      <td>46</td>\n",
       "      <td>secondary education</td>\n",
       "      <td>1</td>\n",
       "      <td>civil partnership</td>\n",
       "      <td>1</td>\n",
       "      <td>F</td>\n",
       "      <td>employee</td>\n",
       "      <td>0</td>\n",
       "      <td>16450.615</td>\n",
       "      <td>profile education</td>\n",
       "      <td>education</td>\n",
       "    </tr>\n",
       "    <tr>\n",
       "      <th>705</th>\n",
       "      <td>-1</td>\n",
       "      <td>-902.084528</td>\n",
       "      <td>50</td>\n",
       "      <td>secondary education</td>\n",
       "      <td>1</td>\n",
       "      <td>married</td>\n",
       "      <td>0</td>\n",
       "      <td>F</td>\n",
       "      <td>civil servant</td>\n",
       "      <td>0</td>\n",
       "      <td>22061.264</td>\n",
       "      <td>car purchase</td>\n",
       "      <td>buy car</td>\n",
       "    </tr>\n",
       "    <tr>\n",
       "      <th>742</th>\n",
       "      <td>-1</td>\n",
       "      <td>-3174.456205</td>\n",
       "      <td>57</td>\n",
       "      <td>secondary education</td>\n",
       "      <td>1</td>\n",
       "      <td>married</td>\n",
       "      <td>0</td>\n",
       "      <td>F</td>\n",
       "      <td>employee</td>\n",
       "      <td>0</td>\n",
       "      <td>10282.887</td>\n",
       "      <td>supplementary education</td>\n",
       "      <td>education</td>\n",
       "    </tr>\n",
       "    <tr>\n",
       "      <th>800</th>\n",
       "      <td>-1</td>\n",
       "      <td>349987.852217</td>\n",
       "      <td>54</td>\n",
       "      <td>secondary education</td>\n",
       "      <td>1</td>\n",
       "      <td>unmarried</td>\n",
       "      <td>4</td>\n",
       "      <td>F</td>\n",
       "      <td>retiree</td>\n",
       "      <td>0</td>\n",
       "      <td>13806.996</td>\n",
       "      <td>supplementary education</td>\n",
       "      <td>education</td>\n",
       "    </tr>\n",
       "    <tr>\n",
       "      <th>941</th>\n",
       "      <td>-1</td>\n",
       "      <td>NaN</td>\n",
       "      <td>57</td>\n",
       "      <td>secondary education</td>\n",
       "      <td>1</td>\n",
       "      <td>married</td>\n",
       "      <td>0</td>\n",
       "      <td>F</td>\n",
       "      <td>retiree</td>\n",
       "      <td>0</td>\n",
       "      <td>NaN</td>\n",
       "      <td>buying my own car</td>\n",
       "      <td>buy car</td>\n",
       "    </tr>\n",
       "    <tr>\n",
       "      <th>1363</th>\n",
       "      <td>-1</td>\n",
       "      <td>-1195.264956</td>\n",
       "      <td>55</td>\n",
       "      <td>secondary education</td>\n",
       "      <td>1</td>\n",
       "      <td>married</td>\n",
       "      <td>0</td>\n",
       "      <td>F</td>\n",
       "      <td>business</td>\n",
       "      <td>0</td>\n",
       "      <td>11128.112</td>\n",
       "      <td>profile education</td>\n",
       "      <td>education</td>\n",
       "    </tr>\n",
       "    <tr>\n",
       "      <th>1929</th>\n",
       "      <td>-1</td>\n",
       "      <td>-1461.303336</td>\n",
       "      <td>38</td>\n",
       "      <td>secondary education</td>\n",
       "      <td>1</td>\n",
       "      <td>unmarried</td>\n",
       "      <td>4</td>\n",
       "      <td>M</td>\n",
       "      <td>employee</td>\n",
       "      <td>0</td>\n",
       "      <td>17459.451</td>\n",
       "      <td>purchase of the house</td>\n",
       "      <td>buy house/real estate</td>\n",
       "    </tr>\n",
       "    <tr>\n",
       "      <th>2073</th>\n",
       "      <td>-1</td>\n",
       "      <td>-2539.761232</td>\n",
       "      <td>42</td>\n",
       "      <td>secondary education</td>\n",
       "      <td>1</td>\n",
       "      <td>divorced</td>\n",
       "      <td>3</td>\n",
       "      <td>F</td>\n",
       "      <td>business</td>\n",
       "      <td>0</td>\n",
       "      <td>26022.177</td>\n",
       "      <td>purchase of the house</td>\n",
       "      <td>buy house/real estate</td>\n",
       "    </tr>\n",
       "    <tr>\n",
       "      <th>3814</th>\n",
       "      <td>-1</td>\n",
       "      <td>-3045.290443</td>\n",
       "      <td>26</td>\n",
       "      <td>secondary education</td>\n",
       "      <td>1</td>\n",
       "      <td>civil partnership</td>\n",
       "      <td>1</td>\n",
       "      <td>F</td>\n",
       "      <td>civil servant</td>\n",
       "      <td>0</td>\n",
       "      <td>21102.846</td>\n",
       "      <td>having a wedding</td>\n",
       "      <td>wedding</td>\n",
       "    </tr>\n",
       "    <tr>\n",
       "      <th>4201</th>\n",
       "      <td>-1</td>\n",
       "      <td>-901.101738</td>\n",
       "      <td>41</td>\n",
       "      <td>secondary education</td>\n",
       "      <td>1</td>\n",
       "      <td>married</td>\n",
       "      <td>0</td>\n",
       "      <td>F</td>\n",
       "      <td>civil servant</td>\n",
       "      <td>0</td>\n",
       "      <td>36220.123</td>\n",
       "      <td>transactions with my real estate</td>\n",
       "      <td>buy house/real estate</td>\n",
       "    </tr>\n",
       "    <tr>\n",
       "      <th>4402</th>\n",
       "      <td>-1</td>\n",
       "      <td>398001.302888</td>\n",
       "      <td>64</td>\n",
       "      <td>secondary education</td>\n",
       "      <td>1</td>\n",
       "      <td>married</td>\n",
       "      <td>0</td>\n",
       "      <td>F</td>\n",
       "      <td>retiree</td>\n",
       "      <td>0</td>\n",
       "      <td>26122.250</td>\n",
       "      <td>buy real estate</td>\n",
       "      <td>buy house/real estate</td>\n",
       "    </tr>\n",
       "    <tr>\n",
       "      <th>4542</th>\n",
       "      <td>-1</td>\n",
       "      <td>-1811.899756</td>\n",
       "      <td>32</td>\n",
       "      <td>secondary education</td>\n",
       "      <td>1</td>\n",
       "      <td>married</td>\n",
       "      <td>0</td>\n",
       "      <td>F</td>\n",
       "      <td>employee</td>\n",
       "      <td>0</td>\n",
       "      <td>25687.155</td>\n",
       "      <td>education</td>\n",
       "      <td>education</td>\n",
       "    </tr>\n",
       "    <tr>\n",
       "      <th>5272</th>\n",
       "      <td>-1</td>\n",
       "      <td>-1143.485347</td>\n",
       "      <td>46</td>\n",
       "      <td>secondary education</td>\n",
       "      <td>1</td>\n",
       "      <td>widow / widower</td>\n",
       "      <td>2</td>\n",
       "      <td>F</td>\n",
       "      <td>employee</td>\n",
       "      <td>0</td>\n",
       "      <td>44593.283</td>\n",
       "      <td>buy real estate</td>\n",
       "      <td>buy house/real estate</td>\n",
       "    </tr>\n",
       "    <tr>\n",
       "      <th>6013</th>\n",
       "      <td>-1</td>\n",
       "      <td>-1361.258696</td>\n",
       "      <td>46</td>\n",
       "      <td>bachelor's degree</td>\n",
       "      <td>0</td>\n",
       "      <td>married</td>\n",
       "      <td>0</td>\n",
       "      <td>F</td>\n",
       "      <td>employee</td>\n",
       "      <td>0</td>\n",
       "      <td>22881.353</td>\n",
       "      <td>construction of own property</td>\n",
       "      <td>buy house/real estate</td>\n",
       "    </tr>\n",
       "    <tr>\n",
       "      <th>6385</th>\n",
       "      <td>-1</td>\n",
       "      <td>370215.476226</td>\n",
       "      <td>48</td>\n",
       "      <td>secondary education</td>\n",
       "      <td>1</td>\n",
       "      <td>widow / widower</td>\n",
       "      <td>2</td>\n",
       "      <td>F</td>\n",
       "      <td>retiree</td>\n",
       "      <td>0</td>\n",
       "      <td>5768.392</td>\n",
       "      <td>education</td>\n",
       "      <td>education</td>\n",
       "    </tr>\n",
       "    <tr>\n",
       "      <th>7190</th>\n",
       "      <td>-1</td>\n",
       "      <td>-5928.202068</td>\n",
       "      <td>34</td>\n",
       "      <td>secondary education</td>\n",
       "      <td>1</td>\n",
       "      <td>married</td>\n",
       "      <td>0</td>\n",
       "      <td>M</td>\n",
       "      <td>employee</td>\n",
       "      <td>0</td>\n",
       "      <td>29490.420</td>\n",
       "      <td>car purchase</td>\n",
       "      <td>buy car</td>\n",
       "    </tr>\n",
       "    <tr>\n",
       "      <th>7278</th>\n",
       "      <td>-1</td>\n",
       "      <td>-526.318451</td>\n",
       "      <td>51</td>\n",
       "      <td>secondary education</td>\n",
       "      <td>1</td>\n",
       "      <td>married</td>\n",
       "      <td>0</td>\n",
       "      <td>F</td>\n",
       "      <td>employee</td>\n",
       "      <td>0</td>\n",
       "      <td>23508.603</td>\n",
       "      <td>transactions with commercial real estate</td>\n",
       "      <td>buy house/real estate</td>\n",
       "    </tr>\n",
       "    <tr>\n",
       "      <th>7615</th>\n",
       "      <td>-1</td>\n",
       "      <td>NaN</td>\n",
       "      <td>35</td>\n",
       "      <td>secondary education</td>\n",
       "      <td>1</td>\n",
       "      <td>married</td>\n",
       "      <td>0</td>\n",
       "      <td>M</td>\n",
       "      <td>employee</td>\n",
       "      <td>0</td>\n",
       "      <td>NaN</td>\n",
       "      <td>education</td>\n",
       "      <td>education</td>\n",
       "    </tr>\n",
       "    <tr>\n",
       "      <th>7685</th>\n",
       "      <td>-1</td>\n",
       "      <td>-3237.360455</td>\n",
       "      <td>53</td>\n",
       "      <td>secondary education</td>\n",
       "      <td>1</td>\n",
       "      <td>widow / widower</td>\n",
       "      <td>2</td>\n",
       "      <td>F</td>\n",
       "      <td>employee</td>\n",
       "      <td>0</td>\n",
       "      <td>25548.188</td>\n",
       "      <td>building a real estate</td>\n",
       "      <td>buy house/real estate</td>\n",
       "    </tr>\n",
       "    <tr>\n",
       "      <th>8229</th>\n",
       "      <td>-1</td>\n",
       "      <td>-1803.441074</td>\n",
       "      <td>54</td>\n",
       "      <td>bachelor's degree</td>\n",
       "      <td>0</td>\n",
       "      <td>married</td>\n",
       "      <td>0</td>\n",
       "      <td>F</td>\n",
       "      <td>business</td>\n",
       "      <td>0</td>\n",
       "      <td>22209.453</td>\n",
       "      <td>buy real estate</td>\n",
       "      <td>buy house/real estate</td>\n",
       "    </tr>\n",
       "    <tr>\n",
       "      <th>8251</th>\n",
       "      <td>-1</td>\n",
       "      <td>-3113.998449</td>\n",
       "      <td>31</td>\n",
       "      <td>secondary education</td>\n",
       "      <td>1</td>\n",
       "      <td>civil partnership</td>\n",
       "      <td>1</td>\n",
       "      <td>F</td>\n",
       "      <td>employee</td>\n",
       "      <td>0</td>\n",
       "      <td>8705.929</td>\n",
       "      <td>to own a car</td>\n",
       "      <td>buy car</td>\n",
       "    </tr>\n",
       "    <tr>\n",
       "      <th>8561</th>\n",
       "      <td>-1</td>\n",
       "      <td>-195.479496</td>\n",
       "      <td>31</td>\n",
       "      <td>secondary education</td>\n",
       "      <td>1</td>\n",
       "      <td>married</td>\n",
       "      <td>0</td>\n",
       "      <td>F</td>\n",
       "      <td>employee</td>\n",
       "      <td>0</td>\n",
       "      <td>23292.461</td>\n",
       "      <td>housing renovation</td>\n",
       "      <td>buy house/real estate</td>\n",
       "    </tr>\n",
       "    <tr>\n",
       "      <th>9565</th>\n",
       "      <td>-1</td>\n",
       "      <td>-2896.629686</td>\n",
       "      <td>34</td>\n",
       "      <td>bachelor's degree</td>\n",
       "      <td>0</td>\n",
       "      <td>married</td>\n",
       "      <td>0</td>\n",
       "      <td>M</td>\n",
       "      <td>employee</td>\n",
       "      <td>0</td>\n",
       "      <td>20280.745</td>\n",
       "      <td>real estate transactions</td>\n",
       "      <td>buy house/real estate</td>\n",
       "    </tr>\n",
       "    <tr>\n",
       "      <th>9574</th>\n",
       "      <td>-1</td>\n",
       "      <td>-2710.419901</td>\n",
       "      <td>28</td>\n",
       "      <td>bachelor's degree</td>\n",
       "      <td>0</td>\n",
       "      <td>married</td>\n",
       "      <td>0</td>\n",
       "      <td>M</td>\n",
       "      <td>civil servant</td>\n",
       "      <td>0</td>\n",
       "      <td>48501.946</td>\n",
       "      <td>to get a supplementary education</td>\n",
       "      <td>education</td>\n",
       "    </tr>\n",
       "    <tr>\n",
       "      <th>10177</th>\n",
       "      <td>-1</td>\n",
       "      <td>-1743.604011</td>\n",
       "      <td>37</td>\n",
       "      <td>secondary education</td>\n",
       "      <td>1</td>\n",
       "      <td>married</td>\n",
       "      <td>0</td>\n",
       "      <td>M</td>\n",
       "      <td>employee</td>\n",
       "      <td>0</td>\n",
       "      <td>49658.801</td>\n",
       "      <td>getting an education</td>\n",
       "      <td>education</td>\n",
       "    </tr>\n",
       "    <tr>\n",
       "      <th>10365</th>\n",
       "      <td>-1</td>\n",
       "      <td>345774.125957</td>\n",
       "      <td>63</td>\n",
       "      <td>bachelor's degree</td>\n",
       "      <td>0</td>\n",
       "      <td>widow / widower</td>\n",
       "      <td>2</td>\n",
       "      <td>F</td>\n",
       "      <td>retiree</td>\n",
       "      <td>0</td>\n",
       "      <td>27322.040</td>\n",
       "      <td>building a real estate</td>\n",
       "      <td>buy house/real estate</td>\n",
       "    </tr>\n",
       "    <tr>\n",
       "      <th>10918</th>\n",
       "      <td>-1</td>\n",
       "      <td>340499.039342</td>\n",
       "      <td>50</td>\n",
       "      <td>secondary education</td>\n",
       "      <td>1</td>\n",
       "      <td>married</td>\n",
       "      <td>0</td>\n",
       "      <td>M</td>\n",
       "      <td>retiree</td>\n",
       "      <td>0</td>\n",
       "      <td>27322.044</td>\n",
       "      <td>purchase of my own house</td>\n",
       "      <td>buy house/real estate</td>\n",
       "    </tr>\n",
       "    <tr>\n",
       "      <th>11109</th>\n",
       "      <td>-1</td>\n",
       "      <td>-3438.463024</td>\n",
       "      <td>59</td>\n",
       "      <td>secondary education</td>\n",
       "      <td>1</td>\n",
       "      <td>married</td>\n",
       "      <td>0</td>\n",
       "      <td>F</td>\n",
       "      <td>employee</td>\n",
       "      <td>0</td>\n",
       "      <td>35179.842</td>\n",
       "      <td>housing transactions</td>\n",
       "      <td>buy house/real estate</td>\n",
       "    </tr>\n",
       "    <tr>\n",
       "      <th>11268</th>\n",
       "      <td>-1</td>\n",
       "      <td>-1048.782203</td>\n",
       "      <td>30</td>\n",
       "      <td>bachelor's degree</td>\n",
       "      <td>0</td>\n",
       "      <td>civil partnership</td>\n",
       "      <td>1</td>\n",
       "      <td>F</td>\n",
       "      <td>business</td>\n",
       "      <td>0</td>\n",
       "      <td>51456.592</td>\n",
       "      <td>to buy a car</td>\n",
       "      <td>buy car</td>\n",
       "    </tr>\n",
       "    <tr>\n",
       "      <th>11617</th>\n",
       "      <td>-1</td>\n",
       "      <td>-370.827130</td>\n",
       "      <td>27</td>\n",
       "      <td>secondary education</td>\n",
       "      <td>1</td>\n",
       "      <td>married</td>\n",
       "      <td>0</td>\n",
       "      <td>F</td>\n",
       "      <td>business</td>\n",
       "      <td>0</td>\n",
       "      <td>26334.602</td>\n",
       "      <td>buying property for renting out</td>\n",
       "      <td>buy house/real estate</td>\n",
       "    </tr>\n",
       "    <tr>\n",
       "      <th>12304</th>\n",
       "      <td>-1</td>\n",
       "      <td>-8493.101252</td>\n",
       "      <td>61</td>\n",
       "      <td>some college</td>\n",
       "      <td>2</td>\n",
       "      <td>married</td>\n",
       "      <td>0</td>\n",
       "      <td>M</td>\n",
       "      <td>employee</td>\n",
       "      <td>0</td>\n",
       "      <td>50400.989</td>\n",
       "      <td>property</td>\n",
       "      <td>buy house/real estate</td>\n",
       "    </tr>\n",
       "    <tr>\n",
       "      <th>13786</th>\n",
       "      <td>-1</td>\n",
       "      <td>NaN</td>\n",
       "      <td>42</td>\n",
       "      <td>secondary education</td>\n",
       "      <td>1</td>\n",
       "      <td>unmarried</td>\n",
       "      <td>4</td>\n",
       "      <td>M</td>\n",
       "      <td>business</td>\n",
       "      <td>0</td>\n",
       "      <td>NaN</td>\n",
       "      <td>car</td>\n",
       "      <td>buy car</td>\n",
       "    </tr>\n",
       "    <tr>\n",
       "      <th>14357</th>\n",
       "      <td>-1</td>\n",
       "      <td>-268.337037</td>\n",
       "      <td>23</td>\n",
       "      <td>secondary education</td>\n",
       "      <td>1</td>\n",
       "      <td>divorced</td>\n",
       "      <td>3</td>\n",
       "      <td>F</td>\n",
       "      <td>business</td>\n",
       "      <td>0</td>\n",
       "      <td>14761.213</td>\n",
       "      <td>buy residential real estate</td>\n",
       "      <td>buy house/real estate</td>\n",
       "    </tr>\n",
       "    <tr>\n",
       "      <th>15147</th>\n",
       "      <td>-1</td>\n",
       "      <td>-9851.184337</td>\n",
       "      <td>44</td>\n",
       "      <td>secondary education</td>\n",
       "      <td>1</td>\n",
       "      <td>divorced</td>\n",
       "      <td>3</td>\n",
       "      <td>F</td>\n",
       "      <td>employee</td>\n",
       "      <td>0</td>\n",
       "      <td>17758.530</td>\n",
       "      <td>to own a car</td>\n",
       "      <td>buy car</td>\n",
       "    </tr>\n",
       "    <tr>\n",
       "      <th>15435</th>\n",
       "      <td>-1</td>\n",
       "      <td>-3614.220232</td>\n",
       "      <td>40</td>\n",
       "      <td>bachelor's degree</td>\n",
       "      <td>0</td>\n",
       "      <td>civil partnership</td>\n",
       "      <td>1</td>\n",
       "      <td>F</td>\n",
       "      <td>employee</td>\n",
       "      <td>0</td>\n",
       "      <td>15700.406</td>\n",
       "      <td>to have a wedding</td>\n",
       "      <td>wedding</td>\n",
       "    </tr>\n",
       "    <tr>\n",
       "      <th>16129</th>\n",
       "      <td>-1</td>\n",
       "      <td>-457.861760</td>\n",
       "      <td>33</td>\n",
       "      <td>secondary education</td>\n",
       "      <td>1</td>\n",
       "      <td>married</td>\n",
       "      <td>0</td>\n",
       "      <td>F</td>\n",
       "      <td>employee</td>\n",
       "      <td>1</td>\n",
       "      <td>23942.573</td>\n",
       "      <td>car</td>\n",
       "      <td>buy car</td>\n",
       "    </tr>\n",
       "    <tr>\n",
       "      <th>16265</th>\n",
       "      <td>-1</td>\n",
       "      <td>-2802.218127</td>\n",
       "      <td>40</td>\n",
       "      <td>bachelor's degree</td>\n",
       "      <td>0</td>\n",
       "      <td>married</td>\n",
       "      <td>0</td>\n",
       "      <td>M</td>\n",
       "      <td>employee</td>\n",
       "      <td>0</td>\n",
       "      <td>17917.516</td>\n",
       "      <td>purchase of the house</td>\n",
       "      <td>buy house/real estate</td>\n",
       "    </tr>\n",
       "    <tr>\n",
       "      <th>17095</th>\n",
       "      <td>-1</td>\n",
       "      <td>-2809.693200</td>\n",
       "      <td>34</td>\n",
       "      <td>secondary education</td>\n",
       "      <td>1</td>\n",
       "      <td>married</td>\n",
       "      <td>0</td>\n",
       "      <td>F</td>\n",
       "      <td>employee</td>\n",
       "      <td>0</td>\n",
       "      <td>29207.022</td>\n",
       "      <td>buying a second-hand car</td>\n",
       "      <td>buy car</td>\n",
       "    </tr>\n",
       "    <tr>\n",
       "      <th>17429</th>\n",
       "      <td>-1</td>\n",
       "      <td>-895.379738</td>\n",
       "      <td>37</td>\n",
       "      <td>secondary education</td>\n",
       "      <td>1</td>\n",
       "      <td>married</td>\n",
       "      <td>0</td>\n",
       "      <td>F</td>\n",
       "      <td>business</td>\n",
       "      <td>0</td>\n",
       "      <td>34370.243</td>\n",
       "      <td>housing</td>\n",
       "      <td>buy house/real estate</td>\n",
       "    </tr>\n",
       "    <tr>\n",
       "      <th>17657</th>\n",
       "      <td>-1</td>\n",
       "      <td>-4571.957475</td>\n",
       "      <td>41</td>\n",
       "      <td>secondary education</td>\n",
       "      <td>1</td>\n",
       "      <td>married</td>\n",
       "      <td>0</td>\n",
       "      <td>F</td>\n",
       "      <td>employee</td>\n",
       "      <td>0</td>\n",
       "      <td>19536.867</td>\n",
       "      <td>transactions with my real estate</td>\n",
       "      <td>buy house/real estate</td>\n",
       "    </tr>\n",
       "    <tr>\n",
       "      <th>18219</th>\n",
       "      <td>-1</td>\n",
       "      <td>-3575.215641</td>\n",
       "      <td>33</td>\n",
       "      <td>secondary education</td>\n",
       "      <td>1</td>\n",
       "      <td>married</td>\n",
       "      <td>0</td>\n",
       "      <td>F</td>\n",
       "      <td>employee</td>\n",
       "      <td>0</td>\n",
       "      <td>20537.924</td>\n",
       "      <td>university education</td>\n",
       "      <td>education</td>\n",
       "    </tr>\n",
       "    <tr>\n",
       "      <th>19100</th>\n",
       "      <td>-1</td>\n",
       "      <td>-617.246968</td>\n",
       "      <td>38</td>\n",
       "      <td>secondary education</td>\n",
       "      <td>1</td>\n",
       "      <td>unmarried</td>\n",
       "      <td>4</td>\n",
       "      <td>M</td>\n",
       "      <td>employee</td>\n",
       "      <td>0</td>\n",
       "      <td>19552.880</td>\n",
       "      <td>building a real estate</td>\n",
       "      <td>buy house/real estate</td>\n",
       "    </tr>\n",
       "    <tr>\n",
       "      <th>19366</th>\n",
       "      <td>-1</td>\n",
       "      <td>-372.034749</td>\n",
       "      <td>43</td>\n",
       "      <td>secondary education</td>\n",
       "      <td>1</td>\n",
       "      <td>married</td>\n",
       "      <td>0</td>\n",
       "      <td>M</td>\n",
       "      <td>employee</td>\n",
       "      <td>0</td>\n",
       "      <td>24894.203</td>\n",
       "      <td>second-hand car purchase</td>\n",
       "      <td>buy car</td>\n",
       "    </tr>\n",
       "    <tr>\n",
       "      <th>19417</th>\n",
       "      <td>-1</td>\n",
       "      <td>350340.760224</td>\n",
       "      <td>28</td>\n",
       "      <td>secondary education</td>\n",
       "      <td>1</td>\n",
       "      <td>divorced</td>\n",
       "      <td>3</td>\n",
       "      <td>F</td>\n",
       "      <td>retiree</td>\n",
       "      <td>0</td>\n",
       "      <td>8459.679</td>\n",
       "      <td>cars</td>\n",
       "      <td>buy car</td>\n",
       "    </tr>\n",
       "    <tr>\n",
       "      <th>20393</th>\n",
       "      <td>-1</td>\n",
       "      <td>355157.107212</td>\n",
       "      <td>69</td>\n",
       "      <td>secondary education</td>\n",
       "      <td>1</td>\n",
       "      <td>unmarried</td>\n",
       "      <td>4</td>\n",
       "      <td>F</td>\n",
       "      <td>retiree</td>\n",
       "      <td>0</td>\n",
       "      <td>18643.367</td>\n",
       "      <td>real estate transactions</td>\n",
       "      <td>buy house/real estate</td>\n",
       "    </tr>\n",
       "    <tr>\n",
       "      <th>20717</th>\n",
       "      <td>-1</td>\n",
       "      <td>-661.822321</td>\n",
       "      <td>32</td>\n",
       "      <td>bachelor's degree</td>\n",
       "      <td>0</td>\n",
       "      <td>married</td>\n",
       "      <td>0</td>\n",
       "      <td>F</td>\n",
       "      <td>employee</td>\n",
       "      <td>0</td>\n",
       "      <td>21984.862</td>\n",
       "      <td>buy residential real estate</td>\n",
       "      <td>buy house/real estate</td>\n",
       "    </tr>\n",
       "    <tr>\n",
       "      <th>21140</th>\n",
       "      <td>-1</td>\n",
       "      <td>-1422.668059</td>\n",
       "      <td>44</td>\n",
       "      <td>secondary education</td>\n",
       "      <td>1</td>\n",
       "      <td>married</td>\n",
       "      <td>0</td>\n",
       "      <td>F</td>\n",
       "      <td>business</td>\n",
       "      <td>0</td>\n",
       "      <td>27129.935</td>\n",
       "      <td>transactions with my real estate</td>\n",
       "      <td>buy house/real estate</td>\n",
       "    </tr>\n",
       "  </tbody>\n",
       "</table>\n",
       "</div>"
      ],
      "text/plain": [
       "       children  days_employed  dob_years            education  education_id  \\\n",
       "291          -1   -4417.703588         46  secondary education             1   \n",
       "705          -1    -902.084528         50  secondary education             1   \n",
       "742          -1   -3174.456205         57  secondary education             1   \n",
       "800          -1  349987.852217         54  secondary education             1   \n",
       "941          -1            NaN         57  secondary education             1   \n",
       "1363         -1   -1195.264956         55  secondary education             1   \n",
       "1929         -1   -1461.303336         38  secondary education             1   \n",
       "2073         -1   -2539.761232         42  secondary education             1   \n",
       "3814         -1   -3045.290443         26  secondary education             1   \n",
       "4201         -1    -901.101738         41  secondary education             1   \n",
       "4402         -1  398001.302888         64  secondary education             1   \n",
       "4542         -1   -1811.899756         32  secondary education             1   \n",
       "5272         -1   -1143.485347         46  secondary education             1   \n",
       "6013         -1   -1361.258696         46    bachelor's degree             0   \n",
       "6385         -1  370215.476226         48  secondary education             1   \n",
       "7190         -1   -5928.202068         34  secondary education             1   \n",
       "7278         -1    -526.318451         51  secondary education             1   \n",
       "7615         -1            NaN         35  secondary education             1   \n",
       "7685         -1   -3237.360455         53  secondary education             1   \n",
       "8229         -1   -1803.441074         54    bachelor's degree             0   \n",
       "8251         -1   -3113.998449         31  secondary education             1   \n",
       "8561         -1    -195.479496         31  secondary education             1   \n",
       "9565         -1   -2896.629686         34    bachelor's degree             0   \n",
       "9574         -1   -2710.419901         28    bachelor's degree             0   \n",
       "10177        -1   -1743.604011         37  secondary education             1   \n",
       "10365        -1  345774.125957         63    bachelor's degree             0   \n",
       "10918        -1  340499.039342         50  secondary education             1   \n",
       "11109        -1   -3438.463024         59  secondary education             1   \n",
       "11268        -1   -1048.782203         30    bachelor's degree             0   \n",
       "11617        -1    -370.827130         27  secondary education             1   \n",
       "12304        -1   -8493.101252         61         some college             2   \n",
       "13786        -1            NaN         42  secondary education             1   \n",
       "14357        -1    -268.337037         23  secondary education             1   \n",
       "15147        -1   -9851.184337         44  secondary education             1   \n",
       "15435        -1   -3614.220232         40    bachelor's degree             0   \n",
       "16129        -1    -457.861760         33  secondary education             1   \n",
       "16265        -1   -2802.218127         40    bachelor's degree             0   \n",
       "17095        -1   -2809.693200         34  secondary education             1   \n",
       "17429        -1    -895.379738         37  secondary education             1   \n",
       "17657        -1   -4571.957475         41  secondary education             1   \n",
       "18219        -1   -3575.215641         33  secondary education             1   \n",
       "19100        -1    -617.246968         38  secondary education             1   \n",
       "19366        -1    -372.034749         43  secondary education             1   \n",
       "19417        -1  350340.760224         28  secondary education             1   \n",
       "20393        -1  355157.107212         69  secondary education             1   \n",
       "20717        -1    -661.822321         32    bachelor's degree             0   \n",
       "21140        -1   -1422.668059         44  secondary education             1   \n",
       "\n",
       "           family_status  family_status_id gender    income_type  debt  \\\n",
       "291    civil partnership                 1      F       employee     0   \n",
       "705              married                 0      F  civil servant     0   \n",
       "742              married                 0      F       employee     0   \n",
       "800            unmarried                 4      F        retiree     0   \n",
       "941              married                 0      F        retiree     0   \n",
       "1363             married                 0      F       business     0   \n",
       "1929           unmarried                 4      M       employee     0   \n",
       "2073            divorced                 3      F       business     0   \n",
       "3814   civil partnership                 1      F  civil servant     0   \n",
       "4201             married                 0      F  civil servant     0   \n",
       "4402             married                 0      F        retiree     0   \n",
       "4542             married                 0      F       employee     0   \n",
       "5272     widow / widower                 2      F       employee     0   \n",
       "6013             married                 0      F       employee     0   \n",
       "6385     widow / widower                 2      F        retiree     0   \n",
       "7190             married                 0      M       employee     0   \n",
       "7278             married                 0      F       employee     0   \n",
       "7615             married                 0      M       employee     0   \n",
       "7685     widow / widower                 2      F       employee     0   \n",
       "8229             married                 0      F       business     0   \n",
       "8251   civil partnership                 1      F       employee     0   \n",
       "8561             married                 0      F       employee     0   \n",
       "9565             married                 0      M       employee     0   \n",
       "9574             married                 0      M  civil servant     0   \n",
       "10177            married                 0      M       employee     0   \n",
       "10365    widow / widower                 2      F        retiree     0   \n",
       "10918            married                 0      M        retiree     0   \n",
       "11109            married                 0      F       employee     0   \n",
       "11268  civil partnership                 1      F       business     0   \n",
       "11617            married                 0      F       business     0   \n",
       "12304            married                 0      M       employee     0   \n",
       "13786          unmarried                 4      M       business     0   \n",
       "14357           divorced                 3      F       business     0   \n",
       "15147           divorced                 3      F       employee     0   \n",
       "15435  civil partnership                 1      F       employee     0   \n",
       "16129            married                 0      F       employee     1   \n",
       "16265            married                 0      M       employee     0   \n",
       "17095            married                 0      F       employee     0   \n",
       "17429            married                 0      F       business     0   \n",
       "17657            married                 0      F       employee     0   \n",
       "18219            married                 0      F       employee     0   \n",
       "19100          unmarried                 4      M       employee     0   \n",
       "19366            married                 0      M       employee     0   \n",
       "19417           divorced                 3      F        retiree     0   \n",
       "20393          unmarried                 4      F        retiree     0   \n",
       "20717            married                 0      F       employee     0   \n",
       "21140            married                 0      F       business     0   \n",
       "\n",
       "       total_income                                   purpose  \\\n",
       "291       16450.615                         profile education   \n",
       "705       22061.264                              car purchase   \n",
       "742       10282.887                   supplementary education   \n",
       "800       13806.996                   supplementary education   \n",
       "941             NaN                         buying my own car   \n",
       "1363      11128.112                         profile education   \n",
       "1929      17459.451                     purchase of the house   \n",
       "2073      26022.177                     purchase of the house   \n",
       "3814      21102.846                          having a wedding   \n",
       "4201      36220.123          transactions with my real estate   \n",
       "4402      26122.250                           buy real estate   \n",
       "4542      25687.155                                 education   \n",
       "5272      44593.283                           buy real estate   \n",
       "6013      22881.353              construction of own property   \n",
       "6385       5768.392                                 education   \n",
       "7190      29490.420                              car purchase   \n",
       "7278      23508.603  transactions with commercial real estate   \n",
       "7615            NaN                                 education   \n",
       "7685      25548.188                    building a real estate   \n",
       "8229      22209.453                           buy real estate   \n",
       "8251       8705.929                              to own a car   \n",
       "8561      23292.461                        housing renovation   \n",
       "9565      20280.745                  real estate transactions   \n",
       "9574      48501.946          to get a supplementary education   \n",
       "10177     49658.801                      getting an education   \n",
       "10365     27322.040                    building a real estate   \n",
       "10918     27322.044                  purchase of my own house   \n",
       "11109     35179.842                      housing transactions   \n",
       "11268     51456.592                              to buy a car   \n",
       "11617     26334.602           buying property for renting out   \n",
       "12304     50400.989                                  property   \n",
       "13786           NaN                                       car   \n",
       "14357     14761.213               buy residential real estate   \n",
       "15147     17758.530                              to own a car   \n",
       "15435     15700.406                         to have a wedding   \n",
       "16129     23942.573                                       car   \n",
       "16265     17917.516                     purchase of the house   \n",
       "17095     29207.022                  buying a second-hand car   \n",
       "17429     34370.243                                   housing   \n",
       "17657     19536.867          transactions with my real estate   \n",
       "18219     20537.924                      university education   \n",
       "19100     19552.880                    building a real estate   \n",
       "19366     24894.203                  second-hand car purchase   \n",
       "19417      8459.679                                      cars   \n",
       "20393     18643.367                  real estate transactions   \n",
       "20717     21984.862               buy residential real estate   \n",
       "21140     27129.935          transactions with my real estate   \n",
       "\n",
       "            purpose_category  \n",
       "291                education  \n",
       "705                  buy car  \n",
       "742                education  \n",
       "800                education  \n",
       "941                  buy car  \n",
       "1363               education  \n",
       "1929   buy house/real estate  \n",
       "2073   buy house/real estate  \n",
       "3814                 wedding  \n",
       "4201   buy house/real estate  \n",
       "4402   buy house/real estate  \n",
       "4542               education  \n",
       "5272   buy house/real estate  \n",
       "6013   buy house/real estate  \n",
       "6385               education  \n",
       "7190                 buy car  \n",
       "7278   buy house/real estate  \n",
       "7615               education  \n",
       "7685   buy house/real estate  \n",
       "8229   buy house/real estate  \n",
       "8251                 buy car  \n",
       "8561   buy house/real estate  \n",
       "9565   buy house/real estate  \n",
       "9574               education  \n",
       "10177              education  \n",
       "10365  buy house/real estate  \n",
       "10918  buy house/real estate  \n",
       "11109  buy house/real estate  \n",
       "11268                buy car  \n",
       "11617  buy house/real estate  \n",
       "12304  buy house/real estate  \n",
       "13786                buy car  \n",
       "14357  buy house/real estate  \n",
       "15147                buy car  \n",
       "15435                wedding  \n",
       "16129                buy car  \n",
       "16265  buy house/real estate  \n",
       "17095                buy car  \n",
       "17429  buy house/real estate  \n",
       "17657  buy house/real estate  \n",
       "18219              education  \n",
       "19100  buy house/real estate  \n",
       "19366                buy car  \n",
       "19417                buy car  \n",
       "20393  buy house/real estate  \n",
       "20717  buy house/real estate  \n",
       "21140  buy house/real estate  "
      ]
     },
     "execution_count": 13,
     "metadata": {},
     "output_type": "execute_result"
    }
   ],
   "source": [
    "#rows with children less than 0\n",
    "df[df['children']<0]"
   ]
  },
  {
   "cell_type": "code",
   "execution_count": 14,
   "metadata": {},
   "outputs": [
    {
     "data": {
      "text/plain": [
       "0.2188999115085464"
      ]
     },
     "execution_count": 14,
     "metadata": {},
     "output_type": "execute_result"
    }
   ],
   "source": [
    "len(df[df['children']<0])*100/len(df)"
   ]
  },
  {
   "cell_type": "markdown",
   "metadata": {},
   "source": [
    "Drop row with gender XNA due assumed data entry error to improve data quality. This is only one row and is proportionally insignificant. Dro rows with childre less than 0. to improve data quality. This is about 0.21% and is proportionally insignificant. "
   ]
  },
  {
   "cell_type": "code",
   "execution_count": 15,
   "metadata": {},
   "outputs": [],
   "source": [
    "#drop gender XNA and negative children value\n",
    "df=df.drop(index=df[df['gender']=='XNA'].index)\n",
    "df=df.drop(index=df[df['children']<0].index)"
   ]
  },
  {
   "cell_type": "code",
   "execution_count": 16,
   "metadata": {},
   "outputs": [
    {
     "name": "stdout",
     "output_type": "stream",
     "text": [
      "<class 'pandas.core.frame.DataFrame'>\n",
      "Int64Index: 21423 entries, 0 to 21524\n",
      "Data columns (total 13 columns):\n",
      " #   Column            Non-Null Count  Dtype  \n",
      "---  ------            --------------  -----  \n",
      " 0   children          21423 non-null  int64  \n",
      " 1   days_employed     19306 non-null  float64\n",
      " 2   dob_years         21423 non-null  int64  \n",
      " 3   education         21423 non-null  object \n",
      " 4   education_id      21423 non-null  int64  \n",
      " 5   family_status     21423 non-null  object \n",
      " 6   family_status_id  21423 non-null  int64  \n",
      " 7   gender            21423 non-null  object \n",
      " 8   income_type       21423 non-null  object \n",
      " 9   debt              21423 non-null  int64  \n",
      " 10  total_income      19306 non-null  float64\n",
      " 11  purpose           21423 non-null  object \n",
      " 12  purpose_category  21423 non-null  object \n",
      "dtypes: float64(2), int64(5), object(6)\n",
      "memory usage: 2.3+ MB\n"
     ]
    }
   ],
   "source": [
    "df.info()"
   ]
  },
  {
   "cell_type": "code",
   "execution_count": 17,
   "metadata": {},
   "outputs": [
    {
     "data": {
      "text/html": [
       "<div>\n",
       "<style scoped>\n",
       "    .dataframe tbody tr th:only-of-type {\n",
       "        vertical-align: middle;\n",
       "    }\n",
       "\n",
       "    .dataframe tbody tr th {\n",
       "        vertical-align: top;\n",
       "    }\n",
       "\n",
       "    .dataframe thead th {\n",
       "        text-align: right;\n",
       "    }\n",
       "</style>\n",
       "<table border=\"1\" class=\"dataframe\">\n",
       "  <thead>\n",
       "    <tr style=\"text-align: right;\">\n",
       "      <th></th>\n",
       "      <th>children</th>\n",
       "      <th>days_employed</th>\n",
       "      <th>dob_years</th>\n",
       "      <th>education_id</th>\n",
       "      <th>family_status_id</th>\n",
       "      <th>debt</th>\n",
       "      <th>total_income</th>\n",
       "    </tr>\n",
       "  </thead>\n",
       "  <tbody>\n",
       "    <tr>\n",
       "      <th>count</th>\n",
       "      <td>21423.000000</td>\n",
       "      <td>19306.000000</td>\n",
       "      <td>21423.000000</td>\n",
       "      <td>21423.000000</td>\n",
       "      <td>21423.000000</td>\n",
       "      <td>21423.000000</td>\n",
       "      <td>19306.000000</td>\n",
       "    </tr>\n",
       "    <tr>\n",
       "      <th>mean</th>\n",
       "      <td>0.542968</td>\n",
       "      <td>63068.193269</td>\n",
       "      <td>43.281520</td>\n",
       "      <td>0.817112</td>\n",
       "      <td>0.973720</td>\n",
       "      <td>0.081221</td>\n",
       "      <td>26792.210382</td>\n",
       "    </tr>\n",
       "    <tr>\n",
       "      <th>std</th>\n",
       "      <td>1.382638</td>\n",
       "      <td>140848.603906</td>\n",
       "      <td>12.576631</td>\n",
       "      <td>0.548695</td>\n",
       "      <td>1.421132</td>\n",
       "      <td>0.273181</td>\n",
       "      <td>16485.907915</td>\n",
       "    </tr>\n",
       "    <tr>\n",
       "      <th>min</th>\n",
       "      <td>0.000000</td>\n",
       "      <td>-18388.949901</td>\n",
       "      <td>0.000000</td>\n",
       "      <td>0.000000</td>\n",
       "      <td>0.000000</td>\n",
       "      <td>0.000000</td>\n",
       "      <td>3306.762000</td>\n",
       "    </tr>\n",
       "    <tr>\n",
       "      <th>25%</th>\n",
       "      <td>0.000000</td>\n",
       "      <td>-2746.773146</td>\n",
       "      <td>33.000000</td>\n",
       "      <td>1.000000</td>\n",
       "      <td>0.000000</td>\n",
       "      <td>0.000000</td>\n",
       "      <td>16481.736750</td>\n",
       "    </tr>\n",
       "    <tr>\n",
       "      <th>50%</th>\n",
       "      <td>0.000000</td>\n",
       "      <td>-1203.114182</td>\n",
       "      <td>42.000000</td>\n",
       "      <td>1.000000</td>\n",
       "      <td>0.000000</td>\n",
       "      <td>0.000000</td>\n",
       "      <td>23201.873500</td>\n",
       "    </tr>\n",
       "    <tr>\n",
       "      <th>75%</th>\n",
       "      <td>1.000000</td>\n",
       "      <td>-290.829396</td>\n",
       "      <td>53.000000</td>\n",
       "      <td>1.000000</td>\n",
       "      <td>1.000000</td>\n",
       "      <td>0.000000</td>\n",
       "      <td>32551.974250</td>\n",
       "    </tr>\n",
       "    <tr>\n",
       "      <th>max</th>\n",
       "      <td>20.000000</td>\n",
       "      <td>401755.400475</td>\n",
       "      <td>75.000000</td>\n",
       "      <td>4.000000</td>\n",
       "      <td>4.000000</td>\n",
       "      <td>1.000000</td>\n",
       "      <td>362496.645000</td>\n",
       "    </tr>\n",
       "  </tbody>\n",
       "</table>\n",
       "</div>"
      ],
      "text/plain": [
       "           children  days_employed     dob_years  education_id  \\\n",
       "count  21423.000000   19306.000000  21423.000000  21423.000000   \n",
       "mean       0.542968   63068.193269     43.281520      0.817112   \n",
       "std        1.382638  140848.603906     12.576631      0.548695   \n",
       "min        0.000000  -18388.949901      0.000000      0.000000   \n",
       "25%        0.000000   -2746.773146     33.000000      1.000000   \n",
       "50%        0.000000   -1203.114182     42.000000      1.000000   \n",
       "75%        1.000000    -290.829396     53.000000      1.000000   \n",
       "max       20.000000  401755.400475     75.000000      4.000000   \n",
       "\n",
       "       family_status_id          debt   total_income  \n",
       "count      21423.000000  21423.000000   19306.000000  \n",
       "mean           0.973720      0.081221   26792.210382  \n",
       "std            1.421132      0.273181   16485.907915  \n",
       "min            0.000000      0.000000    3306.762000  \n",
       "25%            0.000000      0.000000   16481.736750  \n",
       "50%            0.000000      0.000000   23201.873500  \n",
       "75%            1.000000      0.000000   32551.974250  \n",
       "max            4.000000      1.000000  362496.645000  "
      ]
     },
     "execution_count": 17,
     "metadata": {},
     "output_type": "execute_result"
    }
   ],
   "source": [
    "df.describe()"
   ]
  },
  {
   "cell_type": "markdown",
   "metadata": {},
   "source": [
    "#### Handling negative values in days employed"
   ]
  },
  {
   "cell_type": "code",
   "execution_count": 18,
   "metadata": {},
   "outputs": [
    {
     "data": {
      "text/plain": [
       "15868"
      ]
     },
     "execution_count": 18,
     "metadata": {},
     "output_type": "execute_result"
    }
   ],
   "source": [
    "#number of rows with negative days employed\n",
    "len(df[df['days_employed']<0])"
   ]
  },
  {
   "cell_type": "code",
   "execution_count": 19,
   "metadata": {},
   "outputs": [
    {
     "data": {
      "text/plain": [
       "74.06992484712691"
      ]
     },
     "execution_count": 19,
     "metadata": {},
     "output_type": "execute_result"
    }
   ],
   "source": [
    "#percentage of rows with negative days employed\n",
    "len(df[df['days_employed']<0])*100/len(df)"
   ]
  },
  {
   "cell_type": "markdown",
   "metadata": {},
   "source": [
    "Over 74% of the data has a negative value for the number of days employed. This a huge portion of our data and cannot be dropped. Assuming data entry error and converting data to absolute values after consultation."
   ]
  },
  {
   "cell_type": "code",
   "execution_count": 20,
   "metadata": {},
   "outputs": [],
   "source": [
    "df['days_employed']= df['days_employed'].apply(lambda x: abs(x))"
   ]
  },
  {
   "cell_type": "markdown",
   "metadata": {},
   "source": [
    "___\n",
    "The percentile distribution of the days employed how huge outlier and a max values of 401755 days, and equivalent of 1100 years. This is very improbable. Perform futher analysis."
   ]
  },
  {
   "cell_type": "markdown",
   "metadata": {},
   "source": [
    "#### Handling outlier in days_employed"
   ]
  },
  {
   "cell_type": "code",
   "execution_count": 21,
   "metadata": {},
   "outputs": [
    {
     "data": {
      "image/png": "[encoded data removed]",
      "text/plain": [
       "<Figure size 720x504 with 1 Axes>"
      ]
     },
     "metadata": {},
     "output_type": "display_data"
    }
   ],
   "source": [
    "fig, axes= plt.subplots(figsize=(10,7))\n",
    "sns.histplot(data=df, x='days_employed', bins=50, kde=True)\n",
    "plt.title('Histogram distribution of the days employed')\n",
    "plt.show()"
   ]
  },
  {
   "cell_type": "code",
   "execution_count": 22,
   "metadata": {},
   "outputs": [
    {
     "data": {
      "image/png": "[encoded data removed]",
      "text/plain": [
       "<Figure size 720x504 with 1 Axes>"
      ]
     },
     "metadata": {},
     "output_type": "display_data"
    }
   ],
   "source": [
    "fig, axes= plt.subplots(figsize=(10,7))\n",
    "sns.boxplot(y=df['days_employed'])\n",
    "plt.title('Box plot of the days employed')\n",
    "plt.show()"
   ]
  },
  {
   "cell_type": "markdown",
   "metadata": {},
   "source": [
    "Both the boxplot and histogram plot confirm the outliers"
   ]
  },
  {
   "cell_type": "code",
   "execution_count": 23,
   "metadata": {},
   "outputs": [
    {
     "data": {
      "text/plain": [
       "3438"
      ]
     },
     "execution_count": 23,
     "metadata": {},
     "output_type": "execute_result"
    }
   ],
   "source": [
    "#number of rows with days employed more than 60years which is 22000] days\n",
    "len(df.loc[df['days_employed']>22000])"
   ]
  },
  {
   "cell_type": "code",
   "execution_count": 24,
   "metadata": {},
   "outputs": [
    {
     "data": {
      "text/plain": [
       "16.04817252485646"
      ]
     },
     "execution_count": 24,
     "metadata": {},
     "output_type": "execute_result"
    }
   ],
   "source": [
    "#percentage of rows with days employed more than 60years which is 22000] days\n",
    "len(df.loc[df['days_employed']>22000])*100/len(df)"
   ]
  },
  {
   "cell_type": "markdown",
   "metadata": {},
   "source": [
    "Number of rows with improbable number of days make up a significant portion of our data and cannot be drop. Define upper boundary and cap the number of days employed at 22000 days, 60years."
   ]
  },
  {
   "cell_type": "code",
   "execution_count": 25,
   "metadata": {},
   "outputs": [],
   "source": [
    "#define upper boundary\n",
    "df['days_employed']=df['days_employed'].apply(lambda x: 22000 if x>22000 else x)"
   ]
  },
  {
   "cell_type": "code",
   "execution_count": 54,
   "metadata": {},
   "outputs": [
    {
     "data": {
      "image/png": "[encoded data removed]",
      "text/plain": [
       "<Figure size 720x504 with 1 Axes>"
      ]
     },
     "metadata": {},
     "output_type": "display_data"
    }
   ],
   "source": [
    "fig, axes= plt.subplots(figsize=(10,7))\n",
    "sns.boxplot(y=df['days_employed'])\n",
    "plt.title('Box plot of the days_employed after capping outlier')\n",
    "plt.show()"
   ]
  },
  {
   "cell_type": "markdown",
   "metadata": {},
   "source": [
    "Days employed data is not consitent and processed. No wide outlier"
   ]
  },
  {
   "cell_type": "markdown",
   "metadata": {},
   "source": [
    "#### Futher analyze dob_years column for age 0 "
   ]
  },
  {
   "cell_type": "code",
   "execution_count": 28,
   "metadata": {},
   "outputs": [
    {
     "data": {
      "text/plain": [
       "35    615\n",
       "40    605\n",
       "41    604\n",
       "34    598\n",
       "38    595\n",
       "42    594\n",
       "33    579\n",
       "39    572\n",
       "31    557\n",
       "36    554\n",
       "29    544\n",
       "44    543\n",
       "30    537\n",
       "48    536\n",
       "37    534\n",
       "50    511\n",
       "43    511\n",
       "49    508\n",
       "32    507\n",
       "28    501\n",
       "45    497\n",
       "27    492\n",
       "52    484\n",
       "56    484\n",
       "47    477\n",
       "54    474\n",
       "46    470\n",
       "53    458\n",
       "58    456\n",
       "57    454\n",
       "51    447\n",
       "59    442\n",
       "55    442\n",
       "26    407\n",
       "60    374\n",
       "25    357\n",
       "61    353\n",
       "62    349\n",
       "63    268\n",
       "24    263\n",
       "64    261\n",
       "23    252\n",
       "65    194\n",
       "22    183\n",
       "66    182\n",
       "67    167\n",
       "21    111\n",
       "0     101\n",
       "68     99\n",
       "69     84\n",
       "70     65\n",
       "71     58\n",
       "20     51\n",
       "72     33\n",
       "19     14\n",
       "73      8\n",
       "74      6\n",
       "75      1\n",
       "Name: dob_years, dtype: int64"
      ]
     },
     "execution_count": 28,
     "metadata": {},
     "output_type": "execute_result"
    }
   ],
   "source": [
    "#investigate dob_years columns\n",
    "df['dob_years'].value_counts()"
   ]
  },
  {
   "cell_type": "code",
   "execution_count": 29,
   "metadata": {},
   "outputs": [
    {
     "data": {
      "text/html": [
       "<div>\n",
       "<style scoped>\n",
       "    .dataframe tbody tr th:only-of-type {\n",
       "        vertical-align: middle;\n",
       "    }\n",
       "\n",
       "    .dataframe tbody tr th {\n",
       "        vertical-align: top;\n",
       "    }\n",
       "\n",
       "    .dataframe thead th {\n",
       "        text-align: right;\n",
       "    }\n",
       "</style>\n",
       "<table border=\"1\" class=\"dataframe\">\n",
       "  <thead>\n",
       "    <tr style=\"text-align: right;\">\n",
       "      <th></th>\n",
       "      <th>children</th>\n",
       "      <th>days_employed</th>\n",
       "      <th>dob_years</th>\n",
       "      <th>education</th>\n",
       "      <th>education_id</th>\n",
       "      <th>family_status</th>\n",
       "      <th>family_status_id</th>\n",
       "      <th>gender</th>\n",
       "      <th>income_type</th>\n",
       "      <th>debt</th>\n",
       "      <th>total_income</th>\n",
       "      <th>purpose</th>\n",
       "      <th>purpose_category</th>\n",
       "    </tr>\n",
       "  </thead>\n",
       "  <tbody>\n",
       "    <tr>\n",
       "      <th>99</th>\n",
       "      <td>0</td>\n",
       "      <td>22000.000000</td>\n",
       "      <td>0</td>\n",
       "      <td>secondary education</td>\n",
       "      <td>1</td>\n",
       "      <td>married</td>\n",
       "      <td>0</td>\n",
       "      <td>F</td>\n",
       "      <td>retiree</td>\n",
       "      <td>0</td>\n",
       "      <td>11406.644</td>\n",
       "      <td>car</td>\n",
       "      <td>buy car</td>\n",
       "    </tr>\n",
       "    <tr>\n",
       "      <th>149</th>\n",
       "      <td>0</td>\n",
       "      <td>2664.273168</td>\n",
       "      <td>0</td>\n",
       "      <td>secondary education</td>\n",
       "      <td>1</td>\n",
       "      <td>divorced</td>\n",
       "      <td>3</td>\n",
       "      <td>F</td>\n",
       "      <td>employee</td>\n",
       "      <td>0</td>\n",
       "      <td>11228.230</td>\n",
       "      <td>housing transactions</td>\n",
       "      <td>buy house/real estate</td>\n",
       "    </tr>\n",
       "    <tr>\n",
       "      <th>270</th>\n",
       "      <td>3</td>\n",
       "      <td>1872.663186</td>\n",
       "      <td>0</td>\n",
       "      <td>secondary education</td>\n",
       "      <td>1</td>\n",
       "      <td>married</td>\n",
       "      <td>0</td>\n",
       "      <td>F</td>\n",
       "      <td>employee</td>\n",
       "      <td>0</td>\n",
       "      <td>16346.633</td>\n",
       "      <td>housing renovation</td>\n",
       "      <td>buy house/real estate</td>\n",
       "    </tr>\n",
       "    <tr>\n",
       "      <th>578</th>\n",
       "      <td>0</td>\n",
       "      <td>22000.000000</td>\n",
       "      <td>0</td>\n",
       "      <td>secondary education</td>\n",
       "      <td>1</td>\n",
       "      <td>married</td>\n",
       "      <td>0</td>\n",
       "      <td>F</td>\n",
       "      <td>retiree</td>\n",
       "      <td>0</td>\n",
       "      <td>15619.310</td>\n",
       "      <td>construction of own property</td>\n",
       "      <td>buy house/real estate</td>\n",
       "    </tr>\n",
       "    <tr>\n",
       "      <th>1040</th>\n",
       "      <td>0</td>\n",
       "      <td>1158.029561</td>\n",
       "      <td>0</td>\n",
       "      <td>bachelor's degree</td>\n",
       "      <td>0</td>\n",
       "      <td>divorced</td>\n",
       "      <td>3</td>\n",
       "      <td>F</td>\n",
       "      <td>business</td>\n",
       "      <td>0</td>\n",
       "      <td>48639.062</td>\n",
       "      <td>to own a car</td>\n",
       "      <td>buy car</td>\n",
       "    </tr>\n",
       "    <tr>\n",
       "      <th>...</th>\n",
       "      <td>...</td>\n",
       "      <td>...</td>\n",
       "      <td>...</td>\n",
       "      <td>...</td>\n",
       "      <td>...</td>\n",
       "      <td>...</td>\n",
       "      <td>...</td>\n",
       "      <td>...</td>\n",
       "      <td>...</td>\n",
       "      <td>...</td>\n",
       "      <td>...</td>\n",
       "      <td>...</td>\n",
       "      <td>...</td>\n",
       "    </tr>\n",
       "    <tr>\n",
       "      <th>19829</th>\n",
       "      <td>0</td>\n",
       "      <td>NaN</td>\n",
       "      <td>0</td>\n",
       "      <td>secondary education</td>\n",
       "      <td>1</td>\n",
       "      <td>married</td>\n",
       "      <td>0</td>\n",
       "      <td>F</td>\n",
       "      <td>employee</td>\n",
       "      <td>0</td>\n",
       "      <td>NaN</td>\n",
       "      <td>housing</td>\n",
       "      <td>buy house/real estate</td>\n",
       "    </tr>\n",
       "    <tr>\n",
       "      <th>20462</th>\n",
       "      <td>0</td>\n",
       "      <td>22000.000000</td>\n",
       "      <td>0</td>\n",
       "      <td>secondary education</td>\n",
       "      <td>1</td>\n",
       "      <td>married</td>\n",
       "      <td>0</td>\n",
       "      <td>F</td>\n",
       "      <td>retiree</td>\n",
       "      <td>0</td>\n",
       "      <td>41471.027</td>\n",
       "      <td>purchase of my own house</td>\n",
       "      <td>buy house/real estate</td>\n",
       "    </tr>\n",
       "    <tr>\n",
       "      <th>20577</th>\n",
       "      <td>0</td>\n",
       "      <td>22000.000000</td>\n",
       "      <td>0</td>\n",
       "      <td>secondary education</td>\n",
       "      <td>1</td>\n",
       "      <td>unmarried</td>\n",
       "      <td>4</td>\n",
       "      <td>F</td>\n",
       "      <td>retiree</td>\n",
       "      <td>0</td>\n",
       "      <td>20766.202</td>\n",
       "      <td>property</td>\n",
       "      <td>buy house/real estate</td>\n",
       "    </tr>\n",
       "    <tr>\n",
       "      <th>21179</th>\n",
       "      <td>2</td>\n",
       "      <td>108.967042</td>\n",
       "      <td>0</td>\n",
       "      <td>bachelor's degree</td>\n",
       "      <td>0</td>\n",
       "      <td>married</td>\n",
       "      <td>0</td>\n",
       "      <td>M</td>\n",
       "      <td>business</td>\n",
       "      <td>0</td>\n",
       "      <td>38512.321</td>\n",
       "      <td>building a real estate</td>\n",
       "      <td>buy house/real estate</td>\n",
       "    </tr>\n",
       "    <tr>\n",
       "      <th>21313</th>\n",
       "      <td>0</td>\n",
       "      <td>1268.487728</td>\n",
       "      <td>0</td>\n",
       "      <td>secondary education</td>\n",
       "      <td>1</td>\n",
       "      <td>unmarried</td>\n",
       "      <td>4</td>\n",
       "      <td>M</td>\n",
       "      <td>employee</td>\n",
       "      <td>0</td>\n",
       "      <td>24387.070</td>\n",
       "      <td>housing transactions</td>\n",
       "      <td>buy house/real estate</td>\n",
       "    </tr>\n",
       "  </tbody>\n",
       "</table>\n",
       "<p>101 rows × 13 columns</p>\n",
       "</div>"
      ],
      "text/plain": [
       "       children  days_employed  dob_years            education  education_id  \\\n",
       "99            0   22000.000000          0  secondary education             1   \n",
       "149           0    2664.273168          0  secondary education             1   \n",
       "270           3    1872.663186          0  secondary education             1   \n",
       "578           0   22000.000000          0  secondary education             1   \n",
       "1040          0    1158.029561          0    bachelor's degree             0   \n",
       "...         ...            ...        ...                  ...           ...   \n",
       "19829         0            NaN          0  secondary education             1   \n",
       "20462         0   22000.000000          0  secondary education             1   \n",
       "20577         0   22000.000000          0  secondary education             1   \n",
       "21179         2     108.967042          0    bachelor's degree             0   \n",
       "21313         0    1268.487728          0  secondary education             1   \n",
       "\n",
       "      family_status  family_status_id gender income_type  debt  total_income  \\\n",
       "99          married                 0      F     retiree     0     11406.644   \n",
       "149        divorced                 3      F    employee     0     11228.230   \n",
       "270         married                 0      F    employee     0     16346.633   \n",
       "578         married                 0      F     retiree     0     15619.310   \n",
       "1040       divorced                 3      F    business     0     48639.062   \n",
       "...             ...               ...    ...         ...   ...           ...   \n",
       "19829       married                 0      F    employee     0           NaN   \n",
       "20462       married                 0      F     retiree     0     41471.027   \n",
       "20577     unmarried                 4      F     retiree     0     20766.202   \n",
       "21179       married                 0      M    business     0     38512.321   \n",
       "21313     unmarried                 4      M    employee     0     24387.070   \n",
       "\n",
       "                            purpose       purpose_category  \n",
       "99                              car                buy car  \n",
       "149            housing transactions  buy house/real estate  \n",
       "270              housing renovation  buy house/real estate  \n",
       "578    construction of own property  buy house/real estate  \n",
       "1040                   to own a car                buy car  \n",
       "...                             ...                    ...  \n",
       "19829                       housing  buy house/real estate  \n",
       "20462      purchase of my own house  buy house/real estate  \n",
       "20577                      property  buy house/real estate  \n",
       "21179        building a real estate  buy house/real estate  \n",
       "21313          housing transactions  buy house/real estate  \n",
       "\n",
       "[101 rows x 13 columns]"
      ]
     },
     "execution_count": 29,
     "metadata": {},
     "output_type": "execute_result"
    }
   ],
   "source": [
    "df[df['dob_years']==0]"
   ]
  },
  {
   "cell_type": "code",
   "execution_count": 30,
   "metadata": {},
   "outputs": [
    {
     "data": {
      "text/plain": [
       "0.4714559118704197"
      ]
     },
     "execution_count": 30,
     "metadata": {},
     "output_type": "execute_result"
    }
   ],
   "source": [
    "# Percentage of data with age= 0 in dob columns. \n",
    "len(df[df['dob_years']==0])/len(df)*100"
   ]
  },
  {
   "cell_type": "markdown",
   "metadata": {},
   "source": [
    "Rows with age 0 show levels of education and family status and income type. This is an error and such all age entry with 0 will be treated as missing values. These rows are less than 0.5% of the data and is of insignificant proportion and will be dropped."
   ]
  },
  {
   "cell_type": "code",
   "execution_count": 31,
   "metadata": {},
   "outputs": [],
   "source": [
    "df=df.drop(index=df[df['dob_years']==0].index)"
   ]
  },
  {
   "cell_type": "code",
   "execution_count": 32,
   "metadata": {},
   "outputs": [
    {
     "data": {
      "text/plain": [
       "count    21322.000000\n",
       "mean        43.486540\n",
       "std         12.247649\n",
       "min         19.000000\n",
       "25%         33.000000\n",
       "50%         43.000000\n",
       "75%         53.000000\n",
       "max         75.000000\n",
       "Name: dob_years, dtype: float64"
      ]
     },
     "execution_count": 32,
     "metadata": {},
     "output_type": "execute_result"
    }
   ],
   "source": [
    "df['dob_years'].describe()"
   ]
  },
  {
   "cell_type": "markdown",
   "metadata": {},
   "source": [
    "#### Fill  missing values in days_employed and total_income using the Iterative Imputer "
   ]
  },
  {
   "cell_type": "code",
   "execution_count": 33,
   "metadata": {},
   "outputs": [],
   "source": [
    "imputer=IterativeImputer(random_state=0)\n",
    "df_fill=imputer.fit_transform(df[['children','dob_years','total_income','days_employed']])"
   ]
  },
  {
   "cell_type": "code",
   "execution_count": 34,
   "metadata": {},
   "outputs": [],
   "source": [
    "df_fill=pd.DataFrame(df_fill, columns=['children','dob_years','total_income','days_employed'])"
   ]
  },
  {
   "cell_type": "code",
   "execution_count": 35,
   "metadata": {},
   "outputs": [
    {
     "name": "stdout",
     "output_type": "stream",
     "text": [
      "<class 'pandas.core.frame.DataFrame'>\n",
      "RangeIndex: 21322 entries, 0 to 21321\n",
      "Data columns (total 4 columns):\n",
      " #   Column         Non-Null Count  Dtype  \n",
      "---  ------         --------------  -----  \n",
      " 0   children       21322 non-null  float64\n",
      " 1   dob_years      21322 non-null  float64\n",
      " 2   total_income   21322 non-null  float64\n",
      " 3   days_employed  21322 non-null  float64\n",
      "dtypes: float64(4)\n",
      "memory usage: 666.4 KB\n"
     ]
    }
   ],
   "source": [
    "df_fill.info()"
   ]
  },
  {
   "cell_type": "code",
   "execution_count": 36,
   "metadata": {},
   "outputs": [],
   "source": [
    "df['days_employed']= df_fill['days_employed']\n",
    "df['total_income']=df_fill['total_income']"
   ]
  },
  {
   "cell_type": "code",
   "execution_count": 37,
   "metadata": {},
   "outputs": [],
   "source": [
    "df.dropna(inplace=True)"
   ]
  },
  {
   "cell_type": "code",
   "execution_count": 38,
   "metadata": {},
   "outputs": [
    {
     "name": "stdout",
     "output_type": "stream",
     "text": [
      "<class 'pandas.core.frame.DataFrame'>\n",
      "Int64Index: 21120 entries, 0 to 21321\n",
      "Data columns (total 13 columns):\n",
      " #   Column            Non-Null Count  Dtype  \n",
      "---  ------            --------------  -----  \n",
      " 0   children          21120 non-null  int64  \n",
      " 1   days_employed     21120 non-null  float64\n",
      " 2   dob_years         21120 non-null  int64  \n",
      " 3   education         21120 non-null  object \n",
      " 4   education_id      21120 non-null  int64  \n",
      " 5   family_status     21120 non-null  object \n",
      " 6   family_status_id  21120 non-null  int64  \n",
      " 7   gender            21120 non-null  object \n",
      " 8   income_type       21120 non-null  object \n",
      " 9   debt              21120 non-null  int64  \n",
      " 10  total_income      21120 non-null  float64\n",
      " 11  purpose           21120 non-null  object \n",
      " 12  purpose_category  21120 non-null  object \n",
      "dtypes: float64(2), int64(5), object(6)\n",
      "memory usage: 2.3+ MB\n"
     ]
    }
   ],
   "source": [
    "df.info()"
   ]
  },
  {
   "cell_type": "code",
   "execution_count": 39,
   "metadata": {},
   "outputs": [
    {
     "data": {
      "text/html": [
       "<div>\n",
       "<style scoped>\n",
       "    .dataframe tbody tr th:only-of-type {\n",
       "        vertical-align: middle;\n",
       "    }\n",
       "\n",
       "    .dataframe tbody tr th {\n",
       "        vertical-align: top;\n",
       "    }\n",
       "\n",
       "    .dataframe thead th {\n",
       "        text-align: right;\n",
       "    }\n",
       "</style>\n",
       "<table border=\"1\" class=\"dataframe\">\n",
       "  <thead>\n",
       "    <tr style=\"text-align: right;\">\n",
       "      <th></th>\n",
       "      <th>children</th>\n",
       "      <th>days_employed</th>\n",
       "      <th>dob_years</th>\n",
       "      <th>education_id</th>\n",
       "      <th>family_status_id</th>\n",
       "      <th>debt</th>\n",
       "      <th>total_income</th>\n",
       "    </tr>\n",
       "  </thead>\n",
       "  <tbody>\n",
       "    <tr>\n",
       "      <th>count</th>\n",
       "      <td>21120.000000</td>\n",
       "      <td>21120.000000</td>\n",
       "      <td>21120.000000</td>\n",
       "      <td>21120.000000</td>\n",
       "      <td>21120.000000</td>\n",
       "      <td>21120.000000</td>\n",
       "      <td>21120.000000</td>\n",
       "    </tr>\n",
       "    <tr>\n",
       "      <th>mean</th>\n",
       "      <td>0.538873</td>\n",
       "      <td>5868.756898</td>\n",
       "      <td>43.484280</td>\n",
       "      <td>0.817945</td>\n",
       "      <td>0.972112</td>\n",
       "      <td>0.080634</td>\n",
       "      <td>26791.876511</td>\n",
       "    </tr>\n",
       "    <tr>\n",
       "      <th>std</th>\n",
       "      <td>1.356625</td>\n",
       "      <td>7579.066771</td>\n",
       "      <td>12.246998</td>\n",
       "      <td>0.548556</td>\n",
       "      <td>1.420304</td>\n",
       "      <td>0.272279</td>\n",
       "      <td>15696.164896</td>\n",
       "    </tr>\n",
       "    <tr>\n",
       "      <th>min</th>\n",
       "      <td>0.000000</td>\n",
       "      <td>-4635.849709</td>\n",
       "      <td>19.000000</td>\n",
       "      <td>0.000000</td>\n",
       "      <td>0.000000</td>\n",
       "      <td>0.000000</td>\n",
       "      <td>3306.762000</td>\n",
       "    </tr>\n",
       "    <tr>\n",
       "      <th>25%</th>\n",
       "      <td>0.000000</td>\n",
       "      <td>944.946789</td>\n",
       "      <td>33.000000</td>\n",
       "      <td>1.000000</td>\n",
       "      <td>0.000000</td>\n",
       "      <td>0.000000</td>\n",
       "      <td>17222.623000</td>\n",
       "    </tr>\n",
       "    <tr>\n",
       "      <th>50%</th>\n",
       "      <td>0.000000</td>\n",
       "      <td>2366.245640</td>\n",
       "      <td>43.000000</td>\n",
       "      <td>1.000000</td>\n",
       "      <td>0.000000</td>\n",
       "      <td>0.000000</td>\n",
       "      <td>24708.596500</td>\n",
       "    </tr>\n",
       "    <tr>\n",
       "      <th>75%</th>\n",
       "      <td>1.000000</td>\n",
       "      <td>6578.220319</td>\n",
       "      <td>53.000000</td>\n",
       "      <td>1.000000</td>\n",
       "      <td>1.000000</td>\n",
       "      <td>0.000000</td>\n",
       "      <td>31319.888750</td>\n",
       "    </tr>\n",
       "    <tr>\n",
       "      <th>max</th>\n",
       "      <td>20.000000</td>\n",
       "      <td>22000.000000</td>\n",
       "      <td>75.000000</td>\n",
       "      <td>4.000000</td>\n",
       "      <td>4.000000</td>\n",
       "      <td>1.000000</td>\n",
       "      <td>362496.645000</td>\n",
       "    </tr>\n",
       "  </tbody>\n",
       "</table>\n",
       "</div>"
      ],
      "text/plain": [
       "           children  days_employed     dob_years  education_id  \\\n",
       "count  21120.000000   21120.000000  21120.000000  21120.000000   \n",
       "mean       0.538873    5868.756898     43.484280      0.817945   \n",
       "std        1.356625    7579.066771     12.246998      0.548556   \n",
       "min        0.000000   -4635.849709     19.000000      0.000000   \n",
       "25%        0.000000     944.946789     33.000000      1.000000   \n",
       "50%        0.000000    2366.245640     43.000000      1.000000   \n",
       "75%        1.000000    6578.220319     53.000000      1.000000   \n",
       "max       20.000000   22000.000000     75.000000      4.000000   \n",
       "\n",
       "       family_status_id          debt   total_income  \n",
       "count      21120.000000  21120.000000   21120.000000  \n",
       "mean           0.972112      0.080634   26791.876511  \n",
       "std            1.420304      0.272279   15696.164896  \n",
       "min            0.000000      0.000000    3306.762000  \n",
       "25%            0.000000      0.000000   17222.623000  \n",
       "50%            0.000000      0.000000   24708.596500  \n",
       "75%            1.000000      0.000000   31319.888750  \n",
       "max            4.000000      1.000000  362496.645000  "
      ]
     },
     "execution_count": 39,
     "metadata": {},
     "output_type": "execute_result"
    }
   ],
   "source": [
    "df.describe()"
   ]
  },
  {
   "cell_type": "code",
   "execution_count": 40,
   "metadata": {},
   "outputs": [
    {
     "data": {
      "text/plain": [
       "99.88249546170553"
      ]
     },
     "execution_count": 40,
     "metadata": {},
     "output_type": "execute_result"
    }
   ],
   "source": [
    "#percentage of data volume in the original data\n",
    "df.count().sum() *100/df_int.count().sum()"
   ]
  },
  {
   "cell_type": "markdown",
   "metadata": {},
   "source": [
    "All data preprocessing has been complete and the data is now ready for further exploratory analysis. We have improved our data quality and kept over 99% of the original data."
   ]
  },
  {
   "cell_type": "markdown",
   "metadata": {},
   "source": [
    "#### Categorize continuous variables for group analysis"
   ]
  },
  {
   "cell_type": "code",
   "execution_count": 41,
   "metadata": {},
   "outputs": [],
   "source": [
    "# Let's write a function that calculates the age category\n",
    "#categorize the dob_years column\n",
    "\n",
    "def age_category(age):\n",
    "    if age>60:\n",
    "        return 5\n",
    "    elif age>50:\n",
    "        return 4\n",
    "    elif age>30:\n",
    "        return 3\n",
    "    elif age>21:\n",
    "        return 2\n",
    "    else:\n",
    "        return 1"
   ]
  },
  {
   "cell_type": "code",
   "execution_count": 42,
   "metadata": {},
   "outputs": [],
   "source": [
    "# Creating new column based on function\n",
    "df['age_category']=df['dob_years'].apply(age_category)\n"
   ]
  },
  {
   "cell_type": "code",
   "execution_count": 43,
   "metadata": {
    "scrolled": true
   },
   "outputs": [],
   "source": [
    "# Categorizing total_income\n",
    "def income_category (total_income):\n",
    "    if total_income<17251:\n",
    "        return 1\n",
    "    elif total_income< 23200:\n",
    "        return 2\n",
    "    elif total_income< 31281:\n",
    "        return 3\n",
    "    else:\n",
    "        return 4\n",
    "    \n",
    "df['income_category']=df['total_income'].apply(income_category)"
   ]
  },
  {
   "cell_type": "code",
   "execution_count": 44,
   "metadata": {},
   "outputs": [],
   "source": [
    "#categorizing children column\n",
    "def children_category (child):\n",
    "    if child==0:\n",
    "        return 1\n",
    "    elif child<3:\n",
    "        return 2\n",
    "    elif child<6:\n",
    "        return 3\n",
    "    else:\n",
    "        return 4\n",
    "    \n",
    "df['children_category']=df['children'].apply(children_category)"
   ]
  },
  {
   "cell_type": "code",
   "execution_count": 45,
   "metadata": {},
   "outputs": [
    {
     "data": {
      "text/html": [
       "<div>\n",
       "<style scoped>\n",
       "    .dataframe tbody tr th:only-of-type {\n",
       "        vertical-align: middle;\n",
       "    }\n",
       "\n",
       "    .dataframe tbody tr th {\n",
       "        vertical-align: top;\n",
       "    }\n",
       "\n",
       "    .dataframe thead th {\n",
       "        text-align: right;\n",
       "    }\n",
       "</style>\n",
       "<table border=\"1\" class=\"dataframe\">\n",
       "  <thead>\n",
       "    <tr style=\"text-align: right;\">\n",
       "      <th></th>\n",
       "      <th>days_employed</th>\n",
       "      <th>education_id</th>\n",
       "      <th>family_status_id</th>\n",
       "      <th>gender</th>\n",
       "      <th>income_type</th>\n",
       "      <th>debt</th>\n",
       "      <th>purpose_category</th>\n",
       "      <th>age_category</th>\n",
       "      <th>income_category</th>\n",
       "      <th>children_category</th>\n",
       "    </tr>\n",
       "  </thead>\n",
       "  <tbody>\n",
       "    <tr>\n",
       "      <th>0</th>\n",
       "      <td>8437.673028</td>\n",
       "      <td>0</td>\n",
       "      <td>0</td>\n",
       "      <td>F</td>\n",
       "      <td>employee</td>\n",
       "      <td>0</td>\n",
       "      <td>buy house/real estate</td>\n",
       "      <td>3</td>\n",
       "      <td>4</td>\n",
       "      <td>2</td>\n",
       "    </tr>\n",
       "    <tr>\n",
       "      <th>1</th>\n",
       "      <td>4024.803754</td>\n",
       "      <td>1</td>\n",
       "      <td>0</td>\n",
       "      <td>F</td>\n",
       "      <td>employee</td>\n",
       "      <td>0</td>\n",
       "      <td>buy car</td>\n",
       "      <td>3</td>\n",
       "      <td>2</td>\n",
       "      <td>2</td>\n",
       "    </tr>\n",
       "    <tr>\n",
       "      <th>2</th>\n",
       "      <td>5623.422610</td>\n",
       "      <td>1</td>\n",
       "      <td>0</td>\n",
       "      <td>M</td>\n",
       "      <td>employee</td>\n",
       "      <td>0</td>\n",
       "      <td>buy house/real estate</td>\n",
       "      <td>3</td>\n",
       "      <td>3</td>\n",
       "      <td>1</td>\n",
       "    </tr>\n",
       "    <tr>\n",
       "      <th>3</th>\n",
       "      <td>4124.747207</td>\n",
       "      <td>1</td>\n",
       "      <td>0</td>\n",
       "      <td>M</td>\n",
       "      <td>employee</td>\n",
       "      <td>0</td>\n",
       "      <td>education</td>\n",
       "      <td>3</td>\n",
       "      <td>4</td>\n",
       "      <td>3</td>\n",
       "    </tr>\n",
       "    <tr>\n",
       "      <th>4</th>\n",
       "      <td>22000.000000</td>\n",
       "      <td>1</td>\n",
       "      <td>1</td>\n",
       "      <td>F</td>\n",
       "      <td>retiree</td>\n",
       "      <td>0</td>\n",
       "      <td>wedding</td>\n",
       "      <td>4</td>\n",
       "      <td>3</td>\n",
       "      <td>1</td>\n",
       "    </tr>\n",
       "    <tr>\n",
       "      <th>...</th>\n",
       "      <td>...</td>\n",
       "      <td>...</td>\n",
       "      <td>...</td>\n",
       "      <td>...</td>\n",
       "      <td>...</td>\n",
       "      <td>...</td>\n",
       "      <td>...</td>\n",
       "      <td>...</td>\n",
       "      <td>...</td>\n",
       "      <td>...</td>\n",
       "    </tr>\n",
       "    <tr>\n",
       "      <th>21317</th>\n",
       "      <td>4529.316663</td>\n",
       "      <td>1</td>\n",
       "      <td>0</td>\n",
       "      <td>F</td>\n",
       "      <td>business</td>\n",
       "      <td>0</td>\n",
       "      <td>buy car</td>\n",
       "      <td>3</td>\n",
       "      <td>4</td>\n",
       "      <td>2</td>\n",
       "    </tr>\n",
       "    <tr>\n",
       "      <th>21318</th>\n",
       "      <td>22000.000000</td>\n",
       "      <td>1</td>\n",
       "      <td>0</td>\n",
       "      <td>M</td>\n",
       "      <td>business</td>\n",
       "      <td>1</td>\n",
       "      <td>buy house/real estate</td>\n",
       "      <td>2</td>\n",
       "      <td>3</td>\n",
       "      <td>1</td>\n",
       "    </tr>\n",
       "    <tr>\n",
       "      <th>21319</th>\n",
       "      <td>2113.346888</td>\n",
       "      <td>1</td>\n",
       "      <td>0</td>\n",
       "      <td>F</td>\n",
       "      <td>employee</td>\n",
       "      <td>0</td>\n",
       "      <td>buy house/real estate</td>\n",
       "      <td>2</td>\n",
       "      <td>1</td>\n",
       "      <td>1</td>\n",
       "    </tr>\n",
       "    <tr>\n",
       "      <th>21320</th>\n",
       "      <td>3112.481705</td>\n",
       "      <td>2</td>\n",
       "      <td>0</td>\n",
       "      <td>F</td>\n",
       "      <td>employee</td>\n",
       "      <td>0</td>\n",
       "      <td>buy house/real estate</td>\n",
       "      <td>3</td>\n",
       "      <td>4</td>\n",
       "      <td>1</td>\n",
       "    </tr>\n",
       "    <tr>\n",
       "      <th>21321</th>\n",
       "      <td>1984.507589</td>\n",
       "      <td>1</td>\n",
       "      <td>0</td>\n",
       "      <td>F</td>\n",
       "      <td>retiree</td>\n",
       "      <td>0</td>\n",
       "      <td>buy house/real estate</td>\n",
       "      <td>4</td>\n",
       "      <td>1</td>\n",
       "      <td>1</td>\n",
       "    </tr>\n",
       "  </tbody>\n",
       "</table>\n",
       "<p>21120 rows × 10 columns</p>\n",
       "</div>"
      ],
      "text/plain": [
       "       days_employed  education_id  family_status_id gender income_type  debt  \\\n",
       "0        8437.673028             0                 0      F    employee     0   \n",
       "1        4024.803754             1                 0      F    employee     0   \n",
       "2        5623.422610             1                 0      M    employee     0   \n",
       "3        4124.747207             1                 0      M    employee     0   \n",
       "4       22000.000000             1                 1      F     retiree     0   \n",
       "...              ...           ...               ...    ...         ...   ...   \n",
       "21317    4529.316663             1                 0      F    business     0   \n",
       "21318   22000.000000             1                 0      M    business     1   \n",
       "21319    2113.346888             1                 0      F    employee     0   \n",
       "21320    3112.481705             2                 0      F    employee     0   \n",
       "21321    1984.507589             1                 0      F     retiree     0   \n",
       "\n",
       "            purpose_category  age_category  income_category  children_category  \n",
       "0      buy house/real estate             3                4                  2  \n",
       "1                    buy car             3                2                  2  \n",
       "2      buy house/real estate             3                3                  1  \n",
       "3                  education             3                4                  3  \n",
       "4                    wedding             4                3                  1  \n",
       "...                      ...           ...              ...                ...  \n",
       "21317                buy car             3                4                  2  \n",
       "21318  buy house/real estate             2                3                  1  \n",
       "21319  buy house/real estate             2                1                  1  \n",
       "21320  buy house/real estate             3                4                  1  \n",
       "21321  buy house/real estate             4                1                  1  \n",
       "\n",
       "[21120 rows x 10 columns]"
      ]
     },
     "execution_count": 45,
     "metadata": {},
     "output_type": "execute_result"
    }
   ],
   "source": [
    "df[['days_employed', 'education_id',\n",
    "       'family_status_id', 'gender', 'income_type', 'debt',\n",
    "       'purpose_category', 'age_category',\n",
    "       'income_category', 'children_category']]"
   ]
  },
  {
   "cell_type": "markdown",
   "metadata": {},
   "source": [
    "\n",
    "\n",
    "The dob_year was categoried in the age column based on the age range.\n",
    "The total_income column was categorized in the income category based on defined income range.\n",
    "The purpose column was categorized in the purpose category based on related purpose.\n",
    "The children column was categorised in the children categoru based on no of children.\n",
    "Every other column has few unique values that are manageable and do not require further categorization."
   ]
  },
  {
   "cell_type": "markdown",
   "metadata": {},
   "source": [
    "**Is there a correlation between having children and paying back on time?**"
   ]
  },
  {
   "cell_type": "code",
   "execution_count": 46,
   "metadata": {},
   "outputs": [
    {
     "data": {
      "text/html": [
       "<div>\n",
       "<style scoped>\n",
       "    .dataframe tbody tr th:only-of-type {\n",
       "        vertical-align: middle;\n",
       "    }\n",
       "\n",
       "    .dataframe tbody tr th {\n",
       "        vertical-align: top;\n",
       "    }\n",
       "\n",
       "    .dataframe thead th {\n",
       "        text-align: right;\n",
       "    }\n",
       "</style>\n",
       "<table border=\"1\" class=\"dataframe\">\n",
       "  <thead>\n",
       "    <tr style=\"text-align: right;\">\n",
       "      <th></th>\n",
       "      <th>count</th>\n",
       "      <th>sum</th>\n",
       "      <th>mean</th>\n",
       "    </tr>\n",
       "    <tr>\n",
       "      <th>children_category</th>\n",
       "      <th></th>\n",
       "      <th></th>\n",
       "      <th></th>\n",
       "    </tr>\n",
       "  </thead>\n",
       "  <tbody>\n",
       "    <tr>\n",
       "      <th>1</th>\n",
       "      <td>13911</td>\n",
       "      <td>1039</td>\n",
       "      <td>0.074689</td>\n",
       "    </tr>\n",
       "    <tr>\n",
       "      <th>2</th>\n",
       "      <td>6766</td>\n",
       "      <td>626</td>\n",
       "      <td>0.092521</td>\n",
       "    </tr>\n",
       "    <tr>\n",
       "      <th>3</th>\n",
       "      <td>372</td>\n",
       "      <td>30</td>\n",
       "      <td>0.080645</td>\n",
       "    </tr>\n",
       "    <tr>\n",
       "      <th>4</th>\n",
       "      <td>71</td>\n",
       "      <td>8</td>\n",
       "      <td>0.112676</td>\n",
       "    </tr>\n",
       "  </tbody>\n",
       "</table>\n",
       "</div>"
      ],
      "text/plain": [
       "                   count   sum      mean\n",
       "children_category                       \n",
       "1                  13911  1039  0.074689\n",
       "2                   6766   626  0.092521\n",
       "3                    372    30  0.080645\n",
       "4                     71     8  0.112676"
      ]
     },
     "execution_count": 46,
     "metadata": {},
     "output_type": "execute_result"
    }
   ],
   "source": [
    "children_stat= df.groupby('children_category')['debt'].agg(('count', 'sum','mean'))\n",
    "children_stat"
   ]
  },
  {
   "cell_type": "code",
   "execution_count": 47,
   "metadata": {},
   "outputs": [
    {
     "data": {
      "text/html": [
       "<div>\n",
       "<style scoped>\n",
       "    .dataframe tbody tr th:only-of-type {\n",
       "        vertical-align: middle;\n",
       "    }\n",
       "\n",
       "    .dataframe tbody tr th {\n",
       "        vertical-align: top;\n",
       "    }\n",
       "\n",
       "    .dataframe thead th {\n",
       "        text-align: right;\n",
       "    }\n",
       "</style>\n",
       "<table border=\"1\" class=\"dataframe\">\n",
       "  <thead>\n",
       "    <tr style=\"text-align: right;\">\n",
       "      <th></th>\n",
       "      <th>count</th>\n",
       "      <th>total_default</th>\n",
       "      <th>default_rate</th>\n",
       "    </tr>\n",
       "    <tr>\n",
       "      <th>children_category</th>\n",
       "      <th></th>\n",
       "      <th></th>\n",
       "      <th></th>\n",
       "    </tr>\n",
       "  </thead>\n",
       "  <tbody>\n",
       "    <tr>\n",
       "      <th>1</th>\n",
       "      <td>13911</td>\n",
       "      <td>1039</td>\n",
       "      <td>7.468909</td>\n",
       "    </tr>\n",
       "    <tr>\n",
       "      <th>2</th>\n",
       "      <td>6766</td>\n",
       "      <td>626</td>\n",
       "      <td>9.252143</td>\n",
       "    </tr>\n",
       "    <tr>\n",
       "      <th>3</th>\n",
       "      <td>372</td>\n",
       "      <td>30</td>\n",
       "      <td>8.064516</td>\n",
       "    </tr>\n",
       "    <tr>\n",
       "      <th>4</th>\n",
       "      <td>71</td>\n",
       "      <td>8</td>\n",
       "      <td>11.267606</td>\n",
       "    </tr>\n",
       "  </tbody>\n",
       "</table>\n",
       "</div>"
      ],
      "text/plain": [
       "                   count  total_default  default_rate\n",
       "children_category                                    \n",
       "1                  13911           1039      7.468909\n",
       "2                   6766            626      9.252143\n",
       "3                    372             30      8.064516\n",
       "4                     71              8     11.267606"
      ]
     },
     "execution_count": 47,
     "metadata": {},
     "output_type": "execute_result"
    }
   ],
   "source": [
    "children_stat.columns=['count','total_default', 'default_rate']\n",
    "children_stat['default_rate']=children_stat['default_rate']*100\n",
    "children_stat"
   ]
  },
  {
   "cell_type": "markdown",
   "metadata": {},
   "source": [
    "According to this finding applicant with few children (1-3) are more likely default on payment than other categories. Over all customers with kids are more likely to default on payment tha those with no kids"
   ]
  },
  {
   "cell_type": "markdown",
   "metadata": {},
   "source": [
    "**Is there a correlation between family status and paying back on time?**"
   ]
  },
  {
   "cell_type": "code",
   "execution_count": 48,
   "metadata": {},
   "outputs": [
    {
     "data": {
      "text/html": [
       "<div>\n",
       "<style scoped>\n",
       "    .dataframe tbody tr th:only-of-type {\n",
       "        vertical-align: middle;\n",
       "    }\n",
       "\n",
       "    .dataframe tbody tr th {\n",
       "        vertical-align: top;\n",
       "    }\n",
       "\n",
       "    .dataframe thead th {\n",
       "        text-align: right;\n",
       "    }\n",
       "</style>\n",
       "<table border=\"1\" class=\"dataframe\">\n",
       "  <thead>\n",
       "    <tr style=\"text-align: right;\">\n",
       "      <th></th>\n",
       "      <th>count</th>\n",
       "      <th>sum</th>\n",
       "      <th>mean</th>\n",
       "    </tr>\n",
       "    <tr>\n",
       "      <th>family_status</th>\n",
       "      <th></th>\n",
       "      <th></th>\n",
       "      <th></th>\n",
       "    </tr>\n",
       "  </thead>\n",
       "  <tbody>\n",
       "    <tr>\n",
       "      <th>civil partnership</th>\n",
       "      <td>4091</td>\n",
       "      <td>380</td>\n",
       "      <td>0.092887</td>\n",
       "    </tr>\n",
       "    <tr>\n",
       "      <th>divorced</th>\n",
       "      <td>1170</td>\n",
       "      <td>84</td>\n",
       "      <td>0.071795</td>\n",
       "    </tr>\n",
       "    <tr>\n",
       "      <th>married</th>\n",
       "      <td>12154</td>\n",
       "      <td>910</td>\n",
       "      <td>0.074872</td>\n",
       "    </tr>\n",
       "    <tr>\n",
       "      <th>unmarried</th>\n",
       "      <td>2760</td>\n",
       "      <td>267</td>\n",
       "      <td>0.096739</td>\n",
       "    </tr>\n",
       "    <tr>\n",
       "      <th>widow / widower</th>\n",
       "      <td>945</td>\n",
       "      <td>62</td>\n",
       "      <td>0.065608</td>\n",
       "    </tr>\n",
       "  </tbody>\n",
       "</table>\n",
       "</div>"
      ],
      "text/plain": [
       "                   count  sum      mean\n",
       "family_status                          \n",
       "civil partnership   4091  380  0.092887\n",
       "divorced            1170   84  0.071795\n",
       "married            12154  910  0.074872\n",
       "unmarried           2760  267  0.096739\n",
       "widow / widower      945   62  0.065608"
      ]
     },
     "execution_count": 48,
     "metadata": {},
     "output_type": "execute_result"
    }
   ],
   "source": [
    "family_stat= df.groupby('family_status')['debt'].agg(('count', 'sum','mean'))\n",
    "family_stat"
   ]
  },
  {
   "cell_type": "code",
   "execution_count": 49,
   "metadata": {},
   "outputs": [
    {
     "data": {
      "text/html": [
       "<div>\n",
       "<style scoped>\n",
       "    .dataframe tbody tr th:only-of-type {\n",
       "        vertical-align: middle;\n",
       "    }\n",
       "\n",
       "    .dataframe tbody tr th {\n",
       "        vertical-align: top;\n",
       "    }\n",
       "\n",
       "    .dataframe thead th {\n",
       "        text-align: right;\n",
       "    }\n",
       "</style>\n",
       "<table border=\"1\" class=\"dataframe\">\n",
       "  <thead>\n",
       "    <tr style=\"text-align: right;\">\n",
       "      <th></th>\n",
       "      <th>count</th>\n",
       "      <th>total_default</th>\n",
       "      <th>default_rate</th>\n",
       "    </tr>\n",
       "    <tr>\n",
       "      <th>family_status</th>\n",
       "      <th></th>\n",
       "      <th></th>\n",
       "      <th></th>\n",
       "    </tr>\n",
       "  </thead>\n",
       "  <tbody>\n",
       "    <tr>\n",
       "      <th>civil partnership</th>\n",
       "      <td>4091</td>\n",
       "      <td>380</td>\n",
       "      <td>9.288682</td>\n",
       "    </tr>\n",
       "    <tr>\n",
       "      <th>divorced</th>\n",
       "      <td>1170</td>\n",
       "      <td>84</td>\n",
       "      <td>7.179487</td>\n",
       "    </tr>\n",
       "    <tr>\n",
       "      <th>married</th>\n",
       "      <td>12154</td>\n",
       "      <td>910</td>\n",
       "      <td>7.487247</td>\n",
       "    </tr>\n",
       "    <tr>\n",
       "      <th>unmarried</th>\n",
       "      <td>2760</td>\n",
       "      <td>267</td>\n",
       "      <td>9.673913</td>\n",
       "    </tr>\n",
       "    <tr>\n",
       "      <th>widow / widower</th>\n",
       "      <td>945</td>\n",
       "      <td>62</td>\n",
       "      <td>6.560847</td>\n",
       "    </tr>\n",
       "  </tbody>\n",
       "</table>\n",
       "</div>"
      ],
      "text/plain": [
       "                   count  total_default  default_rate\n",
       "family_status                                        \n",
       "civil partnership   4091            380      9.288682\n",
       "divorced            1170             84      7.179487\n",
       "married            12154            910      7.487247\n",
       "unmarried           2760            267      9.673913\n",
       "widow / widower      945             62      6.560847"
      ]
     },
     "execution_count": 49,
     "metadata": {},
     "output_type": "execute_result"
    }
   ],
   "source": [
    "family_stat.columns=['count','total_default', 'default_rate']\n",
    "family_stat['default_rate']=family_stat['default_rate']*100\n",
    "family_stat"
   ]
  },
  {
   "cell_type": "markdown",
   "metadata": {},
   "source": [
    "According to this finding  customer that are unmarried and in civil partnership have are more likely to default on a loan payment"
   ]
  },
  {
   "cell_type": "markdown",
   "metadata": {},
   "source": [
    "**Is there a correlation between income level and paying back on time?**"
   ]
  },
  {
   "cell_type": "code",
   "execution_count": 50,
   "metadata": {},
   "outputs": [
    {
     "data": {
      "text/html": [
       "<div>\n",
       "<style scoped>\n",
       "    .dataframe tbody tr th:only-of-type {\n",
       "        vertical-align: middle;\n",
       "    }\n",
       "\n",
       "    .dataframe tbody tr th {\n",
       "        vertical-align: top;\n",
       "    }\n",
       "\n",
       "    .dataframe thead th {\n",
       "        text-align: right;\n",
       "    }\n",
       "</style>\n",
       "<table border=\"1\" class=\"dataframe\">\n",
       "  <thead>\n",
       "    <tr style=\"text-align: right;\">\n",
       "      <th></th>\n",
       "      <th>count</th>\n",
       "      <th>sum</th>\n",
       "      <th>mean</th>\n",
       "    </tr>\n",
       "    <tr>\n",
       "      <th>income_category</th>\n",
       "      <th></th>\n",
       "      <th></th>\n",
       "      <th></th>\n",
       "    </tr>\n",
       "  </thead>\n",
       "  <tbody>\n",
       "    <tr>\n",
       "      <th>1</th>\n",
       "      <td>5299</td>\n",
       "      <td>430</td>\n",
       "      <td>0.081147</td>\n",
       "    </tr>\n",
       "    <tr>\n",
       "      <th>2</th>\n",
       "      <td>4231</td>\n",
       "      <td>327</td>\n",
       "      <td>0.077287</td>\n",
       "    </tr>\n",
       "    <tr>\n",
       "      <th>3</th>\n",
       "      <td>6295</td>\n",
       "      <td>520</td>\n",
       "      <td>0.082605</td>\n",
       "    </tr>\n",
       "    <tr>\n",
       "      <th>4</th>\n",
       "      <td>5295</td>\n",
       "      <td>426</td>\n",
       "      <td>0.080453</td>\n",
       "    </tr>\n",
       "  </tbody>\n",
       "</table>\n",
       "</div>"
      ],
      "text/plain": [
       "                 count  sum      mean\n",
       "income_category                      \n",
       "1                 5299  430  0.081147\n",
       "2                 4231  327  0.077287\n",
       "3                 6295  520  0.082605\n",
       "4                 5295  426  0.080453"
      ]
     },
     "execution_count": 50,
     "metadata": {},
     "output_type": "execute_result"
    }
   ],
   "source": [
    "income_stat= df.groupby('income_category')['debt'].agg(('count', 'sum','mean'))\n",
    "income_stat"
   ]
  },
  {
   "cell_type": "code",
   "execution_count": 51,
   "metadata": {},
   "outputs": [
    {
     "data": {
      "text/html": [
       "<div>\n",
       "<style scoped>\n",
       "    .dataframe tbody tr th:only-of-type {\n",
       "        vertical-align: middle;\n",
       "    }\n",
       "\n",
       "    .dataframe tbody tr th {\n",
       "        vertical-align: top;\n",
       "    }\n",
       "\n",
       "    .dataframe thead th {\n",
       "        text-align: right;\n",
       "    }\n",
       "</style>\n",
       "<table border=\"1\" class=\"dataframe\">\n",
       "  <thead>\n",
       "    <tr style=\"text-align: right;\">\n",
       "      <th></th>\n",
       "      <th>count</th>\n",
       "      <th>total_default</th>\n",
       "      <th>default_rate</th>\n",
       "    </tr>\n",
       "    <tr>\n",
       "      <th>income_category</th>\n",
       "      <th></th>\n",
       "      <th></th>\n",
       "      <th></th>\n",
       "    </tr>\n",
       "  </thead>\n",
       "  <tbody>\n",
       "    <tr>\n",
       "      <th>1</th>\n",
       "      <td>5299</td>\n",
       "      <td>430</td>\n",
       "      <td>8.114739</td>\n",
       "    </tr>\n",
       "    <tr>\n",
       "      <th>2</th>\n",
       "      <td>4231</td>\n",
       "      <td>327</td>\n",
       "      <td>7.728669</td>\n",
       "    </tr>\n",
       "    <tr>\n",
       "      <th>3</th>\n",
       "      <td>6295</td>\n",
       "      <td>520</td>\n",
       "      <td>8.260524</td>\n",
       "    </tr>\n",
       "    <tr>\n",
       "      <th>4</th>\n",
       "      <td>5295</td>\n",
       "      <td>426</td>\n",
       "      <td>8.045326</td>\n",
       "    </tr>\n",
       "  </tbody>\n",
       "</table>\n",
       "</div>"
      ],
      "text/plain": [
       "                 count  total_default  default_rate\n",
       "income_category                                    \n",
       "1                 5299            430      8.114739\n",
       "2                 4231            327      7.728669\n",
       "3                 6295            520      8.260524\n",
       "4                 5295            426      8.045326"
      ]
     },
     "execution_count": 51,
     "metadata": {},
     "output_type": "execute_result"
    }
   ],
   "source": [
    "income_stat.columns=['count','total_default', 'default_rate']\n",
    "income_stat['default_rate']=income_stat['default_rate']*100\n",
    "income_stat"
   ]
  },
  {
   "cell_type": "markdown",
   "metadata": {},
   "source": [
    "According to this finding overall, those between 25 to 75percentile of the income range are more likely to default on a loan, while those at the max are far less to default on the loan"
   ]
  },
  {
   "cell_type": "markdown",
   "metadata": {},
   "source": [
    "**How does credit purpose affect the default rate?**"
   ]
  },
  {
   "cell_type": "code",
   "execution_count": 52,
   "metadata": {},
   "outputs": [
    {
     "data": {
      "text/html": [
       "<div>\n",
       "<style scoped>\n",
       "    .dataframe tbody tr th:only-of-type {\n",
       "        vertical-align: middle;\n",
       "    }\n",
       "\n",
       "    .dataframe tbody tr th {\n",
       "        vertical-align: top;\n",
       "    }\n",
       "\n",
       "    .dataframe thead th {\n",
       "        text-align: right;\n",
       "    }\n",
       "</style>\n",
       "<table border=\"1\" class=\"dataframe\">\n",
       "  <thead>\n",
       "    <tr style=\"text-align: right;\">\n",
       "      <th></th>\n",
       "      <th>count</th>\n",
       "      <th>sum</th>\n",
       "      <th>mean</th>\n",
       "    </tr>\n",
       "    <tr>\n",
       "      <th>purpose_category</th>\n",
       "      <th></th>\n",
       "      <th></th>\n",
       "      <th></th>\n",
       "    </tr>\n",
       "  </thead>\n",
       "  <tbody>\n",
       "    <tr>\n",
       "      <th>buy car</th>\n",
       "      <td>4232</td>\n",
       "      <td>390</td>\n",
       "      <td>0.092155</td>\n",
       "    </tr>\n",
       "    <tr>\n",
       "      <th>buy house/real estate</th>\n",
       "      <td>10634</td>\n",
       "      <td>765</td>\n",
       "      <td>0.071939</td>\n",
       "    </tr>\n",
       "    <tr>\n",
       "      <th>education</th>\n",
       "      <td>3959</td>\n",
       "      <td>365</td>\n",
       "      <td>0.092195</td>\n",
       "    </tr>\n",
       "    <tr>\n",
       "      <th>wedding</th>\n",
       "      <td>2295</td>\n",
       "      <td>183</td>\n",
       "      <td>0.079739</td>\n",
       "    </tr>\n",
       "  </tbody>\n",
       "</table>\n",
       "</div>"
      ],
      "text/plain": [
       "                       count  sum      mean\n",
       "purpose_category                           \n",
       "buy car                 4232  390  0.092155\n",
       "buy house/real estate  10634  765  0.071939\n",
       "education               3959  365  0.092195\n",
       "wedding                 2295  183  0.079739"
      ]
     },
     "execution_count": 52,
     "metadata": {},
     "output_type": "execute_result"
    }
   ],
   "source": [
    "purpose_stat= df.groupby('purpose_category')['debt'].agg(('count', 'sum','mean'))\n",
    "purpose_stat"
   ]
  },
  {
   "cell_type": "code",
   "execution_count": 53,
   "metadata": {},
   "outputs": [
    {
     "data": {
      "text/html": [
       "<div>\n",
       "<style scoped>\n",
       "    .dataframe tbody tr th:only-of-type {\n",
       "        vertical-align: middle;\n",
       "    }\n",
       "\n",
       "    .dataframe tbody tr th {\n",
       "        vertical-align: top;\n",
       "    }\n",
       "\n",
       "    .dataframe thead th {\n",
       "        text-align: right;\n",
       "    }\n",
       "</style>\n",
       "<table border=\"1\" class=\"dataframe\">\n",
       "  <thead>\n",
       "    <tr style=\"text-align: right;\">\n",
       "      <th></th>\n",
       "      <th>count</th>\n",
       "      <th>total_default</th>\n",
       "      <th>default_rate</th>\n",
       "    </tr>\n",
       "    <tr>\n",
       "      <th>purpose_category</th>\n",
       "      <th></th>\n",
       "      <th></th>\n",
       "      <th></th>\n",
       "    </tr>\n",
       "  </thead>\n",
       "  <tbody>\n",
       "    <tr>\n",
       "      <th>buy car</th>\n",
       "      <td>4232</td>\n",
       "      <td>390</td>\n",
       "      <td>9.215501</td>\n",
       "    </tr>\n",
       "    <tr>\n",
       "      <th>buy house/real estate</th>\n",
       "      <td>10634</td>\n",
       "      <td>765</td>\n",
       "      <td>7.193906</td>\n",
       "    </tr>\n",
       "    <tr>\n",
       "      <th>education</th>\n",
       "      <td>3959</td>\n",
       "      <td>365</td>\n",
       "      <td>9.219500</td>\n",
       "    </tr>\n",
       "    <tr>\n",
       "      <th>wedding</th>\n",
       "      <td>2295</td>\n",
       "      <td>183</td>\n",
       "      <td>7.973856</td>\n",
       "    </tr>\n",
       "  </tbody>\n",
       "</table>\n",
       "</div>"
      ],
      "text/plain": [
       "                       count  total_default  default_rate\n",
       "purpose_category                                         \n",
       "buy car                 4232            390      9.215501\n",
       "buy house/real estate  10634            765      7.193906\n",
       "education               3959            365      9.219500\n",
       "wedding                 2295            183      7.973856"
      ]
     },
     "execution_count": 53,
     "metadata": {},
     "output_type": "execute_result"
    }
   ],
   "source": [
    "purpose_stat.columns=['count','total_default', 'default_rate']\n",
    "purpose_stat['default_rate']=purpose_stat['default_rate']*100\n",
    "purpose_stat"
   ]
  },
  {
   "cell_type": "markdown",
   "metadata": {},
   "source": [
    "According to the finding.  Loan customer's with the purpose of buying a car and education are more likely to defualt on payment"
   ]
  },
  {
   "cell_type": "markdown",
   "metadata": {},
   "source": [
    "# General Conclusion \n"
   ]
  },
  {
   "cell_type": "markdown",
   "metadata": {},
   "source": [
    "<p>At the end of this project, we have been able to carry out data preprocessing for our client who is trying to analyze a borrower's risk of defaulting in loan repayment.<br>\n",
    "    \n",
    "***Preprocessing:***<br>\n",
    "    \n",
    "We have significant missing values in the total income and days employed column. Missing values in this columns were equal and dependent, i.e in the same row. We filled missing values in the total income column with the median values based on their age categorizaion. We also filled missing values in days_employed with the median value based on their age categorisation which is  good estimator. The median value was used due to the wide spread of the data<br>.Duplicate values due to text format in the education were correct for. We cleaning the days_employed column and set the max to 50 years to correct for unusally high values coming from some retired customers.Negative values in the day_employed were corrected to the absolute values. Every other problematic data was dropped to increase confidence in the integrity of our data. The final data used for analysis was about 98% of the original dataset.<br>\n",
    "    \n",
    "***Analysis*** <br>\n",
    "We categorized the loan purposes into car purchase, wedding, education and real estate. We categorized total_income based on the percentile they fell under in the income distribution. We also categorized customers based on number of childredn. We grouped by purpose catgeory, family status category, children category, and income category to show the count, number of default and default rate for each group.<br>\n",
    "\n",
    "***Purpose*** <br>\n",
    "Customers taking a loan to buy a car have the highest default rate with 9.3% followed closely by education 9.2%. Customers trying to buy/build a house are least likely to default on payment.\n",
    "\n",
    "Children: Customers with 1-3 children have the highes default rate of 9.2% while those with no children have the lowest default rate of 7.5% \n",
    "\n",
    "Family status: Customers that are unmarried and in civil partnership have the highest default rate, 9.7% and 9.2% respectively, while those that are widowed have the lowest default rate of 6.5%\n",
    "\n",
    "Income category: Customers that are between the 25 to 75 percentile have the highest default rate while those with income about the 75percentile have the lowest default rate of 7.1% <br>\n",
    "***Recommendation***<br>\n",
    "Based on this the bank can assess a customer's credit worth. Those in categories of low default rate will be more credit worthy than those in the categories with the highest default rates. The most credit worthy customer will; have no child, be widowed, be above the 75 percentile income and wants the loan for a house. The most risky customer will;want to buy a car, have 1-3 children, be unmarried and earn between the 50 and 75 percentile in income<p>"
   ]
  },
  {
   "cell_type": "code",
   "execution_count": null,
   "metadata": {},
   "outputs": [],
   "source": []
  }
 ],
 "metadata": {
  "ExecuteTimeLog": [
   {
    "duration": 2741,
    "start_time": "2021-10-21T01:08:49.480Z"
   },
   {
    "duration": 52,
    "start_time": "2021-10-21T01:08:53.315Z"
   },
   {
    "duration": 49,
    "start_time": "2021-10-21T01:08:57.432Z"
   },
   {
    "duration": 70,
    "start_time": "2021-10-21T01:09:07.706Z"
   },
   {
    "duration": 615,
    "start_time": "2022-01-17T02:34:48.063Z"
   },
   {
    "duration": 8,
    "start_time": "2022-01-17T02:35:07.787Z"
   },
   {
    "duration": 14,
    "start_time": "2022-01-17T02:35:26.353Z"
   },
   {
    "duration": 242,
    "start_time": "2022-01-17T02:35:39.768Z"
   },
   {
    "duration": 187,
    "start_time": "2022-01-17T02:35:45.411Z"
   },
   {
    "duration": 199,
    "start_time": "2022-01-17T02:35:48.551Z"
   },
   {
    "duration": 53,
    "start_time": "2022-01-17T02:36:02.248Z"
   },
   {
    "duration": 13,
    "start_time": "2022-01-17T02:43:27.218Z"
   },
   {
    "duration": 5,
    "start_time": "2022-01-17T02:44:45.517Z"
   },
   {
    "duration": 4,
    "start_time": "2022-01-17T02:45:27.980Z"
   },
   {
    "duration": 5,
    "start_time": "2022-01-17T02:46:08.023Z"
   },
   {
    "duration": 5,
    "start_time": "2022-01-17T02:46:52.544Z"
   },
   {
    "duration": 5,
    "start_time": "2022-01-17T02:47:20.962Z"
   },
   {
    "duration": 5,
    "start_time": "2022-01-17T02:47:35.167Z"
   },
   {
    "duration": 5,
    "start_time": "2022-01-17T02:48:17.445Z"
   },
   {
    "duration": 5,
    "start_time": "2022-01-17T02:53:50.715Z"
   },
   {
    "duration": 5,
    "start_time": "2022-01-17T02:53:51.114Z"
   },
   {
    "duration": 5,
    "start_time": "2022-01-17T02:53:51.367Z"
   },
   {
    "duration": 4,
    "start_time": "2022-01-17T02:53:53.960Z"
   },
   {
    "duration": 4,
    "start_time": "2022-01-17T02:53:54.140Z"
   },
   {
    "duration": 5,
    "start_time": "2022-01-17T02:53:54.891Z"
   },
   {
    "duration": 11,
    "start_time": "2022-01-17T02:55:06.895Z"
   },
   {
    "duration": 4305,
    "start_time": "2022-01-17T03:06:33.177Z"
   },
   {
    "duration": 42,
    "start_time": "2022-01-17T03:07:10.550Z"
   },
   {
    "duration": 50,
    "start_time": "2022-01-17T03:07:10.594Z"
   },
   {
    "duration": 4,
    "start_time": "2022-01-17T03:07:10.646Z"
   },
   {
    "duration": 4,
    "start_time": "2022-01-17T03:07:10.652Z"
   },
   {
    "duration": 5,
    "start_time": "2022-01-17T03:07:10.657Z"
   },
   {
    "duration": 28,
    "start_time": "2022-01-17T03:07:10.663Z"
   },
   {
    "duration": 5,
    "start_time": "2022-01-17T03:07:10.693Z"
   },
   {
    "duration": 4,
    "start_time": "2022-01-17T03:07:10.700Z"
   },
   {
    "duration": 9,
    "start_time": "2022-01-17T03:07:10.705Z"
   },
   {
    "duration": 13,
    "start_time": "2022-01-17T03:07:10.715Z"
   },
   {
    "duration": 10,
    "start_time": "2022-01-17T03:07:10.730Z"
   },
   {
    "duration": 4405,
    "start_time": "2022-01-17T03:07:37.459Z"
   },
   {
    "duration": 19,
    "start_time": "2022-01-17T03:07:58.417Z"
   },
   {
    "duration": 60,
    "start_time": "2022-01-17T03:14:13.285Z"
   },
   {
    "duration": 64,
    "start_time": "2022-01-17T03:14:35.271Z"
   },
   {
    "duration": 4,
    "start_time": "2022-01-17T03:15:07.361Z"
   },
   {
    "duration": 2054,
    "start_time": "2022-01-17T03:15:42.335Z"
   },
   {
    "duration": 5,
    "start_time": "2022-01-17T03:15:57.420Z"
   },
   {
    "duration": 5,
    "start_time": "2022-01-17T03:17:38.960Z"
   },
   {
    "duration": 7,
    "start_time": "2022-01-17T03:19:43.091Z"
   },
   {
    "duration": 183,
    "start_time": "2022-01-17T03:21:24.284Z"
   },
   {
    "duration": 14,
    "start_time": "2022-01-17T03:21:31.108Z"
   },
   {
    "duration": 14,
    "start_time": "2022-01-17T03:22:59.510Z"
   },
   {
    "duration": 185,
    "start_time": "2022-01-17T03:28:33.532Z"
   },
   {
    "duration": 7,
    "start_time": "2022-01-17T03:28:40.824Z"
   },
   {
    "duration": 2089,
    "start_time": "2022-01-17T03:31:20.276Z"
   },
   {
    "duration": 28,
    "start_time": "2022-01-17T03:31:41.942Z"
   },
   {
    "duration": 38,
    "start_time": "2022-01-17T03:32:04.902Z"
   },
   {
    "duration": 2,
    "start_time": "2022-01-17T03:40:35.347Z"
   },
   {
    "duration": 3,
    "start_time": "2022-01-17T03:40:39.310Z"
   },
   {
    "duration": 2,
    "start_time": "2022-01-17T03:40:47.814Z"
   },
   {
    "duration": 5,
    "start_time": "2022-01-17T03:43:53.287Z"
   },
   {
    "duration": 643,
    "start_time": "2022-01-17T03:45:50.471Z"
   },
   {
    "duration": 174,
    "start_time": "2022-01-17T03:46:12.136Z"
   },
   {
    "duration": 8,
    "start_time": "2022-01-17T03:48:38.776Z"
   },
   {
    "duration": 5,
    "start_time": "2022-01-17T03:48:58.026Z"
   },
   {
    "duration": 4,
    "start_time": "2022-01-17T03:51:10.598Z"
   },
   {
    "duration": 4199,
    "start_time": "2022-01-17T03:52:08.111Z"
   },
   {
    "duration": 22,
    "start_time": "2022-01-17T03:52:22.571Z"
   },
   {
    "duration": 6,
    "start_time": "2022-01-17T03:53:14.480Z"
   },
   {
    "duration": 38,
    "start_time": "2022-01-17T03:56:39.614Z"
   },
   {
    "duration": 4,
    "start_time": "2022-01-17T03:59:31.488Z"
   },
   {
    "duration": 4,
    "start_time": "2022-01-17T03:59:52.009Z"
   },
   {
    "duration": 8,
    "start_time": "2022-01-17T04:04:10.858Z"
   },
   {
    "duration": 9,
    "start_time": "2022-01-17T04:07:27.404Z"
   },
   {
    "duration": 9,
    "start_time": "2022-01-17T04:07:42.384Z"
   },
   {
    "duration": 19,
    "start_time": "2022-01-17T04:08:58.891Z"
   },
   {
    "duration": 19,
    "start_time": "2022-01-17T04:09:28.717Z"
   },
   {
    "duration": 27,
    "start_time": "2022-01-17T04:10:57.967Z"
   },
   {
    "duration": 20,
    "start_time": "2022-01-17T04:18:23.729Z"
   },
   {
    "duration": 6,
    "start_time": "2022-01-17T04:18:53.051Z"
   },
   {
    "duration": 166,
    "start_time": "2022-01-17T04:19:39.602Z"
   },
   {
    "duration": 7,
    "start_time": "2022-01-17T04:20:01.597Z"
   },
   {
    "duration": 64,
    "start_time": "2022-01-17T04:23:46.044Z"
   },
   {
    "duration": 60,
    "start_time": "2022-01-17T04:25:17.802Z"
   },
   {
    "duration": 455,
    "start_time": "2022-01-17T04:26:15.021Z"
   },
   {
    "duration": 6,
    "start_time": "2022-01-17T04:28:27.678Z"
   },
   {
    "duration": 6,
    "start_time": "2022-01-17T04:28:46.502Z"
   },
   {
    "duration": 45,
    "start_time": "2022-01-17T04:31:14.706Z"
   },
   {
    "duration": 52,
    "start_time": "2022-01-17T04:31:14.753Z"
   },
   {
    "duration": 4,
    "start_time": "2022-01-17T04:31:14.807Z"
   },
   {
    "duration": 5,
    "start_time": "2022-01-17T04:31:14.813Z"
   },
   {
    "duration": 6,
    "start_time": "2022-01-17T04:31:14.819Z"
   },
   {
    "duration": 5,
    "start_time": "2022-01-17T04:31:14.826Z"
   },
   {
    "duration": 5,
    "start_time": "2022-01-17T04:31:14.833Z"
   },
   {
    "duration": 3,
    "start_time": "2022-01-17T04:31:14.841Z"
   },
   {
    "duration": 50,
    "start_time": "2022-01-17T04:31:14.846Z"
   },
   {
    "duration": 14,
    "start_time": "2022-01-17T04:31:14.897Z"
   },
   {
    "duration": 10,
    "start_time": "2022-01-17T04:31:14.912Z"
   },
   {
    "duration": 20,
    "start_time": "2022-01-17T04:31:14.925Z"
   },
   {
    "duration": 46,
    "start_time": "2022-01-17T04:31:14.947Z"
   },
   {
    "duration": 7,
    "start_time": "2022-01-17T04:31:14.995Z"
   },
   {
    "duration": 15,
    "start_time": "2022-01-17T04:31:15.004Z"
   },
   {
    "duration": 29,
    "start_time": "2022-01-17T04:31:15.021Z"
   },
   {
    "duration": 16,
    "start_time": "2022-01-17T04:31:15.052Z"
   },
   {
    "duration": 6,
    "start_time": "2022-01-17T04:31:15.070Z"
   },
   {
    "duration": 47,
    "start_time": "2022-01-17T04:31:15.078Z"
   },
   {
    "duration": 2,
    "start_time": "2022-01-17T04:31:15.127Z"
   },
   {
    "duration": 6,
    "start_time": "2022-01-17T04:31:15.131Z"
   },
   {
    "duration": 6,
    "start_time": "2022-01-17T04:31:15.138Z"
   },
   {
    "duration": 6,
    "start_time": "2022-01-17T04:31:15.146Z"
   },
   {
    "duration": 10,
    "start_time": "2022-01-17T04:31:15.154Z"
   },
   {
    "duration": 30,
    "start_time": "2022-01-17T04:31:15.165Z"
   },
   {
    "duration": 6,
    "start_time": "2022-01-17T04:31:15.197Z"
   },
   {
    "duration": 21,
    "start_time": "2022-01-17T04:31:15.204Z"
   },
   {
    "duration": 4,
    "start_time": "2022-01-17T04:31:15.227Z"
   },
   {
    "duration": 60,
    "start_time": "2022-01-17T04:31:15.233Z"
   },
   {
    "duration": 4,
    "start_time": "2022-01-17T04:31:15.294Z"
   },
   {
    "duration": 7,
    "start_time": "2022-01-17T04:31:15.299Z"
   },
   {
    "duration": 11,
    "start_time": "2022-01-17T04:31:15.308Z"
   },
   {
    "duration": 9,
    "start_time": "2022-01-17T04:31:15.320Z"
   },
   {
    "duration": 12,
    "start_time": "2022-01-17T04:31:15.330Z"
   },
   {
    "duration": 53,
    "start_time": "2022-01-17T04:31:15.343Z"
   },
   {
    "duration": 7,
    "start_time": "2022-01-17T04:31:15.398Z"
   },
   {
    "duration": 240,
    "start_time": "2022-01-17T04:31:20.531Z"
   },
   {
    "duration": 720,
    "start_time": "2022-01-17T04:31:25.765Z"
   },
   {
    "duration": 7,
    "start_time": "2022-01-17T04:31:43.511Z"
   },
   {
    "duration": 8,
    "start_time": "2022-01-17T04:31:46.761Z"
   },
   {
    "duration": 1852,
    "start_time": "2022-01-17T04:32:02.095Z"
   },
   {
    "duration": 7,
    "start_time": "2022-01-17T04:33:17.834Z"
   },
   {
    "duration": 8,
    "start_time": "2022-01-17T04:33:27.517Z"
   },
   {
    "duration": 5,
    "start_time": "2022-01-17T04:33:46.800Z"
   },
   {
    "duration": 6,
    "start_time": "2022-01-17T04:33:47.723Z"
   },
   {
    "duration": 42,
    "start_time": "2022-01-17T04:34:18.554Z"
   },
   {
    "duration": 51,
    "start_time": "2022-01-17T04:34:18.598Z"
   },
   {
    "duration": 4,
    "start_time": "2022-01-17T04:34:18.651Z"
   },
   {
    "duration": 6,
    "start_time": "2022-01-17T04:34:18.656Z"
   },
   {
    "duration": 5,
    "start_time": "2022-01-17T04:34:18.691Z"
   },
   {
    "duration": 9,
    "start_time": "2022-01-17T04:34:18.697Z"
   },
   {
    "duration": 6,
    "start_time": "2022-01-17T04:34:18.707Z"
   },
   {
    "duration": 3,
    "start_time": "2022-01-17T04:34:18.715Z"
   },
   {
    "duration": 6,
    "start_time": "2022-01-17T04:34:18.720Z"
   },
   {
    "duration": 12,
    "start_time": "2022-01-17T04:34:18.727Z"
   },
   {
    "duration": 11,
    "start_time": "2022-01-17T04:34:18.740Z"
   },
   {
    "duration": 57,
    "start_time": "2022-01-17T04:34:18.752Z"
   },
   {
    "duration": 5,
    "start_time": "2022-01-17T04:34:18.811Z"
   },
   {
    "duration": 7,
    "start_time": "2022-01-17T04:34:18.817Z"
   },
   {
    "duration": 6,
    "start_time": "2022-01-17T04:34:18.825Z"
   },
   {
    "duration": 11,
    "start_time": "2022-01-17T04:34:18.833Z"
   },
   {
    "duration": 12,
    "start_time": "2022-01-17T04:34:18.846Z"
   },
   {
    "duration": 32,
    "start_time": "2022-01-17T04:34:18.860Z"
   },
   {
    "duration": 39,
    "start_time": "2022-01-17T04:34:18.893Z"
   },
   {
    "duration": 2,
    "start_time": "2022-01-17T04:34:18.933Z"
   },
   {
    "duration": 5,
    "start_time": "2022-01-17T04:34:18.936Z"
   },
   {
    "duration": 5,
    "start_time": "2022-01-17T04:34:18.942Z"
   },
   {
    "duration": 9,
    "start_time": "2022-01-17T04:34:18.950Z"
   },
   {
    "duration": 32,
    "start_time": "2022-01-17T04:34:18.961Z"
   },
   {
    "duration": 5,
    "start_time": "2022-01-17T04:34:18.995Z"
   },
   {
    "duration": 4,
    "start_time": "2022-01-17T04:34:19.002Z"
   },
   {
    "duration": 23,
    "start_time": "2022-01-17T04:34:19.007Z"
   },
   {
    "duration": 6,
    "start_time": "2022-01-17T04:34:19.031Z"
   },
   {
    "duration": 66,
    "start_time": "2022-01-17T04:34:19.038Z"
   },
   {
    "duration": 3,
    "start_time": "2022-01-17T04:34:19.106Z"
   },
   {
    "duration": 7,
    "start_time": "2022-01-17T04:34:19.110Z"
   },
   {
    "duration": 10,
    "start_time": "2022-01-17T04:34:19.119Z"
   },
   {
    "duration": 8,
    "start_time": "2022-01-17T04:34:19.131Z"
   },
   {
    "duration": 12,
    "start_time": "2022-01-17T04:34:19.140Z"
   },
   {
    "duration": 46,
    "start_time": "2022-01-17T04:34:19.153Z"
   },
   {
    "duration": 6,
    "start_time": "2022-01-17T04:34:19.201Z"
   },
   {
    "duration": 6,
    "start_time": "2022-01-17T04:34:23.827Z"
   },
   {
    "duration": 6,
    "start_time": "2022-01-17T04:34:26.379Z"
   },
   {
    "duration": 43,
    "start_time": "2022-01-17T04:34:45.100Z"
   },
   {
    "duration": 51,
    "start_time": "2022-01-17T04:34:45.145Z"
   },
   {
    "duration": 5,
    "start_time": "2022-01-17T04:34:45.197Z"
   },
   {
    "duration": 5,
    "start_time": "2022-01-17T04:34:45.203Z"
   },
   {
    "duration": 6,
    "start_time": "2022-01-17T04:34:45.209Z"
   },
   {
    "duration": 5,
    "start_time": "2022-01-17T04:34:45.216Z"
   },
   {
    "duration": 6,
    "start_time": "2022-01-17T04:34:45.222Z"
   },
   {
    "duration": 4,
    "start_time": "2022-01-17T04:34:45.231Z"
   },
   {
    "duration": 54,
    "start_time": "2022-01-17T04:34:45.238Z"
   },
   {
    "duration": 13,
    "start_time": "2022-01-17T04:34:45.295Z"
   },
   {
    "duration": 11,
    "start_time": "2022-01-17T04:34:45.310Z"
   },
   {
    "duration": 19,
    "start_time": "2022-01-17T04:34:45.323Z"
   },
   {
    "duration": 6,
    "start_time": "2022-01-17T04:34:45.344Z"
   },
   {
    "duration": 7,
    "start_time": "2022-01-17T04:34:45.392Z"
   },
   {
    "duration": 6,
    "start_time": "2022-01-17T04:34:45.400Z"
   },
   {
    "duration": 13,
    "start_time": "2022-01-17T04:34:45.408Z"
   },
   {
    "duration": 13,
    "start_time": "2022-01-17T04:34:45.423Z"
   },
   {
    "duration": 6,
    "start_time": "2022-01-17T04:34:45.437Z"
   },
   {
    "duration": 81,
    "start_time": "2022-01-17T04:34:45.444Z"
   },
   {
    "duration": 2,
    "start_time": "2022-01-17T04:34:45.526Z"
   },
   {
    "duration": 6,
    "start_time": "2022-01-17T04:34:45.530Z"
   },
   {
    "duration": 4,
    "start_time": "2022-01-17T04:34:45.538Z"
   },
   {
    "duration": 10,
    "start_time": "2022-01-17T04:34:45.544Z"
   },
   {
    "duration": 9,
    "start_time": "2022-01-17T04:34:45.555Z"
   },
   {
    "duration": 5,
    "start_time": "2022-01-17T04:34:45.565Z"
   },
   {
    "duration": 4,
    "start_time": "2022-01-17T04:34:45.592Z"
   },
   {
    "duration": 24,
    "start_time": "2022-01-17T04:34:45.597Z"
   },
   {
    "duration": 7,
    "start_time": "2022-01-17T04:34:45.622Z"
   },
   {
    "duration": 66,
    "start_time": "2022-01-17T04:34:45.631Z"
   },
   {
    "duration": 4,
    "start_time": "2022-01-17T04:34:45.700Z"
   },
   {
    "duration": 5,
    "start_time": "2022-01-17T04:34:45.706Z"
   },
   {
    "duration": 9,
    "start_time": "2022-01-17T04:34:45.713Z"
   },
   {
    "duration": 10,
    "start_time": "2022-01-17T04:34:45.724Z"
   },
   {
    "duration": 9,
    "start_time": "2022-01-17T04:34:45.736Z"
   },
   {
    "duration": 67,
    "start_time": "2022-01-17T04:34:45.747Z"
   },
   {
    "duration": 8,
    "start_time": "2022-01-17T04:34:50.455Z"
   },
   {
    "duration": 6,
    "start_time": "2022-01-17T04:34:52.237Z"
   },
   {
    "duration": 8,
    "start_time": "2022-01-17T04:34:53.018Z"
   },
   {
    "duration": 42,
    "start_time": "2022-01-17T04:36:07.030Z"
   },
   {
    "duration": 51,
    "start_time": "2022-01-17T04:36:07.074Z"
   },
   {
    "duration": 4,
    "start_time": "2022-01-17T04:36:07.128Z"
   },
   {
    "duration": 4,
    "start_time": "2022-01-17T04:36:07.134Z"
   },
   {
    "duration": 5,
    "start_time": "2022-01-17T04:36:07.140Z"
   },
   {
    "duration": 5,
    "start_time": "2022-01-17T04:36:07.147Z"
   },
   {
    "duration": 5,
    "start_time": "2022-01-17T04:36:07.154Z"
   },
   {
    "duration": 34,
    "start_time": "2022-01-17T04:36:07.161Z"
   },
   {
    "duration": 7,
    "start_time": "2022-01-17T04:36:07.197Z"
   },
   {
    "duration": 15,
    "start_time": "2022-01-17T04:36:07.206Z"
   },
   {
    "duration": 11,
    "start_time": "2022-01-17T04:36:07.224Z"
   },
   {
    "duration": 21,
    "start_time": "2022-01-17T04:36:07.237Z"
   },
   {
    "duration": 8,
    "start_time": "2022-01-17T04:36:07.291Z"
   },
   {
    "duration": 7,
    "start_time": "2022-01-17T04:36:07.301Z"
   },
   {
    "duration": 7,
    "start_time": "2022-01-17T04:36:07.310Z"
   },
   {
    "duration": 12,
    "start_time": "2022-01-17T04:36:07.319Z"
   },
   {
    "duration": 13,
    "start_time": "2022-01-17T04:36:07.332Z"
   },
   {
    "duration": 47,
    "start_time": "2022-01-17T04:36:07.347Z"
   },
   {
    "duration": 41,
    "start_time": "2022-01-17T04:36:07.396Z"
   },
   {
    "duration": 3,
    "start_time": "2022-01-17T04:36:07.439Z"
   },
   {
    "duration": 5,
    "start_time": "2022-01-17T04:36:07.444Z"
   },
   {
    "duration": 5,
    "start_time": "2022-01-17T04:36:07.450Z"
   },
   {
    "duration": 35,
    "start_time": "2022-01-17T04:36:07.457Z"
   },
   {
    "duration": 9,
    "start_time": "2022-01-17T04:36:07.494Z"
   },
   {
    "duration": 10,
    "start_time": "2022-01-17T04:36:07.504Z"
   },
   {
    "duration": 4,
    "start_time": "2022-01-17T04:36:07.516Z"
   },
   {
    "duration": 21,
    "start_time": "2022-01-17T04:36:07.524Z"
   },
   {
    "duration": 5,
    "start_time": "2022-01-17T04:36:07.547Z"
   },
   {
    "duration": 71,
    "start_time": "2022-01-17T04:36:07.553Z"
   },
   {
    "duration": 4,
    "start_time": "2022-01-17T04:36:07.625Z"
   },
   {
    "duration": 7,
    "start_time": "2022-01-17T04:36:07.630Z"
   },
   {
    "duration": 10,
    "start_time": "2022-01-17T04:36:07.639Z"
   },
   {
    "duration": 10,
    "start_time": "2022-01-17T04:36:07.650Z"
   },
   {
    "duration": 33,
    "start_time": "2022-01-17T04:36:07.661Z"
   },
   {
    "duration": 25,
    "start_time": "2022-01-17T04:36:07.696Z"
   },
   {
    "duration": 27,
    "start_time": "2022-01-17T04:36:10.203Z"
   },
   {
    "duration": 7,
    "start_time": "2022-01-17T04:36:11.739Z"
   },
   {
    "duration": 8,
    "start_time": "2022-01-17T04:36:13.070Z"
   },
   {
    "duration": 8,
    "start_time": "2022-01-17T04:36:20.583Z"
   },
   {
    "duration": 59,
    "start_time": "2022-01-17T04:38:32.019Z"
   },
   {
    "duration": 57,
    "start_time": "2022-01-17T04:38:41.524Z"
   },
   {
    "duration": 8,
    "start_time": "2022-01-17T04:38:46.775Z"
   },
   {
    "duration": 7,
    "start_time": "2022-01-17T04:38:47.699Z"
   },
   {
    "duration": 44,
    "start_time": "2022-01-17T04:39:40.688Z"
   },
   {
    "duration": 59,
    "start_time": "2022-01-17T04:39:40.734Z"
   },
   {
    "duration": 4,
    "start_time": "2022-01-17T04:39:40.795Z"
   },
   {
    "duration": 5,
    "start_time": "2022-01-17T04:39:40.801Z"
   },
   {
    "duration": 9,
    "start_time": "2022-01-17T04:39:40.808Z"
   },
   {
    "duration": 5,
    "start_time": "2022-01-17T04:39:40.819Z"
   },
   {
    "duration": 6,
    "start_time": "2022-01-17T04:39:40.825Z"
   },
   {
    "duration": 5,
    "start_time": "2022-01-17T04:39:40.833Z"
   },
   {
    "duration": 6,
    "start_time": "2022-01-17T04:39:40.840Z"
   },
   {
    "duration": 53,
    "start_time": "2022-01-17T04:39:40.847Z"
   },
   {
    "duration": 11,
    "start_time": "2022-01-17T04:39:40.902Z"
   },
   {
    "duration": 21,
    "start_time": "2022-01-17T04:39:40.915Z"
   },
   {
    "duration": 5,
    "start_time": "2022-01-17T04:39:40.938Z"
   },
   {
    "duration": 5,
    "start_time": "2022-01-17T04:39:40.944Z"
   },
   {
    "duration": 5,
    "start_time": "2022-01-17T04:39:40.951Z"
   },
   {
    "duration": 42,
    "start_time": "2022-01-17T04:39:40.957Z"
   },
   {
    "duration": 14,
    "start_time": "2022-01-17T04:39:41.001Z"
   },
   {
    "duration": 8,
    "start_time": "2022-01-17T04:39:41.017Z"
   },
   {
    "duration": 66,
    "start_time": "2022-01-17T04:39:41.027Z"
   },
   {
    "duration": 2,
    "start_time": "2022-01-17T04:39:41.095Z"
   },
   {
    "duration": 5,
    "start_time": "2022-01-17T04:39:41.099Z"
   },
   {
    "duration": 4,
    "start_time": "2022-01-17T04:39:41.106Z"
   },
   {
    "duration": 5,
    "start_time": "2022-01-17T04:39:41.114Z"
   },
   {
    "duration": 10,
    "start_time": "2022-01-17T04:39:41.121Z"
   },
   {
    "duration": 6,
    "start_time": "2022-01-17T04:39:41.132Z"
   },
   {
    "duration": 4,
    "start_time": "2022-01-17T04:39:41.140Z"
   },
   {
    "duration": 66,
    "start_time": "2022-01-17T04:39:41.146Z"
   },
   {
    "duration": 6,
    "start_time": "2022-01-17T04:39:41.214Z"
   },
   {
    "duration": 37,
    "start_time": "2022-01-17T04:39:41.222Z"
   },
   {
    "duration": 33,
    "start_time": "2022-01-17T04:39:41.261Z"
   },
   {
    "duration": 6,
    "start_time": "2022-01-17T04:39:41.295Z"
   },
   {
    "duration": 9,
    "start_time": "2022-01-17T04:39:41.303Z"
   },
   {
    "duration": 9,
    "start_time": "2022-01-17T04:39:41.314Z"
   },
   {
    "duration": 10,
    "start_time": "2022-01-17T04:39:41.324Z"
   },
   {
    "duration": 25,
    "start_time": "2022-01-17T04:39:41.335Z"
   },
   {
    "duration": 9,
    "start_time": "2022-01-17T04:39:41.392Z"
   },
   {
    "duration": 8,
    "start_time": "2022-01-17T04:39:43.748Z"
   },
   {
    "duration": 6,
    "start_time": "2022-01-17T04:39:45.425Z"
   },
   {
    "duration": 7,
    "start_time": "2022-01-17T04:39:46.373Z"
   },
   {
    "duration": 7,
    "start_time": "2022-01-17T04:40:56.355Z"
   },
   {
    "duration": 6,
    "start_time": "2022-01-17T04:40:56.861Z"
   },
   {
    "duration": 13,
    "start_time": "2022-01-17T04:44:29.667Z"
   },
   {
    "duration": 22,
    "start_time": "2022-01-17T04:49:00.251Z"
   },
   {
    "duration": 44,
    "start_time": "2022-01-17T04:53:38.940Z"
   },
   {
    "duration": 52,
    "start_time": "2022-01-17T04:53:38.985Z"
   },
   {
    "duration": 4,
    "start_time": "2022-01-17T04:53:39.039Z"
   },
   {
    "duration": 5,
    "start_time": "2022-01-17T04:53:39.045Z"
   },
   {
    "duration": 6,
    "start_time": "2022-01-17T04:53:39.052Z"
   },
   {
    "duration": 34,
    "start_time": "2022-01-17T04:53:39.059Z"
   },
   {
    "duration": 4,
    "start_time": "2022-01-17T04:53:39.095Z"
   },
   {
    "duration": 8,
    "start_time": "2022-01-17T04:53:39.102Z"
   },
   {
    "duration": 13,
    "start_time": "2022-01-17T04:53:39.112Z"
   },
   {
    "duration": 12,
    "start_time": "2022-01-17T04:53:39.127Z"
   },
   {
    "duration": 11,
    "start_time": "2022-01-17T04:53:39.140Z"
   },
   {
    "duration": 44,
    "start_time": "2022-01-17T04:53:39.152Z"
   },
   {
    "duration": 5,
    "start_time": "2022-01-17T04:53:39.197Z"
   },
   {
    "duration": 7,
    "start_time": "2022-01-17T04:53:39.204Z"
   },
   {
    "duration": 6,
    "start_time": "2022-01-17T04:53:39.212Z"
   },
   {
    "duration": 12,
    "start_time": "2022-01-17T04:53:39.219Z"
   },
   {
    "duration": 13,
    "start_time": "2022-01-17T04:53:39.232Z"
   },
   {
    "duration": 8,
    "start_time": "2022-01-17T04:53:39.247Z"
   },
   {
    "duration": 70,
    "start_time": "2022-01-17T04:53:39.257Z"
   },
   {
    "duration": 3,
    "start_time": "2022-01-17T04:53:39.329Z"
   },
   {
    "duration": 5,
    "start_time": "2022-01-17T04:53:39.333Z"
   },
   {
    "duration": 4,
    "start_time": "2022-01-17T04:53:39.339Z"
   },
   {
    "duration": 6,
    "start_time": "2022-01-17T04:53:39.346Z"
   },
   {
    "duration": 39,
    "start_time": "2022-01-17T04:53:39.353Z"
   },
   {
    "duration": 5,
    "start_time": "2022-01-17T04:53:39.393Z"
   },
   {
    "duration": 16,
    "start_time": "2022-01-17T04:53:39.400Z"
   },
   {
    "duration": 37,
    "start_time": "2022-01-17T04:53:39.418Z"
   },
   {
    "duration": 5,
    "start_time": "2022-01-17T04:53:39.457Z"
   },
   {
    "duration": 57,
    "start_time": "2022-01-17T04:53:39.464Z"
   },
   {
    "duration": 3,
    "start_time": "2022-01-17T04:53:39.523Z"
   },
   {
    "duration": 16,
    "start_time": "2022-01-17T04:53:39.528Z"
   },
   {
    "duration": 16,
    "start_time": "2022-01-17T04:53:39.546Z"
   },
   {
    "duration": 14,
    "start_time": "2022-01-17T04:53:39.564Z"
   },
   {
    "duration": 24,
    "start_time": "2022-01-17T04:53:39.579Z"
   },
   {
    "duration": 28,
    "start_time": "2022-01-17T04:53:39.605Z"
   },
   {
    "duration": 4,
    "start_time": "2022-01-17T04:53:39.635Z"
   },
   {
    "duration": 20,
    "start_time": "2022-01-17T04:53:39.641Z"
   },
   {
    "duration": 7,
    "start_time": "2022-01-17T04:53:39.662Z"
   },
   {
    "duration": 6,
    "start_time": "2022-01-17T04:53:42.906Z"
   },
   {
    "duration": 9,
    "start_time": "2022-01-17T04:53:47.800Z"
   },
   {
    "duration": 4278,
    "start_time": "2022-01-17T04:56:30.861Z"
   },
   {
    "duration": 4913,
    "start_time": "2022-01-17T04:57:47.743Z"
   },
   {
    "duration": 4144,
    "start_time": "2022-01-17T04:58:08.935Z"
   },
   {
    "duration": 4259,
    "start_time": "2022-01-17T04:59:06.525Z"
   },
   {
    "duration": 4293,
    "start_time": "2022-01-17T04:59:29.811Z"
   },
   {
    "duration": 4352,
    "start_time": "2022-01-17T04:59:36.293Z"
   },
   {
    "duration": 4123,
    "start_time": "2022-01-17T04:59:55.238Z"
   },
   {
    "duration": 4963,
    "start_time": "2022-01-17T05:00:13.171Z"
   },
   {
    "duration": 6,
    "start_time": "2022-01-17T05:02:14.204Z"
   },
   {
    "duration": 184,
    "start_time": "2022-01-17T05:02:37.145Z"
   },
   {
    "duration": 4,
    "start_time": "2022-01-17T05:02:50.886Z"
   },
   {
    "duration": 6,
    "start_time": "2022-01-17T05:02:51.261Z"
   },
   {
    "duration": 9,
    "start_time": "2022-01-17T05:03:25.027Z"
   },
   {
    "duration": 6,
    "start_time": "2022-01-17T05:04:12.017Z"
   },
   {
    "duration": 4,
    "start_time": "2022-01-17T05:04:26.171Z"
   },
   {
    "duration": 9,
    "start_time": "2022-01-17T05:04:46.585Z"
   },
   {
    "duration": 658,
    "start_time": "2022-01-22T21:55:05.085Z"
   },
   {
    "duration": 59,
    "start_time": "2022-01-22T21:55:05.745Z"
   },
   {
    "duration": 5,
    "start_time": "2022-01-22T21:55:05.806Z"
   },
   {
    "duration": 22,
    "start_time": "2022-01-22T21:55:05.813Z"
   },
   {
    "duration": 16,
    "start_time": "2022-01-22T21:55:05.837Z"
   },
   {
    "duration": 11,
    "start_time": "2022-01-22T21:55:05.855Z"
   },
   {
    "duration": 18,
    "start_time": "2022-01-22T21:55:05.867Z"
   },
   {
    "duration": 18,
    "start_time": "2022-01-22T21:55:05.887Z"
   },
   {
    "duration": 14,
    "start_time": "2022-01-22T21:55:05.907Z"
   },
   {
    "duration": 34,
    "start_time": "2022-01-22T21:55:05.923Z"
   },
   {
    "duration": 20,
    "start_time": "2022-01-22T21:55:05.959Z"
   },
   {
    "duration": 27,
    "start_time": "2022-01-22T21:55:05.981Z"
   },
   {
    "duration": 6,
    "start_time": "2022-01-22T21:55:06.010Z"
   },
   {
    "duration": 25,
    "start_time": "2022-01-22T21:55:06.017Z"
   },
   {
    "duration": 16,
    "start_time": "2022-01-22T21:55:06.043Z"
   },
   {
    "duration": 13,
    "start_time": "2022-01-22T21:55:06.060Z"
   },
   {
    "duration": 33,
    "start_time": "2022-01-22T21:55:06.074Z"
   },
   {
    "duration": 20,
    "start_time": "2022-01-22T21:55:06.109Z"
   },
   {
    "duration": 7,
    "start_time": "2022-01-22T21:55:16.468Z"
   },
   {
    "duration": 41,
    "start_time": "2022-01-22T21:55:17.263Z"
   },
   {
    "duration": 5,
    "start_time": "2022-01-22T21:57:20.954Z"
   },
   {
    "duration": 9,
    "start_time": "2022-01-22T21:57:21.170Z"
   },
   {
    "duration": 5,
    "start_time": "2022-01-22T21:57:21.390Z"
   },
   {
    "duration": 5,
    "start_time": "2022-01-22T21:57:23.130Z"
   },
   {
    "duration": 22,
    "start_time": "2022-01-22T21:57:38.425Z"
   },
   {
    "duration": 6,
    "start_time": "2022-01-22T21:57:38.681Z"
   },
   {
    "duration": 40,
    "start_time": "2022-01-22T21:57:39.019Z"
   },
   {
    "duration": 4,
    "start_time": "2022-01-22T21:57:40.394Z"
   },
   {
    "duration": 5,
    "start_time": "2022-01-22T21:57:40.734Z"
   },
   {
    "duration": 9,
    "start_time": "2022-01-22T21:57:41.472Z"
   },
   {
    "duration": 10,
    "start_time": "2022-01-22T21:57:41.805Z"
   },
   {
    "duration": 9,
    "start_time": "2022-01-22T21:57:42.098Z"
   },
   {
    "duration": 28,
    "start_time": "2022-01-22T21:57:42.467Z"
   },
   {
    "duration": 2,
    "start_time": "2022-01-22T21:57:46.001Z"
   },
   {
    "duration": 7,
    "start_time": "2022-01-22T21:57:46.212Z"
   },
   {
    "duration": 7,
    "start_time": "2022-01-22T21:57:46.427Z"
   },
   {
    "duration": 9,
    "start_time": "2022-01-22T21:57:46.688Z"
   },
   {
    "duration": 5,
    "start_time": "2022-01-22T21:57:48.008Z"
   },
   {
    "duration": 6,
    "start_time": "2022-01-22T21:57:48.231Z"
   },
   {
    "duration": 9,
    "start_time": "2022-01-22T21:57:48.712Z"
   },
   {
    "duration": 3,
    "start_time": "2022-01-22T21:57:49.302Z"
   },
   {
    "duration": 3,
    "start_time": "2022-01-22T21:57:57.034Z"
   },
   {
    "duration": 10,
    "start_time": "2022-01-22T21:57:59.090Z"
   },
   {
    "duration": 5,
    "start_time": "2022-01-22T21:58:45.054Z"
   },
   {
    "duration": 6,
    "start_time": "2022-01-22T21:59:17.928Z"
   },
   {
    "duration": 8226,
    "start_time": "2022-01-22T22:00:02.996Z"
   },
   {
    "duration": -121,
    "start_time": "2022-01-22T22:00:23.303Z"
   },
   {
    "duration": 14,
    "start_time": "2022-01-22T22:00:30.003Z"
   },
   {
    "duration": 4,
    "start_time": "2022-01-22T22:01:02.579Z"
   },
   {
    "duration": 180,
    "start_time": "2022-01-22T22:01:14.007Z"
   },
   {
    "duration": 180,
    "start_time": "2022-01-22T22:01:31.327Z"
   },
   {
    "duration": 12,
    "start_time": "2022-01-22T22:01:40.663Z"
   },
   {
    "duration": 21,
    "start_time": "2022-01-22T22:04:18.772Z"
   },
   {
    "duration": 12,
    "start_time": "2022-01-22T22:06:26.495Z"
   },
   {
    "duration": 59,
    "start_time": "2022-01-22T22:12:23.227Z"
   },
   {
    "duration": 4,
    "start_time": "2022-01-22T22:12:38.389Z"
   },
   {
    "duration": 2538,
    "start_time": "2022-01-22T22:13:26.599Z"
   },
   {
    "duration": 5661,
    "start_time": "2022-01-22T22:14:52.551Z"
   },
   {
    "duration": 3,
    "start_time": "2022-01-22T22:18:43.986Z"
   },
   {
    "duration": 8,
    "start_time": "2022-01-22T22:19:28.307Z"
   },
   {
    "duration": 18,
    "start_time": "2022-01-22T22:19:38.758Z"
   },
   {
    "duration": 22,
    "start_time": "2022-01-22T22:20:20.024Z"
   },
   {
    "duration": 15,
    "start_time": "2022-01-22T22:22:23.909Z"
   },
   {
    "duration": 11,
    "start_time": "2022-01-22T22:22:36.821Z"
   },
   {
    "duration": 7,
    "start_time": "2022-01-22T22:24:03.017Z"
   },
   {
    "duration": 8,
    "start_time": "2022-01-22T22:24:33.549Z"
   },
   {
    "duration": 181,
    "start_time": "2022-01-22T22:41:43.581Z"
   },
   {
    "duration": 7,
    "start_time": "2022-01-22T22:41:58.429Z"
   },
   {
    "duration": 16,
    "start_time": "2022-01-22T22:43:46.839Z"
   },
   {
    "duration": 8,
    "start_time": "2022-01-22T22:44:16.103Z"
   },
   {
    "duration": 13,
    "start_time": "2022-01-22T22:44:17.102Z"
   },
   {
    "duration": 69,
    "start_time": "2022-01-22T22:55:34.710Z"
   },
   {
    "duration": 5,
    "start_time": "2022-01-22T22:55:55.210Z"
   },
   {
    "duration": 170,
    "start_time": "2022-01-22T22:56:46.026Z"
   },
   {
    "duration": 2904,
    "start_time": "2022-01-22T22:56:55.141Z"
   },
   {
    "duration": 365,
    "start_time": "2022-01-22T22:58:25.501Z"
   },
   {
    "duration": 13,
    "start_time": "2022-01-22T22:59:39.535Z"
   },
   {
    "duration": 5,
    "start_time": "2022-01-22T22:59:52.978Z"
   },
   {
    "duration": 364,
    "start_time": "2022-01-22T23:00:10.247Z"
   },
   {
    "duration": 6,
    "start_time": "2022-01-22T23:01:30.610Z"
   },
   {
    "duration": 9,
    "start_time": "2022-01-22T23:01:57.639Z"
   },
   {
    "duration": 493,
    "start_time": "2022-01-22T23:01:58.276Z"
   },
   {
    "duration": 5,
    "start_time": "2022-01-22T23:03:02.369Z"
   },
   {
    "duration": 588,
    "start_time": "2022-01-22T23:03:03.160Z"
   },
   {
    "duration": 4,
    "start_time": "2022-01-22T23:17:55.717Z"
   },
   {
    "duration": 4,
    "start_time": "2022-01-22T23:17:56.956Z"
   },
   {
    "duration": 5,
    "start_time": "2022-01-22T23:17:59.033Z"
   },
   {
    "duration": 350,
    "start_time": "2022-01-22T23:18:03.199Z"
   },
   {
    "duration": 44,
    "start_time": "2022-01-22T23:18:55.637Z"
   },
   {
    "duration": 57,
    "start_time": "2022-01-22T23:18:55.683Z"
   },
   {
    "duration": 4,
    "start_time": "2022-01-22T23:18:55.742Z"
   },
   {
    "duration": 8,
    "start_time": "2022-01-22T23:18:55.748Z"
   },
   {
    "duration": 7,
    "start_time": "2022-01-22T23:18:55.758Z"
   },
   {
    "duration": 31,
    "start_time": "2022-01-22T23:18:55.767Z"
   },
   {
    "duration": 4,
    "start_time": "2022-01-22T23:18:55.800Z"
   },
   {
    "duration": 4,
    "start_time": "2022-01-22T23:18:55.807Z"
   },
   {
    "duration": 9,
    "start_time": "2022-01-22T23:18:55.813Z"
   },
   {
    "duration": 14,
    "start_time": "2022-01-22T23:18:55.823Z"
   },
   {
    "duration": 14,
    "start_time": "2022-01-22T23:18:55.839Z"
   },
   {
    "duration": 55,
    "start_time": "2022-01-22T23:18:55.855Z"
   },
   {
    "duration": 7,
    "start_time": "2022-01-22T23:18:55.912Z"
   },
   {
    "duration": 9,
    "start_time": "2022-01-22T23:18:55.921Z"
   },
   {
    "duration": 9,
    "start_time": "2022-01-22T23:18:55.932Z"
   },
   {
    "duration": 18,
    "start_time": "2022-01-22T23:18:55.943Z"
   },
   {
    "duration": 43,
    "start_time": "2022-01-22T23:18:55.963Z"
   },
   {
    "duration": 11,
    "start_time": "2022-01-22T23:18:56.008Z"
   },
   {
    "duration": 46,
    "start_time": "2022-01-22T23:18:56.021Z"
   },
   {
    "duration": 2,
    "start_time": "2022-01-22T23:18:56.070Z"
   },
   {
    "duration": 5,
    "start_time": "2022-01-22T23:18:56.097Z"
   },
   {
    "duration": 11,
    "start_time": "2022-01-22T23:18:56.104Z"
   },
   {
    "duration": 6,
    "start_time": "2022-01-22T23:18:56.118Z"
   },
   {
    "duration": 5,
    "start_time": "2022-01-22T23:18:56.125Z"
   },
   {
    "duration": 23,
    "start_time": "2022-01-22T23:18:56.131Z"
   },
   {
    "duration": 9,
    "start_time": "2022-01-22T23:18:56.156Z"
   },
   {
    "duration": 73,
    "start_time": "2022-01-22T23:18:56.166Z"
   },
   {
    "duration": 3,
    "start_time": "2022-01-22T23:18:56.241Z"
   },
   {
    "duration": 13,
    "start_time": "2022-01-22T23:18:56.246Z"
   },
   {
    "duration": 11,
    "start_time": "2022-01-22T23:18:56.261Z"
   },
   {
    "duration": 24,
    "start_time": "2022-01-22T23:18:56.274Z"
   },
   {
    "duration": 8,
    "start_time": "2022-01-22T23:18:56.300Z"
   },
   {
    "duration": 25,
    "start_time": "2022-01-22T23:18:56.310Z"
   },
   {
    "duration": 3,
    "start_time": "2022-01-22T23:18:56.337Z"
   },
   {
    "duration": 10,
    "start_time": "2022-01-22T23:18:56.341Z"
   },
   {
    "duration": 13,
    "start_time": "2022-01-22T23:18:56.352Z"
   },
   {
    "duration": 38,
    "start_time": "2022-01-22T23:18:56.366Z"
   },
   {
    "duration": 7,
    "start_time": "2022-01-22T23:18:56.406Z"
   },
   {
    "duration": 10,
    "start_time": "2022-01-22T23:18:56.414Z"
   },
   {
    "duration": 14,
    "start_time": "2022-01-22T23:18:56.425Z"
   },
   {
    "duration": 10,
    "start_time": "2022-01-22T23:18:56.440Z"
   },
   {
    "duration": 9,
    "start_time": "2022-01-22T23:18:56.452Z"
   },
   {
    "duration": 5,
    "start_time": "2022-01-22T23:18:56.462Z"
   },
   {
    "duration": 4,
    "start_time": "2022-01-22T23:18:56.468Z"
   },
   {
    "duration": 25,
    "start_time": "2022-01-22T23:18:56.473Z"
   },
   {
    "duration": 12,
    "start_time": "2022-01-22T23:18:56.499Z"
   },
   {
    "duration": 7,
    "start_time": "2022-01-22T23:18:56.512Z"
   },
   {
    "duration": 23,
    "start_time": "2022-01-22T23:18:56.521Z"
   },
   {
    "duration": 12,
    "start_time": "2022-01-22T23:18:56.546Z"
   },
   {
    "duration": 37,
    "start_time": "2022-01-22T23:18:56.560Z"
   },
   {
    "duration": 7,
    "start_time": "2022-01-22T23:18:56.599Z"
   },
   {
    "duration": 8,
    "start_time": "2022-01-22T23:18:56.607Z"
   },
   {
    "duration": 14,
    "start_time": "2022-01-22T23:18:56.617Z"
   },
   {
    "duration": 7,
    "start_time": "2022-01-22T23:18:56.632Z"
   },
   {
    "duration": 6,
    "start_time": "2022-01-22T23:19:03.729Z"
   },
   {
    "duration": 5,
    "start_time": "2022-01-22T23:19:14.280Z"
   },
   {
    "duration": 5,
    "start_time": "2022-01-22T23:19:20.263Z"
   },
   {
    "duration": 370,
    "start_time": "2022-01-22T23:19:21.788Z"
   },
   {
    "duration": 92,
    "start_time": "2022-01-22T23:20:59.775Z"
   },
   {
    "duration": 678,
    "start_time": "2022-01-22T23:21:00.556Z"
   },
   {
    "duration": 5,
    "start_time": "2022-01-22T23:21:06.741Z"
   },
   {
    "duration": 317,
    "start_time": "2022-01-22T23:21:07.709Z"
   },
   {
    "duration": 14,
    "start_time": "2022-01-22T23:21:16.544Z"
   },
   {
    "duration": 2584,
    "start_time": "2022-01-22T23:21:36.143Z"
   },
   {
    "duration": -186,
    "start_time": "2022-01-22T23:21:38.915Z"
   },
   {
    "duration": 328,
    "start_time": "2022-01-22T23:23:03.573Z"
   },
   {
    "duration": 12,
    "start_time": "2022-01-22T23:23:16.863Z"
   },
   {
    "duration": 63,
    "start_time": "2022-01-22T23:27:07.383Z"
   },
   {
    "duration": 7,
    "start_time": "2022-01-22T23:27:11.748Z"
   },
   {
    "duration": 11,
    "start_time": "2022-01-22T23:27:13.865Z"
   },
   {
    "duration": 45,
    "start_time": "2022-01-22T23:27:41.110Z"
   },
   {
    "duration": 54,
    "start_time": "2022-01-22T23:27:41.157Z"
   },
   {
    "duration": 4,
    "start_time": "2022-01-22T23:27:41.213Z"
   },
   {
    "duration": 5,
    "start_time": "2022-01-22T23:27:41.218Z"
   },
   {
    "duration": 9,
    "start_time": "2022-01-22T23:27:41.224Z"
   },
   {
    "duration": 7,
    "start_time": "2022-01-22T23:27:41.234Z"
   },
   {
    "duration": 6,
    "start_time": "2022-01-22T23:27:41.242Z"
   },
   {
    "duration": 6,
    "start_time": "2022-01-22T23:27:41.250Z"
   },
   {
    "duration": 40,
    "start_time": "2022-01-22T23:27:41.258Z"
   },
   {
    "duration": 13,
    "start_time": "2022-01-22T23:27:41.300Z"
   },
   {
    "duration": 19,
    "start_time": "2022-01-22T23:27:41.314Z"
   },
   {
    "duration": 19,
    "start_time": "2022-01-22T23:27:41.334Z"
   },
   {
    "duration": 4,
    "start_time": "2022-01-22T23:27:41.355Z"
   },
   {
    "duration": 6,
    "start_time": "2022-01-22T23:27:41.361Z"
   },
   {
    "duration": 34,
    "start_time": "2022-01-22T23:27:41.368Z"
   },
   {
    "duration": 11,
    "start_time": "2022-01-22T23:27:41.404Z"
   },
   {
    "duration": 15,
    "start_time": "2022-01-22T23:27:41.417Z"
   },
   {
    "duration": 26,
    "start_time": "2022-01-22T23:27:41.434Z"
   },
   {
    "duration": 51,
    "start_time": "2022-01-22T23:27:41.462Z"
   },
   {
    "duration": 3,
    "start_time": "2022-01-22T23:27:41.514Z"
   },
   {
    "duration": 20,
    "start_time": "2022-01-22T23:27:41.518Z"
   },
   {
    "duration": 25,
    "start_time": "2022-01-22T23:27:41.539Z"
   },
   {
    "duration": 34,
    "start_time": "2022-01-22T23:27:41.568Z"
   },
   {
    "duration": 13,
    "start_time": "2022-01-22T23:27:41.605Z"
   },
   {
    "duration": 47,
    "start_time": "2022-01-22T23:27:41.620Z"
   },
   {
    "duration": 29,
    "start_time": "2022-01-22T23:27:41.668Z"
   },
   {
    "duration": 45,
    "start_time": "2022-01-22T23:27:41.699Z"
   },
   {
    "duration": 3,
    "start_time": "2022-01-22T23:27:41.746Z"
   },
   {
    "duration": 23,
    "start_time": "2022-01-22T23:27:41.751Z"
   },
   {
    "duration": 27,
    "start_time": "2022-01-22T23:27:41.776Z"
   },
   {
    "duration": 19,
    "start_time": "2022-01-22T23:27:41.805Z"
   },
   {
    "duration": 27,
    "start_time": "2022-01-22T23:27:41.825Z"
   },
   {
    "duration": 41,
    "start_time": "2022-01-22T23:27:41.854Z"
   },
   {
    "duration": 2,
    "start_time": "2022-01-22T23:27:41.897Z"
   },
   {
    "duration": 9,
    "start_time": "2022-01-22T23:27:41.900Z"
   },
   {
    "duration": 10,
    "start_time": "2022-01-22T23:27:41.910Z"
   },
   {
    "duration": 10,
    "start_time": "2022-01-22T23:27:41.922Z"
   },
   {
    "duration": 7,
    "start_time": "2022-01-22T23:27:41.933Z"
   },
   {
    "duration": 7,
    "start_time": "2022-01-22T23:27:41.942Z"
   },
   {
    "duration": 9,
    "start_time": "2022-01-22T23:27:41.950Z"
   },
   {
    "duration": 37,
    "start_time": "2022-01-22T23:27:41.960Z"
   },
   {
    "duration": 4,
    "start_time": "2022-01-22T23:27:41.999Z"
   },
   {
    "duration": 6,
    "start_time": "2022-01-22T23:27:42.005Z"
   },
   {
    "duration": 4,
    "start_time": "2022-01-22T23:27:42.013Z"
   },
   {
    "duration": 8,
    "start_time": "2022-01-22T23:27:42.018Z"
   },
   {
    "duration": 15,
    "start_time": "2022-01-22T23:27:42.027Z"
   },
   {
    "duration": 10,
    "start_time": "2022-01-22T23:27:42.044Z"
   },
   {
    "duration": 25,
    "start_time": "2022-01-22T23:27:42.055Z"
   },
   {
    "duration": 22,
    "start_time": "2022-01-22T23:27:42.082Z"
   },
   {
    "duration": 10,
    "start_time": "2022-01-22T23:27:42.106Z"
   },
   {
    "duration": 5,
    "start_time": "2022-01-22T23:27:42.118Z"
   },
   {
    "duration": 6,
    "start_time": "2022-01-22T23:27:42.125Z"
   },
   {
    "duration": 10,
    "start_time": "2022-01-22T23:27:42.133Z"
   },
   {
    "duration": 5,
    "start_time": "2022-01-22T23:27:42.145Z"
   },
   {
    "duration": 7,
    "start_time": "2022-01-22T23:28:03.406Z"
   },
   {
    "duration": 12,
    "start_time": "2022-01-22T23:28:04.624Z"
   },
   {
    "duration": 4454,
    "start_time": "2022-01-22T23:33:52.239Z"
   },
   {
    "duration": 7,
    "start_time": "2022-01-22T23:34:14.795Z"
   },
   {
    "duration": 11,
    "start_time": "2022-01-22T23:34:27.242Z"
   },
   {
    "duration": 13,
    "start_time": "2022-01-22T23:42:01.651Z"
   },
   {
    "duration": 33,
    "start_time": "2022-01-22T23:42:28.957Z"
   },
   {
    "duration": 195,
    "start_time": "2022-01-22T23:44:44.321Z"
   },
   {
    "duration": 4,
    "start_time": "2022-01-22T23:45:22.339Z"
   },
   {
    "duration": 171,
    "start_time": "2022-01-22T23:45:37.548Z"
   },
   {
    "duration": 4,
    "start_time": "2022-01-22T23:45:46.101Z"
   },
   {
    "duration": 4,
    "start_time": "2022-01-22T23:45:55.255Z"
   },
   {
    "duration": 12,
    "start_time": "2022-01-22T23:46:07.337Z"
   },
   {
    "duration": 198,
    "start_time": "2022-01-22T23:47:22.788Z"
   },
   {
    "duration": 5,
    "start_time": "2022-01-22T23:47:43.862Z"
   },
   {
    "duration": 169,
    "start_time": "2022-01-22T23:49:32.768Z"
   },
   {
    "duration": 587,
    "start_time": "2022-01-22T23:50:01.359Z"
   },
   {
    "duration": 23001,
    "start_time": "2022-01-22T23:50:05.262Z"
   },
   {
    "duration": 3,
    "start_time": "2022-01-22T23:51:02.325Z"
   },
   {
    "duration": 22938,
    "start_time": "2022-01-22T23:51:03.648Z"
   },
   {
    "duration": 29827,
    "start_time": "2022-01-22T23:52:52.744Z"
   },
   {
    "duration": 61,
    "start_time": "2022-01-23T00:00:44.650Z"
   },
   {
    "duration": 219,
    "start_time": "2022-01-23T00:00:51.783Z"
   },
   {
    "duration": 552,
    "start_time": "2022-01-23T00:01:14.984Z"
   },
   {
    "duration": 13,
    "start_time": "2022-01-23T00:01:56.569Z"
   },
   {
    "duration": 7,
    "start_time": "2022-01-23T00:02:17.444Z"
   },
   {
    "duration": 9,
    "start_time": "2022-01-23T00:02:48.978Z"
   },
   {
    "duration": 11,
    "start_time": "2022-01-23T00:03:15.847Z"
   },
   {
    "duration": 11,
    "start_time": "2022-01-23T00:04:03.511Z"
   },
   {
    "duration": 61,
    "start_time": "2022-01-23T00:04:41.781Z"
   },
   {
    "duration": 11,
    "start_time": "2022-01-23T00:04:49.952Z"
   },
   {
    "duration": 6,
    "start_time": "2022-01-23T00:05:02.369Z"
   },
   {
    "duration": 32,
    "start_time": "2022-01-23T00:07:17.935Z"
   },
   {
    "duration": 311,
    "start_time": "2022-01-23T00:08:22.592Z"
   },
   {
    "duration": 55,
    "start_time": "2022-01-23T00:08:27.901Z"
   },
   {
    "duration": 4,
    "start_time": "2022-01-23T00:14:30.217Z"
   },
   {
    "duration": 11,
    "start_time": "2022-01-23T00:15:17.461Z"
   },
   {
    "duration": 15,
    "start_time": "2022-01-23T00:15:30.553Z"
   },
   {
    "duration": 16,
    "start_time": "2022-01-23T00:17:21.798Z"
   },
   {
    "duration": 10,
    "start_time": "2022-01-23T00:18:40.633Z"
   },
   {
    "duration": 10,
    "start_time": "2022-01-23T00:21:11.206Z"
   },
   {
    "duration": 3,
    "start_time": "2022-01-23T00:36:26.168Z"
   },
   {
    "duration": 8,
    "start_time": "2022-01-23T00:37:15.758Z"
   },
   {
    "duration": 13,
    "start_time": "2022-01-23T00:37:20.010Z"
   },
   {
    "duration": 46,
    "start_time": "2022-01-23T00:38:23.594Z"
   },
   {
    "duration": 60,
    "start_time": "2022-01-23T00:38:23.641Z"
   },
   {
    "duration": 5,
    "start_time": "2022-01-23T00:38:23.703Z"
   },
   {
    "duration": 12,
    "start_time": "2022-01-23T00:38:23.709Z"
   },
   {
    "duration": 6,
    "start_time": "2022-01-23T00:38:23.722Z"
   },
   {
    "duration": 15,
    "start_time": "2022-01-23T00:38:23.729Z"
   },
   {
    "duration": 7,
    "start_time": "2022-01-23T00:38:23.745Z"
   },
   {
    "duration": 3,
    "start_time": "2022-01-23T00:38:23.755Z"
   },
   {
    "duration": 38,
    "start_time": "2022-01-23T00:38:23.760Z"
   },
   {
    "duration": 13,
    "start_time": "2022-01-23T00:38:23.799Z"
   },
   {
    "duration": 13,
    "start_time": "2022-01-23T00:38:23.813Z"
   },
   {
    "duration": 20,
    "start_time": "2022-01-23T00:38:23.827Z"
   },
   {
    "duration": 5,
    "start_time": "2022-01-23T00:38:23.849Z"
   },
   {
    "duration": 9,
    "start_time": "2022-01-23T00:38:23.855Z"
   },
   {
    "duration": 6,
    "start_time": "2022-01-23T00:38:23.897Z"
   },
   {
    "duration": 22,
    "start_time": "2022-01-23T00:38:23.904Z"
   },
   {
    "duration": 24,
    "start_time": "2022-01-23T00:38:23.928Z"
   },
   {
    "duration": 8,
    "start_time": "2022-01-23T00:38:23.953Z"
   },
   {
    "duration": 57,
    "start_time": "2022-01-23T00:38:23.962Z"
   },
   {
    "duration": 2,
    "start_time": "2022-01-23T00:38:24.020Z"
   },
   {
    "duration": 17,
    "start_time": "2022-01-23T00:38:24.024Z"
   },
   {
    "duration": 30,
    "start_time": "2022-01-23T00:38:24.043Z"
   },
   {
    "duration": 15,
    "start_time": "2022-01-23T00:38:24.077Z"
   },
   {
    "duration": 19,
    "start_time": "2022-01-23T00:38:24.095Z"
   },
   {
    "duration": 35,
    "start_time": "2022-01-23T00:38:24.116Z"
   },
   {
    "duration": 4,
    "start_time": "2022-01-23T00:38:24.153Z"
   },
   {
    "duration": 59,
    "start_time": "2022-01-23T00:38:24.159Z"
   },
   {
    "duration": 3,
    "start_time": "2022-01-23T00:38:24.220Z"
   },
   {
    "duration": 34,
    "start_time": "2022-01-23T00:38:24.225Z"
   },
   {
    "duration": 19,
    "start_time": "2022-01-23T00:38:24.261Z"
   },
   {
    "duration": 27,
    "start_time": "2022-01-23T00:38:24.282Z"
   },
   {
    "duration": 30,
    "start_time": "2022-01-23T00:38:24.311Z"
   },
   {
    "duration": 25,
    "start_time": "2022-01-23T00:38:24.343Z"
   },
   {
    "duration": 2,
    "start_time": "2022-01-23T00:38:24.370Z"
   },
   {
    "duration": 15,
    "start_time": "2022-01-23T00:38:24.373Z"
   },
   {
    "duration": 10,
    "start_time": "2022-01-23T00:38:24.390Z"
   },
   {
    "duration": 17,
    "start_time": "2022-01-23T00:38:24.401Z"
   },
   {
    "duration": 4,
    "start_time": "2022-01-23T00:38:24.420Z"
   },
   {
    "duration": 7,
    "start_time": "2022-01-23T00:38:24.426Z"
   },
   {
    "duration": 8,
    "start_time": "2022-01-23T00:38:24.434Z"
   },
   {
    "duration": 8,
    "start_time": "2022-01-23T00:38:24.443Z"
   },
   {
    "duration": 6,
    "start_time": "2022-01-23T00:38:24.453Z"
   },
   {
    "duration": 5,
    "start_time": "2022-01-23T00:38:24.460Z"
   },
   {
    "duration": 3,
    "start_time": "2022-01-23T00:38:24.466Z"
   },
   {
    "duration": 28,
    "start_time": "2022-01-23T00:38:24.470Z"
   },
   {
    "duration": 12,
    "start_time": "2022-01-23T00:38:24.499Z"
   },
   {
    "duration": 5,
    "start_time": "2022-01-23T00:38:24.512Z"
   },
   {
    "duration": 22,
    "start_time": "2022-01-23T00:38:24.519Z"
   },
   {
    "duration": 14,
    "start_time": "2022-01-23T00:38:24.542Z"
   },
   {
    "duration": 39,
    "start_time": "2022-01-23T00:38:24.558Z"
   },
   {
    "duration": 7,
    "start_time": "2022-01-23T00:38:24.599Z"
   },
   {
    "duration": 7,
    "start_time": "2022-01-23T00:38:24.607Z"
   },
   {
    "duration": 14,
    "start_time": "2022-01-23T00:38:24.615Z"
   },
   {
    "duration": 5,
    "start_time": "2022-01-23T00:38:24.630Z"
   },
   {
    "duration": 10,
    "start_time": "2022-01-23T00:38:24.637Z"
   },
   {
    "duration": 11,
    "start_time": "2022-01-23T00:38:24.648Z"
   },
   {
    "duration": 38,
    "start_time": "2022-01-23T00:38:24.660Z"
   },
   {
    "duration": 11,
    "start_time": "2022-01-23T00:38:24.700Z"
   },
   {
    "duration": 3,
    "start_time": "2022-01-23T00:38:24.712Z"
   },
   {
    "duration": 6,
    "start_time": "2022-01-23T00:38:24.716Z"
   },
   {
    "duration": 5,
    "start_time": "2022-01-23T00:38:24.723Z"
   },
   {
    "duration": 5,
    "start_time": "2022-01-23T00:38:24.729Z"
   },
   {
    "duration": 5,
    "start_time": "2022-01-23T00:38:24.736Z"
   },
   {
    "duration": 6,
    "start_time": "2022-01-23T00:38:24.742Z"
   },
   {
    "duration": 4,
    "start_time": "2022-01-23T00:38:24.750Z"
   },
   {
    "duration": 7,
    "start_time": "2022-01-23T00:38:24.756Z"
   },
   {
    "duration": 9,
    "start_time": "2022-01-23T00:38:24.764Z"
   },
   {
    "duration": 22,
    "start_time": "2022-01-23T00:38:24.777Z"
   },
   {
    "duration": 8,
    "start_time": "2022-01-23T00:38:24.801Z"
   },
   {
    "duration": 13,
    "start_time": "2022-01-23T00:38:24.811Z"
   },
   {
    "duration": 53,
    "start_time": "2022-01-23T00:38:24.826Z"
   },
   {
    "duration": 3,
    "start_time": "2022-01-23T00:38:24.897Z"
   },
   {
    "duration": 14,
    "start_time": "2022-01-23T00:38:24.901Z"
   },
   {
    "duration": 15,
    "start_time": "2022-01-23T00:38:24.917Z"
   },
   {
    "duration": 22,
    "start_time": "2022-01-23T00:38:24.934Z"
   },
   {
    "duration": 3,
    "start_time": "2022-01-23T00:38:24.958Z"
   },
   {
    "duration": 4,
    "start_time": "2022-01-23T00:38:28.215Z"
   },
   {
    "duration": 7,
    "start_time": "2022-01-23T00:38:34.722Z"
   },
   {
    "duration": 20,
    "start_time": "2022-01-23T00:38:43.391Z"
   },
   {
    "duration": 3,
    "start_time": "2022-01-23T00:42:16.456Z"
   },
   {
    "duration": 8,
    "start_time": "2022-01-23T00:42:17.462Z"
   },
   {
    "duration": 19,
    "start_time": "2022-01-23T00:42:18.424Z"
   },
   {
    "duration": 4,
    "start_time": "2022-01-23T00:42:48.296Z"
   },
   {
    "duration": 8,
    "start_time": "2022-01-23T00:42:49.523Z"
   },
   {
    "duration": 21,
    "start_time": "2022-01-23T00:42:50.308Z"
   },
   {
    "duration": 16,
    "start_time": "2022-01-23T00:42:52.214Z"
   },
   {
    "duration": 10,
    "start_time": "2022-01-23T00:43:28.164Z"
   },
   {
    "duration": 3,
    "start_time": "2022-01-23T00:44:56.975Z"
   },
   {
    "duration": 1198,
    "start_time": "2022-01-23T00:44:58.287Z"
   },
   {
    "duration": -168,
    "start_time": "2022-01-23T00:44:59.655Z"
   },
   {
    "duration": 10,
    "start_time": "2022-01-23T00:45:01.852Z"
   },
   {
    "duration": 3,
    "start_time": "2022-01-23T00:47:42.208Z"
   },
   {
    "duration": 8,
    "start_time": "2022-01-23T00:47:44.462Z"
   },
   {
    "duration": 20,
    "start_time": "2022-01-23T00:47:45.686Z"
   },
   {
    "duration": 10,
    "start_time": "2022-01-23T00:47:47.222Z"
   },
   {
    "duration": 4,
    "start_time": "2022-01-23T00:48:49.626Z"
   },
   {
    "duration": 11,
    "start_time": "2022-01-23T00:48:50.086Z"
   },
   {
    "duration": 15,
    "start_time": "2022-01-23T00:48:50.420Z"
   },
   {
    "duration": 11,
    "start_time": "2022-01-23T00:48:52.992Z"
   },
   {
    "duration": 3,
    "start_time": "2022-01-23T00:49:22.907Z"
   },
   {
    "duration": 10,
    "start_time": "2022-01-23T00:49:23.299Z"
   },
   {
    "duration": 14,
    "start_time": "2022-01-23T00:49:23.670Z"
   },
   {
    "duration": 10,
    "start_time": "2022-01-23T00:49:24.488Z"
   },
   {
    "duration": 4,
    "start_time": "2022-01-23T00:50:13.090Z"
   },
   {
    "duration": 10,
    "start_time": "2022-01-23T00:50:13.475Z"
   },
   {
    "duration": 23,
    "start_time": "2022-01-23T00:50:13.977Z"
   },
   {
    "duration": 10,
    "start_time": "2022-01-23T00:50:15.168Z"
   },
   {
    "duration": 10,
    "start_time": "2022-01-23T00:50:45.748Z"
   },
   {
    "duration": 67,
    "start_time": "2022-01-23T07:15:54.926Z"
   },
   {
    "duration": 651,
    "start_time": "2022-01-30T01:09:19.725Z"
   },
   {
    "duration": 64,
    "start_time": "2022-01-30T01:09:23.930Z"
   },
   {
    "duration": 6,
    "start_time": "2022-01-30T01:09:27.246Z"
   },
   {
    "duration": 5,
    "start_time": "2022-01-30T01:09:32.210Z"
   },
   {
    "duration": 5,
    "start_time": "2022-01-30T01:09:32.812Z"
   },
   {
    "duration": 5,
    "start_time": "2022-01-30T01:09:33.225Z"
   },
   {
    "duration": 4,
    "start_time": "2022-01-30T01:09:34.290Z"
   },
   {
    "duration": 4,
    "start_time": "2022-01-30T01:09:34.862Z"
   },
   {
    "duration": 5,
    "start_time": "2022-01-30T01:13:21.702Z"
   },
   {
    "duration": 6,
    "start_time": "2022-01-30T01:20:38.137Z"
   },
   {
    "duration": 7,
    "start_time": "2022-01-30T01:42:57.659Z"
   },
   {
    "duration": 41,
    "start_time": "2022-01-30T01:42:59.446Z"
   },
   {
    "duration": 49,
    "start_time": "2022-01-30T01:51:27.435Z"
   },
   {
    "duration": 64,
    "start_time": "2022-01-30T01:51:27.486Z"
   },
   {
    "duration": 6,
    "start_time": "2022-01-30T01:51:27.553Z"
   },
   {
    "duration": 10,
    "start_time": "2022-01-30T01:51:27.561Z"
   },
   {
    "duration": 30,
    "start_time": "2022-01-30T01:51:27.573Z"
   },
   {
    "duration": 6,
    "start_time": "2022-01-30T01:51:27.605Z"
   },
   {
    "duration": 7,
    "start_time": "2022-01-30T01:51:27.613Z"
   },
   {
    "duration": 5,
    "start_time": "2022-01-30T01:51:27.624Z"
   },
   {
    "duration": 6,
    "start_time": "2022-01-30T01:51:27.632Z"
   },
   {
    "duration": 62,
    "start_time": "2022-01-30T01:51:27.640Z"
   },
   {
    "duration": 13,
    "start_time": "2022-01-30T01:51:27.704Z"
   },
   {
    "duration": 23,
    "start_time": "2022-01-30T01:51:27.719Z"
   },
   {
    "duration": 6,
    "start_time": "2022-01-30T01:51:27.744Z"
   },
   {
    "duration": 7,
    "start_time": "2022-01-30T01:51:27.752Z"
   },
   {
    "duration": 41,
    "start_time": "2022-01-30T01:51:27.761Z"
   },
   {
    "duration": 14,
    "start_time": "2022-01-30T01:51:27.804Z"
   },
   {
    "duration": 6,
    "start_time": "2022-01-30T01:51:27.820Z"
   },
   {
    "duration": 46,
    "start_time": "2022-01-30T01:51:27.828Z"
   },
   {
    "duration": 5,
    "start_time": "2022-01-30T01:51:27.899Z"
   },
   {
    "duration": 10,
    "start_time": "2022-01-30T01:51:27.906Z"
   },
   {
    "duration": 7,
    "start_time": "2022-01-30T01:51:27.918Z"
   },
   {
    "duration": 360,
    "start_time": "2022-01-30T01:52:30.398Z"
   },
   {
    "duration": 259,
    "start_time": "2022-01-30T01:52:35.305Z"
   },
   {
    "duration": 7,
    "start_time": "2022-01-30T01:52:37.461Z"
   },
   {
    "duration": 8,
    "start_time": "2022-01-30T01:56:18.697Z"
   },
   {
    "duration": 7,
    "start_time": "2022-01-30T01:56:30.091Z"
   },
   {
    "duration": 6821,
    "start_time": "2022-01-30T02:02:00.237Z"
   },
   {
    "duration": 7146,
    "start_time": "2022-01-30T02:02:18.868Z"
   },
   {
    "duration": 381,
    "start_time": "2022-01-30T02:02:31.732Z"
   },
   {
    "duration": 84,
    "start_time": "2022-01-30T02:02:54.320Z"
   },
   {
    "duration": 275,
    "start_time": "2022-01-30T02:04:19.988Z"
   },
   {
    "duration": 101,
    "start_time": "2022-01-30T02:04:29.077Z"
   },
   {
    "duration": 277,
    "start_time": "2022-01-30T02:04:48.354Z"
   },
   {
    "duration": 87,
    "start_time": "2022-01-30T02:07:38.392Z"
   },
   {
    "duration": 6565,
    "start_time": "2022-01-30T02:07:48.442Z"
   },
   {
    "duration": 6814,
    "start_time": "2022-01-30T02:08:08.311Z"
   },
   {
    "duration": 286,
    "start_time": "2022-01-30T02:08:52.993Z"
   },
   {
    "duration": 320,
    "start_time": "2022-01-30T02:09:28.717Z"
   },
   {
    "duration": 296,
    "start_time": "2022-01-30T02:09:44.025Z"
   },
   {
    "duration": 101,
    "start_time": "2022-01-30T02:09:56.005Z"
   },
   {
    "duration": 876,
    "start_time": "2022-01-30T02:10:19.467Z"
   },
   {
    "duration": 6,
    "start_time": "2022-01-30T02:13:03.345Z"
   },
   {
    "duration": 13,
    "start_time": "2022-01-30T02:13:21.688Z"
   },
   {
    "duration": 5,
    "start_time": "2022-01-30T02:13:25.675Z"
   },
   {
    "duration": 14,
    "start_time": "2022-01-30T02:13:57.863Z"
   },
   {
    "duration": 6,
    "start_time": "2022-01-30T02:14:00.422Z"
   },
   {
    "duration": 13,
    "start_time": "2022-01-30T02:14:23.729Z"
   },
   {
    "duration": 10,
    "start_time": "2022-01-30T02:16:04.763Z"
   },
   {
    "duration": 325,
    "start_time": "2022-01-30T02:17:34.843Z"
   },
   {
    "duration": 6,
    "start_time": "2022-01-30T02:17:46.664Z"
   },
   {
    "duration": 27,
    "start_time": "2022-01-30T02:23:16.436Z"
   },
   {
    "duration": 24,
    "start_time": "2022-01-30T02:26:42.374Z"
   },
   {
    "duration": 7,
    "start_time": "2022-01-30T02:28:50.692Z"
   },
   {
    "duration": 271,
    "start_time": "2022-01-30T02:33:53.439Z"
   },
   {
    "duration": 270,
    "start_time": "2022-01-30T02:33:57.656Z"
   },
   {
    "duration": 267,
    "start_time": "2022-01-30T02:34:03.156Z"
   },
   {
    "duration": 280,
    "start_time": "2022-01-30T02:34:20.978Z"
   },
   {
    "duration": 9,
    "start_time": "2022-01-30T02:34:24.014Z"
   },
   {
    "duration": 110,
    "start_time": "2022-01-30T02:35:51.193Z"
   },
   {
    "duration": 12,
    "start_time": "2022-01-30T02:36:22.907Z"
   },
   {
    "duration": 17,
    "start_time": "2022-01-30T02:40:55.461Z"
   },
   {
    "duration": 7,
    "start_time": "2022-01-30T02:40:59.696Z"
   },
   {
    "duration": 293,
    "start_time": "2022-01-30T02:42:26.358Z"
   },
   {
    "duration": 22,
    "start_time": "2022-01-30T02:42:33.735Z"
   },
   {
    "duration": 9,
    "start_time": "2022-01-30T02:42:35.447Z"
   },
   {
    "duration": 93,
    "start_time": "2022-01-30T02:44:07.362Z"
   },
   {
    "duration": 7,
    "start_time": "2022-01-30T02:46:41.914Z"
   },
   {
    "duration": 102,
    "start_time": "2022-01-30T02:54:31.753Z"
   },
   {
    "duration": 86,
    "start_time": "2022-01-30T02:55:56.857Z"
   },
   {
    "duration": 17,
    "start_time": "2022-01-30T02:56:05.021Z"
   },
   {
    "duration": 45,
    "start_time": "2022-01-30T02:56:23.321Z"
   },
   {
    "duration": 59,
    "start_time": "2022-01-30T02:56:23.367Z"
   },
   {
    "duration": 5,
    "start_time": "2022-01-30T02:56:23.427Z"
   },
   {
    "duration": 8,
    "start_time": "2022-01-30T02:56:23.434Z"
   },
   {
    "duration": 11,
    "start_time": "2022-01-30T02:56:23.443Z"
   },
   {
    "duration": 10,
    "start_time": "2022-01-30T02:56:23.455Z"
   },
   {
    "duration": 10,
    "start_time": "2022-01-30T02:56:23.466Z"
   },
   {
    "duration": 23,
    "start_time": "2022-01-30T02:56:23.478Z"
   },
   {
    "duration": 9,
    "start_time": "2022-01-30T02:56:23.503Z"
   },
   {
    "duration": 23,
    "start_time": "2022-01-30T02:56:23.513Z"
   },
   {
    "duration": 18,
    "start_time": "2022-01-30T02:56:23.537Z"
   },
   {
    "duration": 22,
    "start_time": "2022-01-30T02:56:23.557Z"
   },
   {
    "duration": 6,
    "start_time": "2022-01-30T02:56:23.599Z"
   },
   {
    "duration": 12,
    "start_time": "2022-01-30T02:56:23.606Z"
   },
   {
    "duration": 9,
    "start_time": "2022-01-30T02:56:23.620Z"
   },
   {
    "duration": 19,
    "start_time": "2022-01-30T02:56:23.630Z"
   },
   {
    "duration": 6,
    "start_time": "2022-01-30T02:56:23.651Z"
   },
   {
    "duration": 64,
    "start_time": "2022-01-30T02:56:23.659Z"
   },
   {
    "duration": 4,
    "start_time": "2022-01-30T02:56:23.726Z"
   },
   {
    "duration": 21,
    "start_time": "2022-01-30T02:56:23.732Z"
   },
   {
    "duration": 15,
    "start_time": "2022-01-30T02:56:23.755Z"
   },
   {
    "duration": 7,
    "start_time": "2022-01-30T02:56:23.772Z"
   },
   {
    "duration": 10,
    "start_time": "2022-01-30T02:56:23.780Z"
   },
   {
    "duration": 6,
    "start_time": "2022-01-30T02:56:23.799Z"
   },
   {
    "duration": 19,
    "start_time": "2022-01-30T02:56:23.807Z"
   },
   {
    "duration": 6,
    "start_time": "2022-01-30T02:56:23.828Z"
   },
   {
    "duration": 17,
    "start_time": "2022-01-30T02:56:23.835Z"
   },
   {
    "duration": 9,
    "start_time": "2022-01-30T02:56:23.854Z"
   },
   {
    "duration": 6,
    "start_time": "2022-01-30T02:56:23.865Z"
   },
   {
    "duration": 33,
    "start_time": "2022-01-30T02:56:23.873Z"
   },
   {
    "duration": 17,
    "start_time": "2022-01-30T02:56:23.908Z"
   },
   {
    "duration": 27,
    "start_time": "2022-01-30T02:56:23.926Z"
   },
   {
    "duration": 24,
    "start_time": "2022-01-30T02:56:23.954Z"
   },
   {
    "duration": 6,
    "start_time": "2022-01-30T02:56:23.999Z"
   },
   {
    "duration": 10,
    "start_time": "2022-01-30T02:56:24.006Z"
   },
   {
    "duration": 9,
    "start_time": "2022-01-30T02:56:24.018Z"
   },
   {
    "duration": 13,
    "start_time": "2022-01-30T02:56:24.029Z"
   },
   {
    "duration": 15,
    "start_time": "2022-01-30T02:56:26.039Z"
   },
   {
    "duration": 12,
    "start_time": "2022-01-30T02:56:26.680Z"
   },
   {
    "duration": 6,
    "start_time": "2022-01-30T02:56:32.572Z"
   },
   {
    "duration": 6,
    "start_time": "2022-01-30T02:59:00.816Z"
   },
   {
    "duration": 7,
    "start_time": "2022-01-30T03:02:12.637Z"
   },
   {
    "duration": 90,
    "start_time": "2022-01-30T03:02:56.379Z"
   },
   {
    "duration": 10,
    "start_time": "2022-01-30T03:04:15.441Z"
   },
   {
    "duration": 5,
    "start_time": "2022-01-30T03:04:29.109Z"
   },
   {
    "duration": 8,
    "start_time": "2022-01-30T03:05:10.464Z"
   },
   {
    "duration": 86,
    "start_time": "2022-01-30T03:05:44.870Z"
   },
   {
    "duration": 5,
    "start_time": "2022-01-30T03:06:20.072Z"
   },
   {
    "duration": 333,
    "start_time": "2022-01-30T03:06:36.878Z"
   },
   {
    "duration": 8,
    "start_time": "2022-01-30T03:06:43.041Z"
   },
   {
    "duration": 9,
    "start_time": "2022-01-30T03:10:05.717Z"
   },
   {
    "duration": 8,
    "start_time": "2022-01-30T03:10:11.512Z"
   },
   {
    "duration": 6,
    "start_time": "2022-01-30T03:16:22.175Z"
   },
   {
    "duration": 9,
    "start_time": "2022-01-30T03:17:00.391Z"
   },
   {
    "duration": 4,
    "start_time": "2022-01-30T03:28:58.305Z"
   },
   {
    "duration": 10,
    "start_time": "2022-01-30T03:29:05.346Z"
   },
   {
    "duration": 11,
    "start_time": "2022-01-30T03:29:15.562Z"
   },
   {
    "duration": 12,
    "start_time": "2022-01-30T03:29:27.415Z"
   },
   {
    "duration": 733,
    "start_time": "2022-01-30T03:29:33.923Z"
   },
   {
    "duration": 252,
    "start_time": "2022-01-30T03:29:42.974Z"
   },
   {
    "duration": 45,
    "start_time": "2022-01-30T03:30:14.928Z"
   },
   {
    "duration": 58,
    "start_time": "2022-01-30T03:30:14.975Z"
   },
   {
    "duration": 4,
    "start_time": "2022-01-30T03:30:15.035Z"
   },
   {
    "duration": 19,
    "start_time": "2022-01-30T03:30:15.041Z"
   },
   {
    "duration": 12,
    "start_time": "2022-01-30T03:30:15.062Z"
   },
   {
    "duration": 5,
    "start_time": "2022-01-30T03:30:15.076Z"
   },
   {
    "duration": 5,
    "start_time": "2022-01-30T03:30:15.099Z"
   },
   {
    "duration": 4,
    "start_time": "2022-01-30T03:30:15.106Z"
   },
   {
    "duration": 6,
    "start_time": "2022-01-30T03:30:15.112Z"
   },
   {
    "duration": 14,
    "start_time": "2022-01-30T03:30:15.119Z"
   },
   {
    "duration": 12,
    "start_time": "2022-01-30T03:30:15.134Z"
   },
   {
    "duration": 54,
    "start_time": "2022-01-30T03:30:15.147Z"
   },
   {
    "duration": 5,
    "start_time": "2022-01-30T03:30:15.203Z"
   },
   {
    "duration": 6,
    "start_time": "2022-01-30T03:30:15.209Z"
   },
   {
    "duration": 5,
    "start_time": "2022-01-30T03:30:15.217Z"
   },
   {
    "duration": 13,
    "start_time": "2022-01-30T03:30:15.223Z"
   },
   {
    "duration": 8,
    "start_time": "2022-01-30T03:30:15.238Z"
   },
   {
    "duration": 77,
    "start_time": "2022-01-30T03:30:15.248Z"
   },
   {
    "duration": 4,
    "start_time": "2022-01-30T03:30:15.326Z"
   },
   {
    "duration": 9,
    "start_time": "2022-01-30T03:30:15.332Z"
   },
   {
    "duration": 8,
    "start_time": "2022-01-30T03:30:15.343Z"
   },
   {
    "duration": 6,
    "start_time": "2022-01-30T03:30:15.352Z"
   },
   {
    "duration": 8,
    "start_time": "2022-01-30T03:30:15.362Z"
   },
   {
    "duration": 34,
    "start_time": "2022-01-30T03:30:15.372Z"
   },
   {
    "duration": 11,
    "start_time": "2022-01-30T03:30:15.408Z"
   },
   {
    "duration": 4,
    "start_time": "2022-01-30T03:30:15.420Z"
   },
   {
    "duration": 15,
    "start_time": "2022-01-30T03:30:15.426Z"
   },
   {
    "duration": 10,
    "start_time": "2022-01-30T03:30:15.443Z"
   },
   {
    "duration": 6,
    "start_time": "2022-01-30T03:30:15.455Z"
   },
   {
    "duration": 37,
    "start_time": "2022-01-30T03:30:15.463Z"
   },
   {
    "duration": 11,
    "start_time": "2022-01-30T03:30:15.502Z"
   },
   {
    "duration": 28,
    "start_time": "2022-01-30T03:30:15.515Z"
   },
   {
    "duration": 24,
    "start_time": "2022-01-30T03:30:15.545Z"
   },
   {
    "duration": 32,
    "start_time": "2022-01-30T03:30:15.571Z"
   },
   {
    "duration": 9,
    "start_time": "2022-01-30T03:30:15.605Z"
   },
   {
    "duration": 9,
    "start_time": "2022-01-30T03:30:15.616Z"
   },
   {
    "duration": 13,
    "start_time": "2022-01-30T03:30:15.627Z"
   },
   {
    "duration": 14,
    "start_time": "2022-01-30T03:30:15.641Z"
   },
   {
    "duration": 43,
    "start_time": "2022-01-30T03:30:15.656Z"
   },
   {
    "duration": 6,
    "start_time": "2022-01-30T03:30:15.702Z"
   },
   {
    "duration": 13,
    "start_time": "2022-01-30T03:30:15.709Z"
   },
   {
    "duration": 9,
    "start_time": "2022-01-30T03:30:15.724Z"
   },
   {
    "duration": 9,
    "start_time": "2022-01-30T03:30:15.735Z"
   },
   {
    "duration": 13,
    "start_time": "2022-01-30T03:30:15.745Z"
   },
   {
    "duration": 17,
    "start_time": "2022-01-30T03:30:15.760Z"
   },
   {
    "duration": 23,
    "start_time": "2022-01-30T03:30:15.779Z"
   },
   {
    "duration": 11,
    "start_time": "2022-01-30T03:30:15.804Z"
   },
   {
    "duration": 30,
    "start_time": "2022-01-30T03:30:15.817Z"
   },
   {
    "duration": 8,
    "start_time": "2022-01-30T03:30:15.849Z"
   },
   {
    "duration": 9,
    "start_time": "2022-01-30T03:30:15.859Z"
   },
   {
    "duration": 12,
    "start_time": "2022-01-30T03:30:15.870Z"
   },
   {
    "duration": 10,
    "start_time": "2022-01-30T03:30:18.172Z"
   },
   {
    "duration": 17,
    "start_time": "2022-01-30T03:30:18.865Z"
   },
   {
    "duration": 4,
    "start_time": "2022-01-30T03:32:46.588Z"
   },
   {
    "duration": 1347,
    "start_time": "2022-01-30T03:32:48.028Z"
   },
   {
    "duration": 4,
    "start_time": "2022-01-30T03:33:27.771Z"
   },
   {
    "duration": 24,
    "start_time": "2022-01-30T03:33:28.458Z"
   },
   {
    "duration": 59,
    "start_time": "2022-01-30T03:34:40.400Z"
   },
   {
    "duration": 269,
    "start_time": "2022-01-30T03:41:38.592Z"
   },
   {
    "duration": 277,
    "start_time": "2022-01-30T03:41:42.370Z"
   },
   {
    "duration": 769,
    "start_time": "2022-01-30T03:42:01.024Z"
   },
   {
    "duration": 9,
    "start_time": "2022-01-30T03:42:31.898Z"
   },
   {
    "duration": 11,
    "start_time": "2022-01-30T03:42:42.792Z"
   },
   {
    "duration": 9,
    "start_time": "2022-01-30T03:43:16.181Z"
   },
   {
    "duration": 12,
    "start_time": "2022-01-30T03:43:21.335Z"
   },
   {
    "duration": 11,
    "start_time": "2022-01-30T03:43:32.036Z"
   },
   {
    "duration": 12,
    "start_time": "2022-01-30T03:44:44.591Z"
   },
   {
    "duration": 4,
    "start_time": "2022-01-30T03:52:50.872Z"
   },
   {
    "duration": 22,
    "start_time": "2022-01-30T03:52:51.344Z"
   },
   {
    "duration": 12,
    "start_time": "2022-01-30T03:53:41.797Z"
   },
   {
    "duration": 34,
    "start_time": "2022-01-30T03:54:03.634Z"
   },
   {
    "duration": 58,
    "start_time": "2022-01-30T03:54:47.401Z"
   },
   {
    "duration": 19,
    "start_time": "2022-01-30T03:55:35.654Z"
   },
   {
    "duration": 9,
    "start_time": "2022-01-30T03:56:01.441Z"
   },
   {
    "duration": 9,
    "start_time": "2022-01-30T03:56:08.900Z"
   },
   {
    "duration": 22,
    "start_time": "2022-01-30T03:57:05.183Z"
   },
   {
    "duration": 272,
    "start_time": "2022-01-30T03:59:42.635Z"
   },
   {
    "duration": 14,
    "start_time": "2022-01-30T04:00:26.671Z"
   },
   {
    "duration": 20,
    "start_time": "2022-01-30T04:00:35.745Z"
   },
   {
    "duration": 22,
    "start_time": "2022-01-30T04:01:27.495Z"
   },
   {
    "duration": 22,
    "start_time": "2022-01-30T04:01:43.827Z"
   },
   {
    "duration": 700,
    "start_time": "2022-01-30T04:02:23.226Z"
   },
   {
    "duration": 22,
    "start_time": "2022-01-30T04:02:29.420Z"
   },
   {
    "duration": 93,
    "start_time": "2022-01-30T04:02:44.771Z"
   },
   {
    "duration": 97,
    "start_time": "2022-01-30T04:03:47.614Z"
   },
   {
    "duration": 85,
    "start_time": "2022-01-30T04:03:57.797Z"
   },
   {
    "duration": 88,
    "start_time": "2022-01-30T04:04:12.596Z"
   },
   {
    "duration": 92,
    "start_time": "2022-01-30T04:04:19.616Z"
   },
   {
    "duration": 20777,
    "start_time": "2022-01-30T04:04:28.502Z"
   },
   {
    "duration": 22145,
    "start_time": "2022-01-30T04:05:33.207Z"
   },
   {
    "duration": 90,
    "start_time": "2022-01-30T04:06:05.785Z"
   },
   {
    "duration": 86,
    "start_time": "2022-01-30T04:07:13.107Z"
   },
   {
    "duration": 93,
    "start_time": "2022-01-30T04:08:27.843Z"
   },
   {
    "duration": 90,
    "start_time": "2022-01-30T04:11:28.524Z"
   },
   {
    "duration": 87,
    "start_time": "2022-01-30T04:11:38.046Z"
   },
   {
    "duration": 89,
    "start_time": "2022-01-30T04:11:52.170Z"
   },
   {
    "duration": 21,
    "start_time": "2022-01-30T04:12:05.580Z"
   },
   {
    "duration": 90,
    "start_time": "2022-01-30T04:15:40.578Z"
   },
   {
    "duration": 87,
    "start_time": "2022-01-30T04:16:13.803Z"
   },
   {
    "duration": 20,
    "start_time": "2022-01-30T04:18:32.319Z"
   },
   {
    "duration": 21,
    "start_time": "2022-01-30T04:19:18.785Z"
   },
   {
    "duration": 25,
    "start_time": "2022-01-30T04:19:28.781Z"
   },
   {
    "duration": 90,
    "start_time": "2022-01-30T04:27:33.567Z"
   },
   {
    "duration": 7,
    "start_time": "2022-01-30T04:33:09.119Z"
   },
   {
    "duration": 12,
    "start_time": "2022-01-30T04:33:12.795Z"
   },
   {
    "duration": 7,
    "start_time": "2022-01-30T04:37:26.929Z"
   },
   {
    "duration": 12,
    "start_time": "2022-01-30T04:37:29.151Z"
   },
   {
    "duration": 9,
    "start_time": "2022-01-30T04:43:10.557Z"
   },
   {
    "duration": 16,
    "start_time": "2022-01-30T04:43:18.755Z"
   },
   {
    "duration": 12,
    "start_time": "2022-01-30T04:45:13.889Z"
   },
   {
    "duration": 7475,
    "start_time": "2022-01-30T04:50:48.169Z"
   },
   {
    "duration": 8,
    "start_time": "2022-01-30T04:51:07.652Z"
   },
   {
    "duration": 7,
    "start_time": "2022-01-30T04:51:48.307Z"
   },
   {
    "duration": 8,
    "start_time": "2022-01-30T04:52:33.281Z"
   },
   {
    "duration": 8,
    "start_time": "2022-01-30T04:53:26.376Z"
   },
   {
    "duration": 8,
    "start_time": "2022-01-30T04:57:23.492Z"
   },
   {
    "duration": 7,
    "start_time": "2022-01-30T04:57:41.606Z"
   },
   {
    "duration": 8,
    "start_time": "2022-01-30T04:57:52.056Z"
   },
   {
    "duration": 97,
    "start_time": "2022-01-30T05:02:21.297Z"
   },
   {
    "duration": 268,
    "start_time": "2022-01-30T05:07:11.554Z"
   },
   {
    "duration": 8,
    "start_time": "2022-01-30T05:07:15.550Z"
   },
   {
    "duration": 6,
    "start_time": "2022-01-30T05:07:31.721Z"
   },
   {
    "duration": 445,
    "start_time": "2022-01-30T05:07:40.439Z"
   },
   {
    "duration": 10,
    "start_time": "2022-01-30T05:07:51.628Z"
   },
   {
    "duration": 12,
    "start_time": "2022-01-30T05:08:06.946Z"
   },
   {
    "duration": 9,
    "start_time": "2022-01-30T05:09:42.894Z"
   },
   {
    "duration": 13,
    "start_time": "2022-01-30T05:09:52.934Z"
   },
   {
    "duration": 4,
    "start_time": "2022-01-30T05:11:07.617Z"
   },
   {
    "duration": 8,
    "start_time": "2022-01-30T05:11:18.821Z"
   },
   {
    "duration": 265,
    "start_time": "2022-01-30T05:17:54.363Z"
   },
   {
    "duration": 4,
    "start_time": "2022-01-30T05:18:00.790Z"
   },
   {
    "duration": 8,
    "start_time": "2022-01-30T05:18:08.743Z"
   },
   {
    "duration": 45,
    "start_time": "2022-01-30T05:18:27.029Z"
   },
   {
    "duration": 58,
    "start_time": "2022-01-30T05:18:27.075Z"
   },
   {
    "duration": 5,
    "start_time": "2022-01-30T05:18:27.135Z"
   },
   {
    "duration": 6,
    "start_time": "2022-01-30T05:18:27.142Z"
   },
   {
    "duration": 6,
    "start_time": "2022-01-30T05:18:27.150Z"
   },
   {
    "duration": 4,
    "start_time": "2022-01-30T05:18:27.158Z"
   },
   {
    "duration": 38,
    "start_time": "2022-01-30T05:18:27.164Z"
   },
   {
    "duration": 4,
    "start_time": "2022-01-30T05:18:27.206Z"
   },
   {
    "duration": 9,
    "start_time": "2022-01-30T05:18:27.212Z"
   },
   {
    "duration": 13,
    "start_time": "2022-01-30T05:18:27.223Z"
   },
   {
    "duration": 13,
    "start_time": "2022-01-30T05:18:27.238Z"
   },
   {
    "duration": 63,
    "start_time": "2022-01-30T05:18:27.253Z"
   },
   {
    "duration": 6,
    "start_time": "2022-01-30T05:18:27.318Z"
   },
   {
    "duration": 7,
    "start_time": "2022-01-30T05:18:27.326Z"
   },
   {
    "duration": 11,
    "start_time": "2022-01-30T05:18:27.335Z"
   },
   {
    "duration": 15,
    "start_time": "2022-01-30T05:18:27.347Z"
   },
   {
    "duration": 40,
    "start_time": "2022-01-30T05:18:27.364Z"
   },
   {
    "duration": 47,
    "start_time": "2022-01-30T05:18:27.407Z"
   },
   {
    "duration": 5,
    "start_time": "2022-01-30T05:18:27.455Z"
   },
   {
    "duration": 12,
    "start_time": "2022-01-30T05:18:27.461Z"
   },
   {
    "duration": 28,
    "start_time": "2022-01-30T05:18:27.475Z"
   },
   {
    "duration": 6,
    "start_time": "2022-01-30T05:18:27.504Z"
   },
   {
    "duration": 6,
    "start_time": "2022-01-30T05:18:27.514Z"
   },
   {
    "duration": 8,
    "start_time": "2022-01-30T05:18:27.522Z"
   },
   {
    "duration": 12,
    "start_time": "2022-01-30T05:18:27.532Z"
   },
   {
    "duration": 4,
    "start_time": "2022-01-30T05:18:27.545Z"
   },
   {
    "duration": 48,
    "start_time": "2022-01-30T05:18:27.551Z"
   },
   {
    "duration": 8,
    "start_time": "2022-01-30T05:18:27.601Z"
   },
   {
    "duration": 6,
    "start_time": "2022-01-30T05:18:27.611Z"
   },
   {
    "duration": 9,
    "start_time": "2022-01-30T05:18:27.619Z"
   },
   {
    "duration": 12,
    "start_time": "2022-01-30T05:18:27.630Z"
   },
   {
    "duration": 55,
    "start_time": "2022-01-30T05:18:27.644Z"
   },
   {
    "duration": 22,
    "start_time": "2022-01-30T05:18:27.701Z"
   },
   {
    "duration": 6,
    "start_time": "2022-01-30T05:18:27.725Z"
   },
   {
    "duration": 10,
    "start_time": "2022-01-30T05:18:27.732Z"
   },
   {
    "duration": 10,
    "start_time": "2022-01-30T05:18:27.744Z"
   },
   {
    "duration": 47,
    "start_time": "2022-01-30T05:18:27.755Z"
   },
   {
    "duration": 11,
    "start_time": "2022-01-30T05:18:27.804Z"
   },
   {
    "duration": 8,
    "start_time": "2022-01-30T05:18:27.817Z"
   },
   {
    "duration": 5,
    "start_time": "2022-01-30T05:18:27.827Z"
   },
   {
    "duration": 8,
    "start_time": "2022-01-30T05:18:27.833Z"
   },
   {
    "duration": 8,
    "start_time": "2022-01-30T05:18:27.843Z"
   },
   {
    "duration": 45,
    "start_time": "2022-01-30T05:18:27.853Z"
   },
   {
    "duration": 5,
    "start_time": "2022-01-30T05:18:27.900Z"
   },
   {
    "duration": 9,
    "start_time": "2022-01-30T05:18:27.906Z"
   },
   {
    "duration": 7,
    "start_time": "2022-01-30T05:18:27.917Z"
   },
   {
    "duration": 11,
    "start_time": "2022-01-30T05:18:27.925Z"
   },
   {
    "duration": 9,
    "start_time": "2022-01-30T05:18:27.937Z"
   },
   {
    "duration": 5,
    "start_time": "2022-01-30T05:18:27.948Z"
   },
   {
    "duration": 9,
    "start_time": "2022-01-30T05:18:27.955Z"
   },
   {
    "duration": 42,
    "start_time": "2022-01-30T05:18:27.966Z"
   },
   {
    "duration": 18,
    "start_time": "2022-01-30T05:18:28.009Z"
   },
   {
    "duration": 11,
    "start_time": "2022-01-30T05:18:28.029Z"
   },
   {
    "duration": 11,
    "start_time": "2022-01-30T05:18:28.041Z"
   },
   {
    "duration": 46,
    "start_time": "2022-01-30T05:18:28.054Z"
   },
   {
    "duration": 59,
    "start_time": "2022-01-30T05:18:28.101Z"
   },
   {
    "duration": 3,
    "start_time": "2022-01-30T05:18:28.162Z"
   },
   {
    "duration": 42,
    "start_time": "2022-01-30T05:18:28.167Z"
   },
   {
    "duration": 13,
    "start_time": "2022-01-30T05:18:28.211Z"
   },
   {
    "duration": 104,
    "start_time": "2022-01-30T05:18:28.226Z"
   },
   {
    "duration": 101,
    "start_time": "2022-01-30T05:18:28.331Z"
   },
   {
    "duration": 20,
    "start_time": "2022-01-30T05:18:28.434Z"
   },
   {
    "duration": 104,
    "start_time": "2022-01-30T05:18:28.456Z"
   },
   {
    "duration": 91,
    "start_time": "2022-01-30T05:18:28.561Z"
   },
   {
    "duration": 21,
    "start_time": "2022-01-30T05:18:28.654Z"
   },
   {
    "duration": 39,
    "start_time": "2022-01-30T05:18:28.676Z"
   },
   {
    "duration": 7,
    "start_time": "2022-01-30T05:18:28.717Z"
   },
   {
    "duration": 12,
    "start_time": "2022-01-30T05:18:28.729Z"
   },
   {
    "duration": 8,
    "start_time": "2022-01-30T05:18:28.743Z"
   },
   {
    "duration": 11,
    "start_time": "2022-01-30T05:18:28.753Z"
   },
   {
    "duration": 43,
    "start_time": "2022-01-30T05:18:28.766Z"
   },
   {
    "duration": 9,
    "start_time": "2022-01-30T05:18:28.811Z"
   },
   {
    "duration": 13,
    "start_time": "2022-01-30T05:18:28.822Z"
   },
   {
    "duration": 10,
    "start_time": "2022-01-30T05:18:28.836Z"
   },
   {
    "duration": 7,
    "start_time": "2022-01-30T05:18:28.848Z"
   },
   {
    "duration": 8,
    "start_time": "2022-01-30T05:18:28.857Z"
   },
   {
    "duration": 38,
    "start_time": "2022-01-30T05:18:28.867Z"
   },
   {
    "duration": 20,
    "start_time": "2022-01-30T05:18:28.907Z"
   },
   {
    "duration": 9,
    "start_time": "2022-01-30T05:18:28.928Z"
   },
   {
    "duration": 9,
    "start_time": "2022-01-30T05:18:44.891Z"
   },
   {
    "duration": 13,
    "start_time": "2022-01-30T05:20:00.497Z"
   },
   {
    "duration": 278,
    "start_time": "2022-01-30T05:20:47.363Z"
   },
   {
    "duration": 10,
    "start_time": "2022-01-30T05:20:54.219Z"
   },
   {
    "duration": 14,
    "start_time": "2022-01-30T05:24:05.387Z"
   },
   {
    "duration": 9,
    "start_time": "2022-01-30T05:24:54.672Z"
   },
   {
    "duration": 9,
    "start_time": "2022-01-30T05:27:50.525Z"
   },
   {
    "duration": 10,
    "start_time": "2022-01-30T05:31:36.588Z"
   },
   {
    "duration": 12,
    "start_time": "2022-01-30T05:32:05.694Z"
   },
   {
    "duration": 10,
    "start_time": "2022-01-30T05:33:24.806Z"
   },
   {
    "duration": 12,
    "start_time": "2022-01-30T05:33:25.616Z"
   },
   {
    "duration": 14,
    "start_time": "2022-01-30T05:34:29.646Z"
   },
   {
    "duration": 9,
    "start_time": "2022-01-30T05:34:30.517Z"
   },
   {
    "duration": 95,
    "start_time": "2022-01-30T05:34:31.090Z"
   },
   {
    "duration": 14,
    "start_time": "2022-01-30T05:37:27.081Z"
   },
   {
    "duration": 9,
    "start_time": "2022-01-30T05:38:14.107Z"
   },
   {
    "duration": 13,
    "start_time": "2022-01-30T05:55:03.481Z"
   },
   {
    "duration": 8,
    "start_time": "2022-01-30T05:55:04.749Z"
   }
  ],
  "kernelspec": {
   "display_name": "Python 3",
   "language": "python",
   "name": "python3"
  },
  "language_info": {
   "codemirror_mode": {
    "name": "ipython",
    "version": 3
   },
   "file_extension": ".py",
   "mimetype": "text/x-python",
   "name": "python",
   "nbconvert_exporter": "python",
   "pygments_lexer": "ipython3",
   "version": "3.8.8"
  },
  "toc": {
   "base_numbering": 1,
   "nav_menu": {},
   "number_sections": true,
   "sideBar": true,
   "skip_h1_title": true,
   "title_cell": "Table of Contents",
   "title_sidebar": "Contents",
   "toc_cell": false,
   "toc_position": {},
   "toc_section_display": true,
   "toc_window_display": false
  }
 },
 "nbformat": 4,
 "nbformat_minor": 2
}
